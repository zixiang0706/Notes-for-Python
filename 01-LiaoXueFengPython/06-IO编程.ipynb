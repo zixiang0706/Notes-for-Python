{
 "cells": [
  {
   "cell_type": "markdown",
   "metadata": {},
   "source": [
    "# 文件读写\n"
   ]
  },
  {
   "cell_type": "code",
   "execution_count": 4,
   "metadata": {},
   "outputs": [
    {
     "name": "stdout",
     "output_type": "stream",
     "text": [
      "ip=10.19.10.132\n",
      "user=andrew\n",
      "password=12345678\n"
     ]
    }
   ],
   "source": [
    "# 一次性读取整个文件：\n",
    "fpatead())h = \"./asset/config.txt\"\n",
    "with open(fpath, 'r') as f:\n",
    "    print(f.r"
   ]
  },
  {
   "cell_type": "code",
   "execution_count": 5,
   "metadata": {},
   "outputs": [
    {
     "name": "stdout",
     "output_type": "stream",
     "text": [
      "ip=10.19.10.132\n",
      "user=andrew\n",
      "password=12345678\n"
     ]
    }
   ],
   "source": [
    "# readline\n",
    "with open(fpath, 'r') as f:\n",
    "    line = f.readline()\n",
    "    while line:      \n",
    "        print(line.strip()) # 把末尾的'\\n'删掉\n",
    "        line = f.readline()"
   ]
  },
  {
   "cell_type": "code",
   "execution_count": 6,
   "metadata": {},
   "outputs": [
    {
     "name": "stdout",
     "output_type": "stream",
     "text": [
      "ip=10.19.10.132\n",
      "user=andrew\n",
      "password=12345678\n"
     ]
    }
   ],
   "source": [
    "# readlines\n",
    "with open(fpath, 'r') as f:\n",
    "    lines = f.readlines() # lines是一个列表\n",
    "    for line in lines:\n",
    "        print(line.strip()) # 把末尾的'\\n'删掉"
   ]
  },
  {
   "cell_type": "code",
   "execution_count": 7,
   "metadata": {},
   "outputs": [],
   "source": [
    "# write\n",
    "with open(fpath, 'w') as f:\n",
    "    f.write('Hello, world!')"
   ]
  },
  {
   "cell_type": "code",
   "execution_count": 8,
   "metadata": {},
   "outputs": [],
   "source": [
    "# append\n",
    "with open(fpath, 'a') as f:\n",
    "    f.write('Hello, world!')"
   ]
  },
  {
   "cell_type": "code",
   "execution_count": null,
   "metadata": {},
   "outputs": [],
   "source": []
  }
 ],
 "metadata": {
  "kernelspec": {
   "display_name": "Python 3",
   "language": "python",
   "name": "python3"
  },
  "language_info": {
   "codemirror_mode": {
    "name": "ipython",
    "version": 3
   },
   "file_extension": ".py",
   "mimetype": "text/x-python",
   "name": "python",
   "nbconvert_exporter": "python",
   "pygments_lexer": "ipython3",
   "version": "3.7.3"
  },
  "toc": {
   "base_numbering": 1,
   "nav_menu": {},
   "number_sections": true,
   "sideBar": true,
   "skip_h1_title": false,
   "title_cell": "Table of Contents",
   "title_sidebar": "Contents",
   "toc_cell": false,
   "toc_position": {},
   "toc_section_display": true,
   "toc_window_display": false
  }
 },
 "nbformat": 4,
 "nbformat_minor": 2
}
