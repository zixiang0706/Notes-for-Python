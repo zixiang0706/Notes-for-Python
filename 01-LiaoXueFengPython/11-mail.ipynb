{
 "cells": [
  {
   "cell_type": "markdown",
   "metadata": {},
   "source": [
    "# mail\n",
    "\n",
    "发件人 -> MUA -> MTA -> MTA -> 若干个MTA -> MDA <- MUA <- 收件人\n",
    "- MUA: mail user agent. the client sw\n",
    "- MTA: mail transfer agent. the company like QQ\n",
    "- MDA: mail delivery agent. the destination where temperarily store the mail\n",
    "\n",
    "\n",
    "有了上述基本概念，要编写程序来发送和接收邮件，本质上就是：  \n",
    "1. 编写MUA把邮件发到MTA；\n",
    "2. 编写MUA从MDA上收邮件。\n",
    "\n",
    "发邮件时，MUA和MTA使用的协议就是SMTP：Simple Mail Transfer Protocol，后面的MTA到另一个MTA也是用SMTP协议。\n",
    "收邮件时，MUA和MDA使用的协议有两种：POP：Post Office Protocol，目前版本是3，俗称POP3；IMAP：Internet Message Access Protocol，目前版本是4，优点是不但能取邮件，还可以直接操作MDA上存储的邮件，比如从收件箱移到垃圾箱，等等。\n",
    "\n",
    "邮件客户端软件在发邮件时，会让你先配置SMTP服务器，也就是你要发到哪个MTA上。假设你正在使用163的邮箱，你就不能直接发到新浪的MTA上，因为它只服务新浪的用户，所以，你得填163提供的SMTP服务器地址：smtp.163.com，为了证明你是163的用户，SMTP服务器还要求你填写邮箱地址和邮箱口令，这样，MUA才能正常地把Email通过SMTP协议发送到MTA。\n",
    "\n",
    "类似的，从MDA收邮件时，MDA服务器也要求验证你的邮箱口令，确保不会有人冒充你收取你的邮件，所以，Outlook之类的邮件客户端会要求你填写POP3或IMAP服务器地址、邮箱地址和口令，这样，MUA才能顺利地通过POP或IMAP协议从MDA取到邮件。\n"
   ]
  },
  {
   "cell_type": "markdown",
   "metadata": {},
   "source": [
    "## SMTP发邮件\n",
    "Python对SMTP支持有smtplib和email两个模块，email负责构造邮件，smtplib负责发送邮件。\n",
    "\n",
    "如果我们查看Email的原始内容，可以看到如下经过编码的邮件头：\n",
    "\n",
    "From: =?utf-8?b?UHl0aG9u54ix5aW96ICF?= <xxxxxx@163.com>\n",
    "To: =?utf-8?b?566h55CG5ZGY?= <xxxxxx@qq.com>\n",
    "Subject: =?utf-8?b?5p2l6IeqU01UUOeahOmXruWAmeKApuKApg==?=\n",
    "这就是经过Header对象编码的文本，包含utf-8编码信息和Base64编码的文本。如果我们自己来手动构造这样的编码文本，显然比较复杂。\n",
    "\n"
   ]
  },
  {
   "cell_type": "code",
   "execution_count": 4,
   "metadata": {},
   "outputs": [
    {
     "name": "stderr",
     "output_type": "stream",
     "text": [
      "send: 'ehlo cpe-172-100-97-124.twcny.res.rr.com\\r\\n'\n",
      "reply: b'250-mail\\r\\n'\n",
      "reply: b'250-PIPELINING\\r\\n'\n",
      "reply: b'250-AUTH LOGIN PLAIN\\r\\n'\n",
      "reply: b'250-AUTH=LOGIN PLAIN\\r\\n'\n",
      "reply: b'250-coremail 1Uxr2xKj7kG0xkI17xGrU7I0s8FY2U3Uj8Cz28x1UUUUU7Ic2I0Y2UFX083qUCa0xDrUUUUj\\r\\n'\n",
      "reply: b'250-STARTTLS\\r\\n'\n",
      "reply: b'250 8BITMIME\\r\\n'\n",
      "reply: retcode (250); Msg: b'mail\\nPIPELINING\\nAUTH LOGIN PLAIN\\nAUTH=LOGIN PLAIN\\ncoremail 1Uxr2xKj7kG0xkI17xGrU7I0s8FY2U3Uj8Cz28x1UUUUU7Ic2I0Y2UFX083qUCa0xDrUUUUj\\nSTARTTLS\\n8BITMIME'\n",
      "send: 'AUTH PLAIN AHppeGlhbmcwNzA2QDE2My5jb20AemkwNzA2MjI0\\r\\n'\n",
      "reply: b'235 Authentication successful\\r\\n'\n",
      "reply: retcode (235); Msg: b'Authentication successful'\n",
      "send: 'mail FROM:<zixiang0706@163.com>\\r\\n'\n",
      "reply: b'250 Mail OK\\r\\n'\n",
      "reply: retcode (250); Msg: b'Mail OK'\n",
      "send: 'rcpt TO:<809334946@qq.com>\\r\\n'\n",
      "reply: b'250 Mail OK\\r\\n'\n",
      "reply: retcode (250); Msg: b'Mail OK'\n",
      "send: 'data\\r\\n'\n",
      "reply: b'354 End data with <CR><LF>.<CR><LF>\\r\\n'\n",
      "reply: retcode (354); Msg: b'End data with <CR><LF>.<CR><LF>'\n",
      "data: (354, b'End data with <CR><LF>.<CR><LF>')\n",
      "send: b'Content-Type: text/plain; charset=\"utf-8\"\\r\\nMIME-Version: 1.0\\r\\nContent-Transfer-Encoding: base64\\r\\nFrom: =?utf-8?q?zixiang0706?= <zixiang0706@163.com>\\r\\nTo: =?utf-8?b?566h55CG5ZGY?= <809334946@qq.com>\\r\\nSubject: =?utf-8?b?5LiA5Lqb5L+h5oGv?=\\r\\n\\r\\nc29tZSBpbmZvcm1hdGlvbiBvZiB0aGUgdGVzdCBkYXRh\\r\\n.\\r\\n'\n",
      "reply: b'250 Mail OK queued as smtp13,EcCowAAngPqbAllddXcTIg--.58048S2 1566114460\\r\\n'\n",
      "reply: retcode (250); Msg: b'Mail OK queued as smtp13,EcCowAAngPqbAllddXcTIg--.58048S2 1566114460'\n",
      "data: (250, b'Mail OK queued as smtp13,EcCowAAngPqbAllddXcTIg--.58048S2 1566114460')\n",
      "send: 'quit\\r\\n'\n",
      "reply: b'221 Bye\\r\\n'\n",
      "reply: retcode (221); Msg: b'Bye'\n"
     ]
    },
    {
     "data": {
      "text/plain": [
       "(221, b'Bye')"
      ]
     },
     "execution_count": 4,
     "metadata": {},
     "output_type": "execute_result"
    }
   ],
   "source": [
    "from email import encoders\n",
    "from email.header import Header\n",
    "from email.mime.text import MIMEText\n",
    "from email.utils import parseaddr, formataddr\n",
    "\n",
    "import smtplib\n",
    "\n",
    "\n",
    "def _format_addr(s):\n",
    "    name, addr = parseaddr(s)\n",
    "    return formataddr((Header(name, 'utf-8').encode(), addr))\n",
    "\n",
    "\n",
    "# 输入Email地址和口令:\n",
    "from_addr = \"zixiang0706@163.com\"\n",
    "password = \"zi0706224\"\n",
    "# 输入收件人地址:\n",
    "to_addr = \"809334946@qq.com\"\n",
    "# 输入SMTP服务器地址:\n",
    "smtp_server = \"smtp.163.com\"\n",
    "\n",
    "msg = MIMEText('some information of the test data', 'plain', 'utf-8')\n",
    "msg['From'] = _format_addr('zixiang0706 <{}>'.format(from_addr))\n",
    "msg['To'] = _format_addr('管理员 <{}>'.format( to_addr))\n",
    "msg['Subject'] = Header('一些信息', 'utf-8').encode()\n",
    "\n",
    "server = smtplib.SMTP(smtp_server, 25)\n",
    "server.set_debuglevel(1)\n",
    "server.login(from_addr, password)\n",
    "server.sendmail(from_addr, [to_addr], msg.as_string())\n",
    "server.quit()\n"
   ]
  },
  {
   "cell_type": "markdown",
   "metadata": {},
   "source": [
    "## POP 收取邮件\n",
    "所以，收取邮件分两步：\n",
    "\n",
    "第一步：用poplib把邮件的原始文本下载到本地；\n",
    "\n",
    "第二部：用email解析原始文本，还原为邮件对象。\n",
    "\n",
    "\n",
    "收邮件就不学了，感觉意义不大"
   ]
  }
 ],
 "metadata": {
  "kernelspec": {
   "display_name": "Python 3",
   "language": "python",
   "name": "python3"
  },
  "language_info": {
   "codemirror_mode": {
    "name": "ipython",
    "version": 3
   },
   "file_extension": ".py",
   "mimetype": "text/x-python",
   "name": "python",
   "nbconvert_exporter": "python",
   "pygments_lexer": "ipython3",
   "version": "3.7.3"
  },
  "toc": {
   "base_numbering": 1,
   "nav_menu": {},
   "number_sections": true,
   "sideBar": true,
   "skip_h1_title": false,
   "title_cell": "Table of Contents",
   "title_sidebar": "Contents",
   "toc_cell": false,
   "toc_position": {},
   "toc_section_display": true,
   "toc_window_display": false
  }
 },
 "nbformat": 4,
 "nbformat_minor": 2
}
