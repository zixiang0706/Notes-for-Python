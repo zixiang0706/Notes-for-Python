{
 "cells": [
  {
   "cell_type": "markdown",
   "metadata": {},
   "source": [
    "# TCPIP\n",
    "大多数连接都是可靠的TCP连接。创建TCP连接时，主动发起连接的叫客户端，被动响应连接的叫服务器。\n",
    "## client"
   ]
  },
  {
   "cell_type": "code",
   "execution_count": 5,
   "metadata": {},
   "outputs": [
    {
     "name": "stdout",
     "output_type": "stream",
     "text": [
      "HTTP/1.1 302 Moved Temporarily\r\n",
      "Server: nginx\r\n",
      "Date: Sun, 18 Aug 2019 06:47:12 GMT\r\n",
      "Content-Type: text/html\r\n",
      "Content-Length: 154\r\n",
      "Connection: close\r\n",
      "Location: https://www.sina.com.cn/\r\n",
      "X-Via-CDN: f=edge,s=ctc.nanjing.ha2ts4.92.nb.sinaedge.com,c=219.233.222.198;\r\n",
      "X-Via-Edge: 1566110832595c6dee9db7c5e66ca7b3b2bf2\n"
     ]
    }
   ],
   "source": [
    "# client\n",
    "import socket\n",
    "\n",
    "# 创建一个socket:\n",
    "s = socket.socket(socket.AF_INET, socket.SOCK_STREAM)\n",
    "# 建立连接:\n",
    "s.connect(('www.sina.com.cn', 80))\n",
    "s.send(b'GET / HTTP/1.1\\r\\nHost: www.sina.com.cn\\r\\nConnection: close\\r\\n\\r\\n')\n",
    "# 接收数据:\n",
    "buffer = []\n",
    "while True:\n",
    "    # 每次最多接收1k字节:\n",
    "    d = s.recv(1024)\n",
    "    if d:\n",
    "        buffer.append(d)\n",
    "    else:\n",
    "        break\n",
    "data = b''.join(buffer)\n",
    "s.close()\n",
    "\n",
    "header, html = data.split(b'\\r\\n\\r\\n', 1)\n",
    "print(header.decode('utf-8'))\n",
    "# # 把接收的数据写入文件:\n",
    "# with open('sina.html', 'wb') as f:\n",
    "#     f.write(html)"
   ]
  },
  {
   "cell_type": "code",
   "execution_count": null,
   "metadata": {},
   "outputs": [],
   "source": [
    "# server\n",
    "import socket\n",
    "import threading\n",
    "import time\n",
    "\n",
    "def sever():\n",
    "    '''服务器程序'''\n",
    "    s = socket.socket(socket.AF_INET, socket.SOCK_STREAM)\n",
    "    s.bind(('127.0.0.1', 9999))    # 监听端口\n",
    "    s.listen(5)\n",
    "    print('Waiting for connection...')\n",
    "\n",
    "    while True:\n",
    "        sock, addr = s.accept()    # 接受一个新连接\n",
    "        t = threading.Thread(target=tcplink, args=(sock, addr))    # 创建新线程来处理TCP连接\n",
    "        t.start()\n",
    "\n",
    "def tcplink(sock, addr):\n",
    "    '''收发程序'''\n",
    "    print('Accept new connection from %s:%s...' % addr)\n",
    "    sock.send(b'Welcome!')\n",
    "    while True:\n",
    "        data = sock.recv(1024)\n",
    "        time.sleep(1)\n",
    "        if not data or data.decode('utf-8') == 'exit':\n",
    "            break\n",
    "        sock.send(('Hello, %s!' % data.decode('utf-8')).encode('utf-8'))\n",
    "    sock.close()\n",
    "    print('Connection from %s:%s closed.' % addr)\n",
    "\n",
    "if __name__ == '__main__':\n",
    "    sever()"
   ]
  }
 ],
 "metadata": {
  "kernelspec": {
   "display_name": "Python 3",
   "language": "python",
   "name": "python3"
  },
  "language_info": {
   "codemirror_mode": {
    "name": "ipython",
    "version": 3
   },
   "file_extension": ".py",
   "mimetype": "text/x-python",
   "name": "python",
   "nbconvert_exporter": "python",
   "pygments_lexer": "ipython3",
   "version": "3.7.3"
  },
  "toc": {
   "base_numbering": 1,
   "nav_menu": {},
   "number_sections": true,
   "sideBar": true,
   "skip_h1_title": false,
   "title_cell": "Table of Contents",
   "title_sidebar": "Contents",
   "toc_cell": false,
   "toc_position": {},
   "toc_section_display": true,
   "toc_window_display": false
  }
 },
 "nbformat": 4,
 "nbformat_minor": 2
}
