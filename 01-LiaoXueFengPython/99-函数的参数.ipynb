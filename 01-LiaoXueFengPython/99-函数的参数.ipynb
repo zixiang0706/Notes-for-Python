{
 "cells": [
  {
   "cell_type": "markdown",
   "metadata": {},
   "source": [
    "# 理解函数的参数\n",
    "下面就是简单的函数参数："
   ]
  },
  {
   "cell_type": "code",
   "execution_count": 22,
   "metadata": {},
   "outputs": [
    {
     "name": "stdout",
     "output_type": "stream",
     "text": [
      "a:1 b:2 c:name\n"
     ]
    }
   ],
   "source": [
    "# simple sample of arguement\n",
    "def func(a,b=2,c=\"name\"):\n",
    "    print('a:{} b:{} c:{}'.format(a,b,c))\n",
    "func(1)"
   ]
  },
  {
   "cell_type": "markdown",
   "metadata": {},
   "source": [
    "## 可变参数\n",
    "*argue\n",
    "1. 函数可以定义可变参数： 只是说，这个函数的参数有很多\n",
    "2. list和tuple可以变为可变参数，传入函数： 已经把list解包出来，传给函数了"
   ]
  },
  {
   "cell_type": "code",
   "execution_count": 23,
   "metadata": {},
   "outputs": [
    {
     "name": "stdout",
     "output_type": "stream",
     "text": [
      "arg:  (1, 2, 4)\n",
      "*arg:  1 2 4\n"
     ]
    }
   ],
   "source": [
    "# variable arguement in function\n",
    "def func(*arg):\n",
    "    print(\"arg: \", arg)\n",
    "    print(\"*arg: \", *arg)\n",
    "func(1,2,4)"
   ]
  },
  {
   "cell_type": "code",
   "execution_count": 24,
   "metadata": {},
   "outputs": [
    {
     "name": "stdout",
     "output_type": "stream",
     "text": [
      "arg:  (1, 2, 5)\n",
      "*arg:  1 2 5\n"
     ]
    },
    {
     "data": {
      "text/plain": [
       "([1, 2, 5], 1, 2, 5, None)"
      ]
     },
     "execution_count": 24,
     "metadata": {},
     "output_type": "execute_result"
    }
   ],
   "source": [
    "# variable in list\n",
    "a=[1,2,5]\n",
    "a, *a, func(*a)"
   ]
  },
  {
   "cell_type": "markdown",
   "metadata": {},
   "source": [
    "## 关键字参数\n",
    "**kw\n",
    "类似于之前的，只不过这个是以`a=1`的形式，字典传入"
   ]
  },
  {
   "cell_type": "code",
   "execution_count": 25,
   "metadata": {},
   "outputs": [
    {
     "name": "stdout",
     "output_type": "stream",
     "text": [
      "aa: 1\n",
      "bb: 2\n",
      "c: 3\n"
     ]
    }
   ],
   "source": [
    "a = {\"aa\":1, \"bb\":2, \"c\":3}\n",
    "def func(**kw):\n",
    "    for key,value in kw.items():\n",
    "        print(\"{}: {}\".format(key, value))\n",
    "func(**a)"
   ]
  },
  {
   "cell_type": "markdown",
   "metadata": {},
   "source": [
    "## 综合使用\n",
    "有常规参数，也有可变参数，也有关键字参数"
   ]
  },
  {
   "cell_type": "code",
   "execution_count": 27,
   "metadata": {},
   "outputs": [
    {
     "name": "stdout",
     "output_type": "stream",
     "text": [
      "a:  1\n",
      "b  2\n",
      "c:  3\n",
      "args0: 4\n",
      "args1: 5\n",
      "args2: 6\n",
      "aa: 1\n",
      "bb: 2\n",
      "cc: 3\n"
     ]
    }
   ],
   "source": [
    "def func(a, b, c=100, *args, **kw):\n",
    "    print(\"a: \", a)\n",
    "    print(\"b \", b)\n",
    "    print(\"c: \", c)\n",
    "    \n",
    "    for cnt,item in enumerate(args):\n",
    "        print(\"args{}: {}\".format(cnt, item))\n",
    "    for key,value in kw.items():\n",
    "        print(\"{}: {}\".format(key, value))\n",
    "\n",
    "args = [4,5,6]\n",
    "kw = {\"aa\":1, \"bb\":2, \"cc\":3}\n",
    "func(1,2,3, *args, **kw)"
   ]
  },
  {
   "cell_type": "code",
   "execution_count": null,
   "metadata": {},
   "outputs": [],
   "source": []
  }
 ],
 "metadata": {
  "kernelspec": {
   "display_name": "Python 3",
   "language": "python",
   "name": "python3"
  },
  "language_info": {
   "codemirror_mode": {
    "name": "ipython",
    "version": 3
   },
   "file_extension": ".py",
   "mimetype": "text/x-python",
   "name": "python",
   "nbconvert_exporter": "python",
   "pygments_lexer": "ipython3",
   "version": "3.7.3"
  },
  "toc": {
   "base_numbering": 1,
   "nav_menu": {},
   "number_sections": true,
   "sideBar": true,
   "skip_h1_title": false,
   "title_cell": "Table of Contents",
   "title_sidebar": "Contents",
   "toc_cell": false,
   "toc_position": {},
   "toc_section_display": true,
   "toc_window_display": false
  }
 },
 "nbformat": 4,
 "nbformat_minor": 2
}
