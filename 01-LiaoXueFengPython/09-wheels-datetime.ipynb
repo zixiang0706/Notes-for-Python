{
 "cells": [
  {
   "cell_type": "markdown",
   "metadata": {},
   "source": [
    "# wheels"
   ]
  },
  {
   "cell_type": "markdown",
   "metadata": {},
   "source": [
    "## datetime\n"
   ]
  },
  {
   "cell_type": "code",
   "execution_count": 4,
   "metadata": {},
   "outputs": [
    {
     "name": "stdout",
     "output_type": "stream",
     "text": [
      "2019-08-17 14:57:23.160557\n"
     ]
    }
   ],
   "source": [
    "import datetime\n",
    "t = datetime.datetime.now()\n",
    "print(t)"
   ]
  },
  {
   "cell_type": "code",
   "execution_count": 6,
   "metadata": {},
   "outputs": [
    {
     "name": "stdout",
     "output_type": "stream",
     "text": [
      "2014-05-20 18:00:00\n"
     ]
    }
   ],
   "source": [
    "# get specified date\n",
    "dt = datetime.datetime(2014,5,20,18,00)\n",
    "print(dt)"
   ]
  },
  {
   "cell_type": "code",
   "execution_count": 7,
   "metadata": {},
   "outputs": [
    {
     "data": {
      "text/plain": [
       "1400580000.0"
      ]
     },
     "execution_count": 7,
     "metadata": {},
     "output_type": "execute_result"
    }
   ],
   "source": [
    "# transfer to timestamp\n",
    "ts = dt.timestamp()\n",
    "ts"
   ]
  },
  {
   "cell_type": "code",
   "execution_count": 8,
   "metadata": {},
   "outputs": [
    {
     "name": "stdout",
     "output_type": "stream",
     "text": [
      "2014-05-20 18:00:00\n"
     ]
    }
   ],
   "source": [
    "# get datetime from timestamp\n",
    "print(datetime.datetime.fromtimestamp(ts))"
   ]
  },
  {
   "cell_type": "code",
   "execution_count": 10,
   "metadata": {},
   "outputs": [
    {
     "data": {
      "text/plain": [
       "datetime.datetime(2015, 5, 20, 18, 0)"
      ]
     },
     "execution_count": 10,
     "metadata": {},
     "output_type": "execute_result"
    }
   ],
   "source": [
    "# str to datetime\n",
    "cday = datetime.datetime.strptime(\"2015-5-20 18:00:00\", \"%Y-%m-%d %H:%M:%S\")\n",
    "cday"
   ]
  },
  {
   "cell_type": "code",
   "execution_count": 11,
   "metadata": {},
   "outputs": [
    {
     "data": {
      "text/plain": [
       "'2014-05-20 18:00:00'"
      ]
     },
     "execution_count": 11,
     "metadata": {},
     "output_type": "execute_result"
    }
   ],
   "source": [
    "# str from datetime\n",
    "t = dt.strftime(\"%Y-%m-%d %H:%M:%S\")\n",
    "t"
   ]
  },
  {
   "cell_type": "code",
   "execution_count": 20,
   "metadata": {},
   "outputs": [
    {
     "data": {
      "text/plain": [
       "'16:12:53'"
      ]
     },
     "execution_count": 20,
     "metadata": {},
     "output_type": "execute_result"
    }
   ],
   "source": [
    "# datetime calculate\n",
    "from datetime import datetime, timedelta\n",
    "now = datetime.now()\n",
    "past = now + timedelta(hours=1)\n",
    "past.strftime(\"%H:%M:%S\")"
   ]
  },
  {
   "cell_type": "code",
   "execution_count": 25,
   "metadata": {},
   "outputs": [
    {
     "name": "stdout",
     "output_type": "stream",
     "text": [
      "2019-08-17 15:27:21.304375+01:00\n"
     ]
    }
   ],
   "source": [
    "# set timezone. wrong\n",
    "from datetime import datetime, timezone, timedelta\n",
    "dt = datetime.now()\n",
    "new = dt.replace(tzinfo=timezone(timedelta(hours=1)))\n",
    "print(new)"
   ]
  },
  {
   "cell_type": "code",
   "execution_count": 29,
   "metadata": {},
   "outputs": [
    {
     "name": "stdout",
     "output_type": "stream",
     "text": [
      "2019-08-17 07:29:47.283950+00:00\n"
     ]
    }
   ],
   "source": [
    "# set timezone. right\n",
    "utc_dt = datetime.utcnow().replace(tzinfo=timezone.utc)\n",
    "print(utc_dt)"
   ]
  },
  {
   "cell_type": "code",
   "execution_count": 30,
   "metadata": {},
   "outputs": [
    {
     "name": "stdout",
     "output_type": "stream",
     "text": [
      "2019-08-17 15:29:47.283950+08:00\n"
     ]
    }
   ],
   "source": [
    "bj_dt = utc_dt.astimezone(timezone(timedelta(hours=8)))\n",
    "print(bj_dt)"
   ]
  },
  {
   "cell_type": "code",
   "execution_count": 59,
   "metadata": {},
   "outputs": [
    {
     "name": "stdout",
     "output_type": "stream",
     "text": [
      "ok\n"
     ]
    }
   ],
   "source": [
    "#example: str to datetime\n",
    "import re\n",
    "from datetime import datetime, timezone, timedelta\n",
    "def to_timestamp(dt_str, tz_str):\n",
    "    tz =int(re.match(r\".*?([\\+\\-]\\d*)\",tz_str).groups()[0])\n",
    "    tz_info = timezone(timedelta(hours=tz))\n",
    "    dt = datetime.strptime(dt_str, \"%Y-%m-%d %H:%M:%S\").replace(tzinfo=tz_info)\n",
    "    return dt.timestamp()\n",
    "\n",
    "# 测试:\n",
    "t1 = to_timestamp('2015-6-1 08:10:30', 'UTC+7:00')\n",
    "assert t1 == 1433121030.0, t1\n",
    "\n",
    "t2 = to_timestamp('2015-5-31 16:10:30', 'UTC-09:00')\n",
    "assert t2 == 1433121030.0, t2\n",
    "\n",
    "print('ok')"
   ]
  },
  {
   "cell_type": "code",
   "execution_count": null,
   "metadata": {},
   "outputs": [],
   "source": []
  }
 ],
 "metadata": {
  "kernelspec": {
   "display_name": "Python 3",
   "language": "python",
   "name": "python3"
  },
  "language_info": {
   "codemirror_mode": {
    "name": "ipython",
    "version": 3
   },
   "file_extension": ".py",
   "mimetype": "text/x-python",
   "name": "python",
   "nbconvert_exporter": "python",
   "pygments_lexer": "ipython3",
   "version": "3.7.3"
  },
  "toc": {
   "base_numbering": 1,
   "nav_menu": {},
   "number_sections": true,
   "sideBar": true,
   "skip_h1_title": false,
   "title_cell": "Table of Contents",
   "title_sidebar": "Contents",
   "toc_cell": false,
   "toc_position": {},
   "toc_section_display": true,
   "toc_window_display": false
  }
 },
 "nbformat": 4,
 "nbformat_minor": 2
}
