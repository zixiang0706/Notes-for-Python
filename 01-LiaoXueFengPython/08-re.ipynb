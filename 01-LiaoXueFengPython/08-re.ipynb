{
 "cells": [
  {
   "cell_type": "markdown",
   "metadata": {},
   "source": [
    "# 正则表达式\n",
    "正则表达式是一种用来匹配字符串的强有力的武器  \n",
    "因为正则表达式也是用字符串表示的，所以，我们要首先了解如何用字符来描述字符。\n",
    "\n",
    "## 精确匹配\n",
    "- `\\d`可以匹配一个数字\n",
    "- `\\w`：一个字母/数字\n",
    "- `\\s`：一个空格（也包括Tab等空白符）\n",
    "- `.`：任意一个字符,不包括`\\n`,可以使用re.S\n",
    "- `*`：任意个字符（包括0个）\n",
    "- `+`：至少一个字符\n",
    "- `?`：0-1个\n",
    "- `+?`: 取消默认的贪婪匹配b\n",
    "- `{n}`：n个字符\n",
    "- `{n,m}`：n-m个字符\n",
    "\n",
    "举例：`\\d{3}\\s+\\d{3,8}`\n",
    "- `\\d{3}`: 三个数字\n",
    "- `\\s+`: 至少一个空格\n",
    "- `\\d{3,8}`：3-8个数字\n",
    "## 范围匹配\n",
    "- `[]`是表示范围\n",
    "- `{}`表示个数\n",
    "- `(a|b)`表示a或者b\n",
    "- `()` 表示提取提取子串\n",
    "- `^`:行的开头，^\\d表示必须以数字开头\n",
    "- `$`:行的结束，\\d$表示必须以数字结束。\n",
    "- `^py$`就变成了整行匹配，就只能匹配'py'了\n",
    "\n",
    "- `[0-9a-zA-Z\\_]`:一个数字、字母或者下划线\n",
    "- `[0-9a-zA-Z\\_]+`:至少由一个数字、字母或者下划线组成的字符串\n",
    "- `[a-zA-Z\\_][0-9a-zA-Z\\_]*`:字母或下划线开头，后接任意个由一个数字、字母或者下划线组成的字符串\n",
    "- `[a-zA-Z\\_][0-9a-zA-Z\\_]{0, 19}`:长度是1-20个字符（前面1个字符+后面最多19个字符）\n",
    "\n",
    "## r prefix\n",
    "不用考虑string的转义问题"
   ]
  },
  {
   "cell_type": "code",
   "execution_count": 5,
   "metadata": {},
   "outputs": [
    {
     "data": {
      "text/plain": [
       "('ABC\\\\$-001', 'ABC\\\\$-001')"
      ]
     },
     "execution_count": 5,
     "metadata": {},
     "output_type": "execute_result"
    }
   ],
   "source": [
    "s = 'ABC\\$-001' # Python的字符串\n",
    "s2 = r'ABC\\$-001'\n",
    "s, s2"
   ]
  },
  {
   "cell_type": "code",
   "execution_count": 1,
   "metadata": {},
   "outputs": [
    {
     "data": {
      "text/plain": [
       "'010-12345'"
      ]
     },
     "execution_count": 1,
     "metadata": {},
     "output_type": "execute_result"
    }
   ],
   "source": [
    "# match phone number\n",
    "import re \n",
    "re.match(r'^\\d{3}\\-\\d{3,8}$', '010-12345').group(0)\n"
   ]
  },
  {
   "cell_type": "code",
   "execution_count": 2,
   "metadata": {},
   "outputs": [],
   "source": [
    "re.match(r'^\\d{3}\\-\\d{3,8}$', '010 12345')"
   ]
  },
  {
   "cell_type": "code",
   "execution_count": 3,
   "metadata": {},
   "outputs": [
    {
     "data": {
      "text/plain": [
       "'abc:123,cdf:456'"
      ]
     },
     "execution_count": 3,
     "metadata": {},
     "output_type": "execute_result"
    }
   ],
   "source": [
    "string='abc:123,cdf:456|test=abc|door=123|elevator=14|door=456|'\n",
    "#提取abc后到|的字符 abc:123,cdf:456\n",
    "re.match(r'[0-9a-zA-Z\\:\\,]*', string).group(0)"
   ]
  },
  {
   "cell_type": "code",
   "execution_count": 13,
   "metadata": {},
   "outputs": [
    {
     "name": "stdout",
     "output_type": "stream",
     "text": [
      "ok\n"
     ]
    }
   ],
   "source": [
    "# 匹配邮箱\n",
    "import re\n",
    "def is_valid_email(addr):\n",
    "    return re.match(r'[\\w\\.]+@\\w+\\.com', addr)\n",
    "\n",
    "# 测试:\n",
    "assert is_valid_email('someone@gmail.com')\n",
    "assert is_valid_email('bill.gates@microsoft.com')\n",
    "assert not is_valid_email('bob#example.com')\n",
    "assert not is_valid_email('mr-bob@example.com')\n",
    "print('ok')"
   ]
  },
  {
   "cell_type": "code",
   "execution_count": 29,
   "metadata": {},
   "outputs": [
    {
     "name": "stdout",
     "output_type": "stream",
     "text": [
      "Tom Paris\n",
      "tom\n",
      "ok\n"
     ]
    }
   ],
   "source": [
    "# subtract name\n",
    "import re\n",
    "def name_of_email(addr):\n",
    "    print(re.match(r\".*?([\\w\\s]+)\", addr).groups()[0])\n",
    "    return (re.match(r\".*?([\\w\\s]+)\", addr).groups()[0])\n",
    "\n",
    "\n",
    "# 测试:\n",
    "assert name_of_email('<Tom Paris> tom@voyager.org') == 'Tom Paris'\n",
    "assert name_of_email('tom@voyager.org') == 'tom'\n",
    "print('ok')"
   ]
  },
  {
   "cell_type": "markdown",
   "metadata": {},
   "source": [
    "## findall的使用\n",
    "1. 找a或者b\n",
    "2. 利用分组，找出一部分\n",
    "\n",
    "注意：使用非贪婪模式会有问题"
   ]
  },
  {
   "cell_type": "code",
   "execution_count": 4,
   "metadata": {},
   "outputs": [
    {
     "name": "stdout",
     "output_type": "stream",
     "text": [
      "['string1', 'string2']\n"
     ]
    }
   ],
   "source": [
    "text = 'This string1 is an example for match string2'\n",
    "text= text.replace(' ','')   #去空格\n",
    "result = re.findall(r'string1|string2',text)   #分别匹配两种模式\n",
    "print(result)"
   ]
  },
  {
   "cell_type": "code",
   "execution_count": 5,
   "metadata": {},
   "outputs": [
    {
     "data": {
      "text/plain": [
       "[('string1', 'string2')]"
      ]
     },
     "execution_count": 5,
     "metadata": {},
     "output_type": "execute_result"
    }
   ],
   "source": [
    "re.findall(r'This(.*?)isanexampleformatch(.*$)',text)"
   ]
  },
  {
   "cell_type": "code",
   "execution_count": 6,
   "metadata": {},
   "outputs": [
    {
     "name": "stdout",
     "output_type": "stream",
     "text": [
      "['string1', 'string2']\n"
     ]
    }
   ],
   "source": [
    "text_multi = 'This string1 is \\n an example \\n for match string2'\n",
    "text_multi = text_multi .replace(' ','')   #去空格\n",
    "result3 = re.findall(r'string\\d*',text_multi,re.S)   #利用re.S开启多行模式来忽略\\n换行\n",
    "print(result3)\n"
   ]
  },
  {
   "cell_type": "markdown",
   "metadata": {},
   "source": [
    "## example\n",
    "使用findall查找abnormal里的数据\n",
    "一共有两个方法："
   ]
  },
  {
   "cell_type": "code",
   "execution_count": 7,
   "metadata": {},
   "outputs": [],
   "source": [
    "with open('asset/abnormal.txt','r') as f:\n",
    "    data=f.read()"
   ]
  },
  {
   "cell_type": "code",
   "execution_count": 8,
   "metadata": {},
   "outputs": [
    {
     "name": "stdout",
     "output_type": "stream",
     "text": [
      "<?xml version=\"1.0\" encoding=\"UTF-8\"?>\n",
      "<liftstatus>\n",
      "       <event lift=\"1\" group=\"1\" building=\"1\" floor=\"3\" deck=\"1\" side=\"1\" value=\"starting\" servingDir=\"down\" destFloor=\"1\"/>\n",
      "</liftstatus>\n",
      "****************************************************************************************************\n",
      "<?xml version=\"1.0\" encoding=\"UTF-8\"?>\n",
      "<liftservice>\n",
      "       <event lift=\"1\" group=\"1\" building=\"1\" value=\"n\"/>\n",
      "</liftservice>\n",
      "****************************************************************************************************\n",
      "<?xml version=\"1.0\" encoding=\"UTF-8\"?>\n",
      "<liftstatus>\n",
      "       <event lift=\"1\" group=\"1\" building=\"1\" floor=\"3\" deck=\"1\" side=\"1\" value=\"closed\" servingDir=\"down\"/>\n",
      "</liftstatus>\n",
      "****************************************************************************************************\n"
     ]
    }
   ],
   "source": [
    "#方法1\n",
    "matches=re.findall(r'<\\?xml.*?</.*?>',data,re.S)\n",
    "for item in matches:\n",
    "    print(item)\n",
    "    print('*' * 100)"
   ]
  },
  {
   "cell_type": "code",
   "execution_count": 9,
   "metadata": {},
   "outputs": [
    {
     "name": "stdout",
     "output_type": "stream",
     "text": [
      "<?xml version=\"1.0\" encoding=\"UTF-8\"?>\n",
      "<liftstatus>\n",
      "       <event lift=\"1\" group=\"1\" building=\"1\" floor=\"3\" deck=\"1\" side=\"1\" value=\"starting\" servingDir=\"down\" destFloor=\"1\"/>\n",
      "</liftstatus>\n",
      "****************************************************************************************************\n",
      "<?xml version=\"1.0\" encoding=\"UTF-8\"?>\n",
      "<liftservice>\n",
      "       <event lift=\"1\" group=\"1\" building=\"1\" value=\"n\"/>\n",
      "</liftservice>\n",
      "****************************************************************************************************\n",
      "<?xml version=\"1.0\" encoding=\"UTF-8\"?>\n",
      "<liftstatus>\n",
      "       <event lift=\"1\" group=\"1\" building=\"1\" floor=\"3\" deck=\"1\" side=\"1\" value=\"closed\" servingDir=\"down\"/>\n",
      "</liftstatus>\n",
      "****************************************************************************************************\n"
     ]
    }
   ],
   "source": [
    "#方法二\n",
    "matches=re.findall(r'(<\\?xml.*?)(</liftstatus>|</liftservice>)',data,re.S)\n",
    "matches=[item[0]+item[1] for item in matches]\n",
    "for item in matches:\n",
    "    print(item)\n",
    "    print('*' * 100)"
   ]
  },
  {
   "cell_type": "code",
   "execution_count": null,
   "metadata": {},
   "outputs": [],
   "source": []
  }
 ],
 "metadata": {
  "kernelspec": {
   "display_name": "Python 3",
   "language": "python",
   "name": "python3"
  },
  "language_info": {
   "codemirror_mode": {
    "name": "ipython",
    "version": 3
   },
   "file_extension": ".py",
   "mimetype": "text/x-python",
   "name": "python",
   "nbconvert_exporter": "python",
   "pygments_lexer": "ipython3",
   "version": "3.7.3"
  },
  "toc": {
   "base_numbering": 1,
   "nav_menu": {},
   "number_sections": true,
   "sideBar": true,
   "skip_h1_title": false,
   "title_cell": "Table of Contents",
   "title_sidebar": "Contents",
   "toc_cell": false,
   "toc_position": {},
   "toc_section_display": true,
   "toc_window_display": false
  }
 },
 "nbformat": 4,
 "nbformat_minor": 2
}
