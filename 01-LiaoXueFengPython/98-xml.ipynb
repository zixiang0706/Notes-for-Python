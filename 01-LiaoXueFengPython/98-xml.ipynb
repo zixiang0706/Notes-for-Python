{
 "cells": [
  {
   "cell_type": "markdown",
   "metadata": {},
   "source": [
    "# XML\n",
    "## 从字符串拉取"
   ]
  },
  {
   "cell_type": "code",
   "execution_count": 1,
   "metadata": {},
   "outputs": [],
   "source": [
    "import re\n",
    "import xml.etree.ElementTree as ET"
   ]
  },
  {
   "cell_type": "code",
   "execution_count": 2,
   "metadata": {},
   "outputs": [
    {
     "name": "stdout",
     "output_type": "stream",
     "text": [
      "{'lift': '1', 'group': '1', 'building': '1', 'floor': '3', 'deck': '1', 'side': '1', 'value': 'starting', 'servingDir': 'down', 'destFloor': '1'}\n",
      "{'lift': '1', 'group': '1', 'building': '1', 'floor': '3', 'deck': '1', 'side': '1', 'value': 'n', 'servingDir': 'down', 'destFloor': '1'}\n",
      "{'lift': '1', 'group': '1', 'building': '1', 'floor': '3', 'deck': '1', 'side': '1', 'value': 'closed', 'servingDir': 'down', 'destFloor': '1'}\n"
     ]
    }
   ],
   "source": [
    "info={}\n",
    "with open('asset/abnormal.txt','r') as f:\n",
    "    data=f.read()\n",
    "\n",
    "    matches=re.findall(r'<\\?xml.*?</.*?>',data,re.S)\n",
    "    for item in matches:\n",
    "        tree = ET.ElementTree(ET.fromstring(item))\n",
    "        root = tree.getroot()\n",
    "        for child in root:\n",
    "            dic=child.attrib\n",
    "            for key,value in dic.items():\n",
    "                info[key]=value\n",
    "        print(info)"
   ]
  },
  {
   "cell_type": "markdown",
   "metadata": {},
   "source": [
    "## 从网页拉去XML"
   ]
  },
  {
   "cell_type": "code",
   "execution_count": 3,
   "metadata": {},
   "outputs": [
    {
     "name": "stdout",
     "output_type": "stream",
     "text": [
      "Davide Moro: High quality automated docker hub push using Github, TravisCI and pyup for Python tool distributions\n",
      "Tue, 11 Jun 2019 21:39:51 +0000\n",
      "http://davidemoro.blogspot.com/2019/02/automated-docker-hub-push-travisci-pyup-python.html\n",
      "\n",
      "PyCoder’s Weekly: Issue #372 (June 11, 2019)\n",
      "Tue, 11 Jun 2019 19:30:00 +0000\n",
      "https://pycoders.com/issues/372\n",
      "\n",
      "Caktus Consulting Group: Our Favorite PyCon 2019 Presentations\n",
      "Tue, 11 Jun 2019 18:31:31 +0000\n",
      "http://www.caktusgroup.com/blog/2019/06/11/favorite-pycon-2019-presentations/\n",
      "\n",
      "NumFOCUS: SciPy and MathJax join NumFOCUS Sponsored Projects\n",
      "Tue, 11 Jun 2019 15:48:49 +0000\n",
      "https://numfocus.org/blog/scipy-and-mathjax-join-numfocus-sponsored-projects\n",
      "\n",
      "Stack Abuse: Multiple Linear Regression with Python\n",
      "Tue, 11 Jun 2019 15:16:00 +0000\n",
      "https://stackabuse.com/multiple-linear-regression-with-python/\n",
      "\n",
      "Test and Code: 77: Testing Complex Systems with Maintainable Test Suites\n",
      "Tue, 11 Jun 2019 15:00:00 +0000\n",
      "https://testandcode.com/77\n",
      "\n",
      "Neckbeard Republic: OOP Method Types in Python: @classmethod vs @staticmethod vs Instance Methods\n",
      "Tue, 11 Jun 2019 14:00:00 +0000\n",
      "https://realpython.com/courses/python-method-types/\n",
      "\n",
      "eGenix.com: Python Meeting Düsseldorf - 2019-06-12\n",
      "Tue, 11 Jun 2019 07:00:00 +0000\n",
      "https://www.egenix.com/company/news/Python-Meeting-Duesseldorf-2019-06-12\n",
      "\n",
      "Montreal Python User Group: Call for Speakers - Montréal-Python 75: Funky Urgency\n",
      "Tue, 11 Jun 2019 04:00:00 +0000\n",
      "https://montrealpython.org/en/2019/06/mp75-cfp/\n",
      "\n",
      "Brett Cannon: Podcast interviews where I talk about Python's governance\n",
      "Mon, 10 Jun 2019 17:37:49 +0000\n",
      "https://snarky.ca/podcast-interviews-where-i-talk-about-pythons-governance/\n",
      "\n",
      "Real Python: How to Make a Twitter Bot in Python With Tweepy\n",
      "Mon, 10 Jun 2019 14:00:00 +0000\n",
      "https://realpython.com/twitter-bot-python-tweepy/\n",
      "\n",
      "Reuven Lerner: Variables are pronouns: A simple metaphor for Python newbies\n",
      "Mon, 10 Jun 2019 13:33:32 +0000\n",
      "https://lerner.co.il/2019/06/10/variables-are-pronouns-a-simple-metaphor-for-python-newbies/\n",
      "\n",
      "Reuven Lerner: Sharpen your Python skills with Weekly Python Exercise\n",
      "Mon, 10 Jun 2019 11:34:36 +0000\n",
      "https://lerner.co.il/2019/06/10/sharpen-your-python-skills-with-weekly-python-exercise/\n",
      "\n",
      "ListenData: Python Lambda Function with Examples\n",
      "Mon, 10 Jun 2019 09:44:03 +0000\n",
      "https://www.listendata.com/2019/04/python-lambda-function.html\n",
      "\n",
      "Mike Driscoll: PyDev of the Week:  Valentin Haenel\n",
      "Mon, 10 Jun 2019 05:05:56 +0000\n",
      "http://www.blog.pythonlibrary.org/2019/06/10/pydev-of-the-week-valentin-haenel/\n",
      "\n",
      "Podcast.__init__: Web Application Development Entirely In Python\n",
      "Mon, 10 Jun 2019 03:13:27 +0000\n",
      "https://www.pythonpodcast.com/anvil-web-application-development-episode-215/\n",
      "\n",
      "ListenData: String Functions in Python with Examples\n",
      "Mon, 10 Jun 2019 01:51:25 +0000\n",
      "https://www.listendata.com/2019/06/python-string-functions.html\n",
      "\n",
      "Doug Hellmann: sphinxcontrib.datatemplates 0.3.0\n",
      "Sun, 09 Jun 2019 15:21:05 +0000\n",
      "http://feeds.doughellmann.com/~r/doughellmann/python/~3/j-RpU3TAAQE/\n",
      "\n",
      "Codementor: Python implementation of Normalized Google Distance (Simple web scraping example)\n",
      "Sun, 09 Jun 2019 12:22:33 +0000\n",
      "https://www.codementor.io/mathiasgatti/python-implementation-of-normalized-google-distance-simple-web-scraping-example-vrwwu5w58\n",
      "\n",
      "Codementor: How to code basic psychological experiments with Python\n",
      "Sun, 09 Jun 2019 09:51:35 +0000\n",
      "https://www.codementor.io/mathiasgatti/how-to-code-basic-psychological-experiments-with-psychopy-vrve71wxm\n",
      "\n",
      "Weekly Python StackOverflow Report: (clxxxi) stackoverflow python report\n",
      "Sat, 08 Jun 2019 16:24:00 +0000\n",
      "http://python-weekly.blogspot.com/2019/06/clxxxi-stackoverflow-python-report.html\n",
      "\n",
      "Catalin George Festila: Python 3.7.3 : Testing the PyX python module.\n",
      "Sat, 08 Jun 2019 13:00:10 +0000\n",
      "http://python-catalin.blogspot.com/2019/06/python-373-testing-pyx-python-module.html\n",
      "\n",
      "The Digital Cat: Run a blog with pelican\n",
      "Fri, 07 Jun 2019 14:30:00 +0000\n",
      "https://www.thedigitalcatonline.com/blog/2019/06/07/run-a-pelican-blog/\n",
      "\n",
      "Ned Batchelder: Corporations and open source: why and how\n",
      "Fri, 07 Jun 2019 12:21:43 +0000\n",
      "https://nedbatchelder.com//blog/201906/corporations_and_open_source_why_and_how.html\n",
      "\n",
      "Stack Abuse: Concurrency in Python\n",
      "Fri, 07 Jun 2019 11:13:00 +0000\n",
      "https://stackabuse.com/concurrency-in-python/\n",
      "\n"
     ]
    }
   ],
   "source": [
    "from urllib.request import urlopen\n",
    "from xml.etree.ElementTree import parse\n",
    "\n",
    "# Download the RSS feed and parse it\n",
    "u = urlopen('http://planet.python.org/rss20.xml')\n",
    "doc = parse(u)\n",
    "\n",
    "# Extract and output tags of interest\n",
    "for item in doc.iterfind('channel/item'):\n",
    "    title = item.findtext('title')\n",
    "    date = item.findtext('pubDate')\n",
    "    link = item.findtext('link')\n",
    "\n",
    "    print(title)\n",
    "    print(date)\n",
    "    print(link)\n",
    "    print()"
   ]
  },
  {
   "cell_type": "code",
   "execution_count": null,
   "metadata": {},
   "outputs": [],
   "source": []
  }
 ],
 "metadata": {
  "kernelspec": {
   "display_name": "Python 3",
   "language": "python",
   "name": "python3"
  },
  "language_info": {
   "codemirror_mode": {
    "name": "ipython",
    "version": 3
   },
   "file_extension": ".py",
   "mimetype": "text/x-python",
   "name": "python",
   "nbconvert_exporter": "python",
   "pygments_lexer": "ipython3",
   "version": "3.6.8"
  }
 },
 "nbformat": 4,
 "nbformat_minor": 2
}
