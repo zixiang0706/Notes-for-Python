{
 "cells": [
  {
   "cell_type": "markdown",
   "metadata": {},
   "source": [
    "# 56 tricks"
   ]
  },
  {
   "cell_type": "code",
   "execution_count": 4,
   "metadata": {},
   "outputs": [
    {
     "name": "stdout",
     "output_type": "stream",
     "text": [
      "0 a\n",
      "1 b\n",
      "2 c\n",
      "3 d\n"
     ]
    },
    {
     "data": {
      "text/plain": [
       "[(0, 'a'), (1, 'b'), (2, 'c')]"
      ]
     },
     "execution_count": 4,
     "metadata": {},
     "output_type": "execute_result"
    }
   ],
   "source": [
    "# 1 enumerate\n",
    "for cnt, item in enumerate(\"abcd\"):\n",
    "    print(cnt, item)\n",
    "list(enumerate(\"abc\"))"
   ]
  },
  {
   "cell_type": "code",
   "execution_count": 12,
   "metadata": {},
   "outputs": [
    {
     "data": {
      "text/plain": [
       "({0: 0, 1: 1, 2: 4, 3: 9, 4: 16, 5: 25, 6: 36, 7: 49, 8: 64, 9: 81},\n",
       " {0, 1, 4, 9, 16, 25, 36, 49, 64, 81})"
      ]
     },
     "execution_count": 12,
     "metadata": {},
     "output_type": "execute_result"
    }
   ],
   "source": [
    "# 字典解析\n",
    "my_dict = {i: i*i for i in range(10)}\n",
    "my_list = { i*i for i in range(10)}\n",
    "my_dict, my_list"
   ]
  },
  {
   "cell_type": "code",
   "execution_count": 17,
   "metadata": {},
   "outputs": [
    {
     "data": {
      "text/plain": [
       "(0.5, 3)"
      ]
     },
     "execution_count": 17,
     "metadata": {},
     "output_type": "execute_result"
    }
   ],
   "source": [
    "# 强制浮点除法\n",
    "res = 1/2\n",
    "div = 11//3\n",
    "res, div"
   ]
  },
  {
   "cell_type": "code",
   "execution_count": 18,
   "metadata": {},
   "outputs": [
    {
     "data": {
      "text/plain": [
       "('12345', '54321')"
      ]
     },
     "execution_count": 18,
     "metadata": {},
     "output_type": "execute_result"
    }
   ],
   "source": [
    "# 字符串/数列 逆序\n",
    "a = '12345'\n",
    "b= a[::-1]\n",
    "a, b"
   ]
  },
  {
   "cell_type": "code",
   "execution_count": 24,
   "metadata": {},
   "outputs": [
    {
     "name": "stdout",
     "output_type": "stream",
     "text": [
      "small\n"
     ]
    },
    {
     "data": {
      "text/plain": [
       "('small', 'big')"
      ]
     },
     "execution_count": 24,
     "metadata": {},
     "output_type": "execute_result"
    }
   ],
   "source": [
    "# 三元运算\n",
    "x = 5\n",
    "print('small') if x<10 else print(\"big\")\n",
    "func = lambda x : 'small' if x<10 else \"big\"\n",
    "func(5), func(11)"
   ]
  },
  {
   "cell_type": "markdown",
   "metadata": {},
   "source": [
    "## copy"
   ]
  },
  {
   "cell_type": "code",
   "execution_count": 28,
   "metadata": {},
   "outputs": [
    {
     "data": {
      "text/plain": [
       "[1, 2, ['a']]"
      ]
     },
     "execution_count": 28,
     "metadata": {},
     "output_type": "execute_result"
    }
   ],
   "source": [
    "# copy, 浅拷贝，深拷贝可以拷贝属性\n",
    "##浅拷贝\n",
    "import copy\n",
    "ls = [1,2,[\"a\"]]\n",
    "ls_c = copy.copy(ls)\n",
    "ls_c"
   ]
  },
  {
   "cell_type": "code",
   "execution_count": 32,
   "metadata": {},
   "outputs": [
    {
     "data": {
      "text/plain": [
       "([1, 2, ['!!!']], ['???', 2, ['!!!']])"
      ]
     },
     "execution_count": 32,
     "metadata": {},
     "output_type": "execute_result"
    }
   ],
   "source": [
    "## 改了ls，会导致ls_c变化\n",
    "ls[2][0] = \"!!!\"\n",
    "ls[0 ]= \"???\"\n",
    "ls_c, ls"
   ]
  },
  {
   "cell_type": "code",
   "execution_count": 37,
   "metadata": {},
   "outputs": [
    {
     "data": {
      "text/plain": [
       "[1, 2, ['a']]"
      ]
     },
     "execution_count": 37,
     "metadata": {},
     "output_type": "execute_result"
    }
   ],
   "source": [
    "## deepcopy 不会有这个问题请，传入的不是object的addr\n",
    "ls = [1,2,[\"a\"]]\n",
    "ls_dc = copy.deepcopy(ls)\n",
    "ls_dc"
   ]
  },
  {
   "cell_type": "code",
   "execution_count": 38,
   "metadata": {},
   "outputs": [
    {
     "data": {
      "text/plain": [
       "([1, 2, ['a']], ['???', 2, ['!!!']])"
      ]
     },
     "execution_count": 38,
     "metadata": {},
     "output_type": "execute_result"
    }
   ],
   "source": [
    "## 改了ls，会导致ls_dc不变化，因为是完全copy一份\n",
    "ls[2][0] = \"!!!\"\n",
    "ls[0 ]= \"???\"\n",
    "ls_dc, ls"
   ]
  },
  {
   "cell_type": "code",
   "execution_count": 92,
   "metadata": {},
   "outputs": [
    {
     "data": {
      "text/plain": [
       "(4533237384, 4533237384, 4533237384, 4533063432)"
      ]
     },
     "execution_count": 92,
     "metadata": {},
     "output_type": "execute_result"
    }
   ],
   "source": [
    "## deepcopy 可以复制obj的属性\n",
    "## deepcopy 会把所有的可变类型copy一份\n",
    "name = [\"andrew\"]\n",
    "class Person():\n",
    "    def __init__(self):\n",
    "        self.name = [name,\"name\"]\n",
    "\n",
    "\n",
    "andrew = Person()\n",
    "andrew_c = copy.copy(andrew)\n",
    "andrew_dc = copy.deepcopy(andrew)\n",
    "id(name), id(andrew.name[0]), id(andrew_c.name[0]), id(andrew_dc.name[0])"
   ]
  },
  {
   "cell_type": "code",
   "execution_count": 93,
   "metadata": {},
   "outputs": [
    {
     "name": "stdout",
     "output_type": "stream",
     "text": [
      "[['changed'], 'name'] [['changed'], 'name'] [['andrew'], 'name']\n"
     ]
    },
    {
     "data": {
      "text/plain": [
       "(4533237384, 4533237384, 4533237384, 4533063432)"
      ]
     },
     "execution_count": 93,
     "metadata": {},
     "output_type": "execute_result"
    }
   ],
   "source": [
    "name[0] = \"changed\"\n",
    "print(andrew.name, andrew_c.name, andrew_dc.name)\n",
    "id(name), id(andrew.name[0]), id(andrew_c.name[0]), id(andrew_dc.name[0])"
   ]
  },
  {
   "cell_type": "code",
   "execution_count": 94,
   "metadata": {},
   "outputs": [
    {
     "data": {
      "text/plain": [
       "(4508055512, 4508055512, 4508055512, 4508055512)"
      ]
     },
     "execution_count": 94,
     "metadata": {},
     "output_type": "execute_result"
    }
   ],
   "source": [
    "## 试试name是个不可变类型\n",
    "name = \"andrew\"\n",
    "class Person():\n",
    "    def __init__(self):\n",
    "        self.name = [name,\"name\"]\n",
    "\n",
    "andrew = Person()\n",
    "andrew_c = copy.copy(andrew)\n",
    "andrew_dc = copy.deepcopy(andrew)\n",
    "id(name), id(andrew.name[0]), id(andrew_c.name[0]), id(andrew_dc.name[0])"
   ]
  },
  {
   "cell_type": "code",
   "execution_count": 85,
   "metadata": {},
   "outputs": [
    {
     "data": {
      "text/plain": [
       "(4476418288, 4508055512, 4508055512)"
      ]
     },
     "execution_count": 85,
     "metadata": {},
     "output_type": "execute_result"
    }
   ],
   "source": [
    "name = \"change\"\n",
    "id(name), id(andrew.name[0]), id(andrew_c.name[0])"
   ]
  },
  {
   "cell_type": "markdown",
   "metadata": {},
   "source": [
    "## 判断对象相等\n",
    "python中的对象包含三要素:\n",
    "- id, type, valueid 用来标识唯一一个对象，\n",
    "- type标识对象的类型，\n",
    "- value用来设置对象的值。\n",
    "- is 判断是否是一个对象，使用id来判断的。\n",
    "- == 是判断a对象的值是否是b对象的值，默认调用它的__eq__方法。"
   ]
  },
  {
   "cell_type": "code",
   "execution_count": 95,
   "metadata": {},
   "outputs": [
    {
     "data": {
      "text/plain": [
       "(4533076656, 4533076432)"
      ]
     },
     "execution_count": 95,
     "metadata": {},
     "output_type": "execute_result"
    }
   ],
   "source": [
    "class Person():\n",
    "    def __init__(self,name):\n",
    "        self.name = name\n",
    "a1 = Person('a')\n",
    "a2 = Person(\"a\")\n",
    "id(a1), id(a2)"
   ]
  },
  {
   "cell_type": "code",
   "execution_count": 96,
   "metadata": {},
   "outputs": [
    {
     "data": {
      "text/plain": [
       "(__main__.Person, __main__.Person)"
      ]
     },
     "execution_count": 96,
     "metadata": {},
     "output_type": "execute_result"
    }
   ],
   "source": [
    "type(a1), type(a2)"
   ]
  },
  {
   "cell_type": "code",
   "execution_count": 99,
   "metadata": {},
   "outputs": [
    {
     "data": {
      "text/plain": [
       "True"
      ]
     },
     "execution_count": 99,
     "metadata": {},
     "output_type": "execute_result"
    }
   ],
   "source": [
    "a1.name is a2.name"
   ]
  },
  {
   "cell_type": "code",
   "execution_count": 98,
   "metadata": {},
   "outputs": [
    {
     "data": {
      "text/plain": [
       "True"
      ]
     },
     "execution_count": 98,
     "metadata": {},
     "output_type": "execute_result"
    }
   ],
   "source": [
    "a1.name == a2.name"
   ]
  },
  {
   "cell_type": "markdown",
   "metadata": {},
   "source": [
    "## 命名技巧\n",
    "`def request(_argv):`\n",
    "私有变量都加一个_, 类似类的私有属性  \n",
    "全局变量都以g开头  \n",
    "全局常量都要大写"
   ]
  },
  {
   "cell_type": "code",
   "execution_count": null,
   "metadata": {},
   "outputs": [],
   "source": []
  }
 ],
 "metadata": {
  "kernelspec": {
   "display_name": "Python 3",
   "language": "python",
   "name": "python3"
  },
  "language_info": {
   "codemirror_mode": {
    "name": "ipython",
    "version": 3
   },
   "file_extension": ".py",
   "mimetype": "text/x-python",
   "name": "python",
   "nbconvert_exporter": "python",
   "pygments_lexer": "ipython3",
   "version": "3.7.3"
  },
  "toc": {
   "base_numbering": 1,
   "nav_menu": {},
   "number_sections": true,
   "sideBar": true,
   "skip_h1_title": false,
   "title_cell": "Table of Contents",
   "title_sidebar": "Contents",
   "toc_cell": false,
   "toc_position": {},
   "toc_section_display": true,
   "toc_window_display": false
  }
 },
 "nbformat": 4,
 "nbformat_minor": 2
}
