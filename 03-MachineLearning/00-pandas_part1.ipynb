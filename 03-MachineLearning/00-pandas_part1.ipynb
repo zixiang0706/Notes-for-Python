{
 "cells": [
  {
   "cell_type": "markdown",
   "metadata": {},
   "source": [
    "# Pandas for Bitcoin (part 1)\n",
    "based on the bitquant's tutorial https://github.com/ramoslin02/51bitqunt. here i make a brief summary about the common used Pandas function"
   ]
  },
  {
   "cell_type": "code",
   "execution_count": 1,
   "metadata": {},
   "outputs": [],
   "source": [
    "# import the dependance \n",
    "import pandas as pd\n",
    "import os\n",
    "\n",
    "pd.set_option('expand_frame_repr', False)  # 当列太多时不换行\n",
    "# pd.set_option('display.max_rows', 1000)  # 最多显示行数.\n",
    "# pd.set_option('precision', 6)  # 浮点数的精度\n",
    "pd.set_option('display.float_format', lambda x: '%.2f' % x)  # 设置不用科学计数法，保留两位小数."
   ]
  },
  {
   "cell_type": "code",
   "execution_count": 2,
   "metadata": {},
   "outputs": [
    {
     "data": {
      "text/html": [
       "<div>\n",
       "<style scoped>\n",
       "    .dataframe tbody tr th:only-of-type {\n",
       "        vertical-align: middle;\n",
       "    }\n",
       "\n",
       "    .dataframe tbody tr th {\n",
       "        vertical-align: top;\n",
       "    }\n",
       "\n",
       "    .dataframe thead th {\n",
       "        text-align: right;\n",
       "    }\n",
       "</style>\n",
       "<table border=\"1\" class=\"dataframe\">\n",
       "  <thead>\n",
       "    <tr style=\"text-align: right;\">\n",
       "      <th></th>\n",
       "      <th>open_time</th>\n",
       "      <th>open</th>\n",
       "      <th>high</th>\n",
       "      <th>low</th>\n",
       "      <th>close</th>\n",
       "      <th>volume</th>\n",
       "    </tr>\n",
       "  </thead>\n",
       "  <tbody>\n",
       "    <tr>\n",
       "      <th>0</th>\n",
       "      <td>1559978820000</td>\n",
       "      <td>7907.46</td>\n",
       "      <td>7910.61</td>\n",
       "      <td>7905.03</td>\n",
       "      <td>7906.25</td>\n",
       "      <td>12.03</td>\n",
       "    </tr>\n",
       "    <tr>\n",
       "      <th>1</th>\n",
       "      <td>1559978880000</td>\n",
       "      <td>7906.42</td>\n",
       "      <td>7912.09</td>\n",
       "      <td>7905.10</td>\n",
       "      <td>7910.13</td>\n",
       "      <td>9.97</td>\n",
       "    </tr>\n",
       "    <tr>\n",
       "      <th>2</th>\n",
       "      <td>1559978940000</td>\n",
       "      <td>7908.07</td>\n",
       "      <td>7917.71</td>\n",
       "      <td>7907.00</td>\n",
       "      <td>7914.33</td>\n",
       "      <td>20.82</td>\n",
       "    </tr>\n",
       "    <tr>\n",
       "      <th>3</th>\n",
       "      <td>1559979000000</td>\n",
       "      <td>7914.99</td>\n",
       "      <td>7918.59</td>\n",
       "      <td>7912.92</td>\n",
       "      <td>7917.43</td>\n",
       "      <td>7.13</td>\n",
       "    </tr>\n",
       "    <tr>\n",
       "      <th>4</th>\n",
       "      <td>1559979060000</td>\n",
       "      <td>7916.52</td>\n",
       "      <td>7918.70</td>\n",
       "      <td>7913.16</td>\n",
       "      <td>7914.09</td>\n",
       "      <td>10.47</td>\n",
       "    </tr>\n",
       "  </tbody>\n",
       "</table>\n",
       "</div>"
      ],
      "text/plain": [
       "       open_time    open    high     low   close  volume\n",
       "0  1559978820000 7907.46 7910.61 7905.03 7906.25   12.03\n",
       "1  1559978880000 7906.42 7912.09 7905.10 7910.13    9.97\n",
       "2  1559978940000 7908.07 7917.71 7907.00 7914.33   20.82\n",
       "3  1559979000000 7914.99 7918.59 7912.92 7917.43    7.13\n",
       "4  1559979060000 7916.52 7918.70 7913.16 7914.09   10.47"
      ]
     },
     "execution_count": 2,
     "metadata": {},
     "output_type": "execute_result"
    }
   ],
   "source": [
    "# read data\n",
    "df = pd.read_csv(filepath_or_buffer='./asset/1560038820000.csv',\n",
    "                 usecols=['open_time', 'open', 'close', 'high', 'low', 'volume'])\n",
    "df.head()"
   ]
  },
  {
   "cell_type": "markdown",
   "metadata": {},
   "source": [
    "## general info\n",
    "statistic analysis"
   ]
  },
  {
   "cell_type": "code",
   "execution_count": 3,
   "metadata": {},
   "outputs": [
    {
     "data": {
      "text/plain": [
       "open_time      int64\n",
       "open         float64\n",
       "high         float64\n",
       "low          float64\n",
       "close        float64\n",
       "volume       float64\n",
       "dtype: object"
      ]
     },
     "execution_count": 3,
     "metadata": {},
     "output_type": "execute_result"
    }
   ],
   "source": [
    "df.dtypes"
   ]
  },
  {
   "cell_type": "code",
   "execution_count": 4,
   "metadata": {},
   "outputs": [
    {
     "data": {
      "text/html": [
       "<div>\n",
       "<style scoped>\n",
       "    .dataframe tbody tr th:only-of-type {\n",
       "        vertical-align: middle;\n",
       "    }\n",
       "\n",
       "    .dataframe tbody tr th {\n",
       "        vertical-align: top;\n",
       "    }\n",
       "\n",
       "    .dataframe thead th {\n",
       "        text-align: right;\n",
       "    }\n",
       "</style>\n",
       "<table border=\"1\" class=\"dataframe\">\n",
       "  <thead>\n",
       "    <tr style=\"text-align: right;\">\n",
       "      <th></th>\n",
       "      <th>open_time</th>\n",
       "      <th>open</th>\n",
       "      <th>high</th>\n",
       "      <th>low</th>\n",
       "      <th>close</th>\n",
       "      <th>volume</th>\n",
       "    </tr>\n",
       "  </thead>\n",
       "  <tbody>\n",
       "    <tr>\n",
       "      <th>count</th>\n",
       "      <td>1000.00</td>\n",
       "      <td>1000.00</td>\n",
       "      <td>1000.00</td>\n",
       "      <td>1000.00</td>\n",
       "      <td>1000.00</td>\n",
       "      <td>1000.00</td>\n",
       "    </tr>\n",
       "    <tr>\n",
       "      <th>mean</th>\n",
       "      <td>1560008790000.00</td>\n",
       "      <td>7893.42</td>\n",
       "      <td>7897.58</td>\n",
       "      <td>7888.90</td>\n",
       "      <td>7893.47</td>\n",
       "      <td>15.89</td>\n",
       "    </tr>\n",
       "    <tr>\n",
       "      <th>std</th>\n",
       "      <td>17329166.17</td>\n",
       "      <td>53.35</td>\n",
       "      <td>52.99</td>\n",
       "      <td>54.01</td>\n",
       "      <td>53.40</td>\n",
       "      <td>18.04</td>\n",
       "    </tr>\n",
       "    <tr>\n",
       "      <th>min</th>\n",
       "      <td>1559978820000.00</td>\n",
       "      <td>7768.16</td>\n",
       "      <td>7778.40</td>\n",
       "      <td>7751.00</td>\n",
       "      <td>7768.78</td>\n",
       "      <td>1.85</td>\n",
       "    </tr>\n",
       "    <tr>\n",
       "      <th>25%</th>\n",
       "      <td>1559993805000.00</td>\n",
       "      <td>7844.88</td>\n",
       "      <td>7848.00</td>\n",
       "      <td>7841.23</td>\n",
       "      <td>7844.89</td>\n",
       "      <td>7.16</td>\n",
       "    </tr>\n",
       "    <tr>\n",
       "      <th>50%</th>\n",
       "      <td>1560008790000.00</td>\n",
       "      <td>7904.94</td>\n",
       "      <td>7909.74</td>\n",
       "      <td>7900.12</td>\n",
       "      <td>7905.03</td>\n",
       "      <td>11.40</td>\n",
       "    </tr>\n",
       "    <tr>\n",
       "      <th>75%</th>\n",
       "      <td>1560023775000.00</td>\n",
       "      <td>7934.09</td>\n",
       "      <td>7938.84</td>\n",
       "      <td>7930.21</td>\n",
       "      <td>7934.37</td>\n",
       "      <td>18.53</td>\n",
       "    </tr>\n",
       "    <tr>\n",
       "      <th>max</th>\n",
       "      <td>1560038760000.00</td>\n",
       "      <td>7997.47</td>\n",
       "      <td>8000.00</td>\n",
       "      <td>7994.81</td>\n",
       "      <td>7998.01</td>\n",
       "      <td>355.35</td>\n",
       "    </tr>\n",
       "  </tbody>\n",
       "</table>\n",
       "</div>"
      ],
      "text/plain": [
       "             open_time    open    high     low   close  volume\n",
       "count          1000.00 1000.00 1000.00 1000.00 1000.00 1000.00\n",
       "mean  1560008790000.00 7893.42 7897.58 7888.90 7893.47   15.89\n",
       "std        17329166.17   53.35   52.99   54.01   53.40   18.04\n",
       "min   1559978820000.00 7768.16 7778.40 7751.00 7768.78    1.85\n",
       "25%   1559993805000.00 7844.88 7848.00 7841.23 7844.89    7.16\n",
       "50%   1560008790000.00 7904.94 7909.74 7900.12 7905.03   11.40\n",
       "75%   1560023775000.00 7934.09 7938.84 7930.21 7934.37   18.53\n",
       "max   1560038760000.00 7997.47 8000.00 7994.81 7998.01  355.35"
      ]
     },
     "execution_count": 4,
     "metadata": {},
     "output_type": "execute_result"
    }
   ],
   "source": [
    "df.describe()"
   ]
  },
  {
   "cell_type": "code",
   "execution_count": 5,
   "metadata": {},
   "outputs": [
    {
     "data": {
      "text/plain": [
       "(1000, 6)"
      ]
     },
     "execution_count": 5,
     "metadata": {},
     "output_type": "execute_result"
    }
   ],
   "source": [
    "df.shape"
   ]
  },
  {
   "cell_type": "code",
   "execution_count": 6,
   "metadata": {},
   "outputs": [
    {
     "name": "stdout",
     "output_type": "stream",
     "text": [
      "open_time\n",
      "open\n",
      "high\n",
      "low\n",
      "close\n",
      "volume\n"
     ]
    }
   ],
   "source": [
    "for column in df.columns:\n",
    "    print(column)"
   ]
  },
  {
   "cell_type": "code",
   "execution_count": 7,
   "metadata": {},
   "outputs": [
    {
     "data": {
      "text/html": [
       "<div>\n",
       "<style scoped>\n",
       "    .dataframe tbody tr th:only-of-type {\n",
       "        vertical-align: middle;\n",
       "    }\n",
       "\n",
       "    .dataframe tbody tr th {\n",
       "        vertical-align: top;\n",
       "    }\n",
       "\n",
       "    .dataframe thead th {\n",
       "        text-align: right;\n",
       "    }\n",
       "</style>\n",
       "<table border=\"1\" class=\"dataframe\">\n",
       "  <thead>\n",
       "    <tr style=\"text-align: right;\">\n",
       "      <th></th>\n",
       "      <th>open_time</th>\n",
       "      <th>open</th>\n",
       "      <th>high</th>\n",
       "      <th>low</th>\n",
       "      <th>close</th>\n",
       "      <th>volume</th>\n",
       "    </tr>\n",
       "  </thead>\n",
       "  <tbody>\n",
       "    <tr>\n",
       "      <th>313</th>\n",
       "      <td>1559997600000</td>\n",
       "      <td>7920.10</td>\n",
       "      <td>7922.50</td>\n",
       "      <td>7916.38</td>\n",
       "      <td>7916.38</td>\n",
       "      <td>11.90</td>\n",
       "    </tr>\n",
       "    <tr>\n",
       "      <th>250</th>\n",
       "      <td>1559993820000</td>\n",
       "      <td>7959.30</td>\n",
       "      <td>7966.99</td>\n",
       "      <td>7956.22</td>\n",
       "      <td>7962.88</td>\n",
       "      <td>3.66</td>\n",
       "    </tr>\n",
       "    <tr>\n",
       "      <th>585</th>\n",
       "      <td>1560013920000</td>\n",
       "      <td>7819.68</td>\n",
       "      <td>7822.58</td>\n",
       "      <td>7815.03</td>\n",
       "      <td>7822.58</td>\n",
       "      <td>15.87</td>\n",
       "    </tr>\n",
       "  </tbody>\n",
       "</table>\n",
       "</div>"
      ],
      "text/plain": [
       "         open_time    open    high     low   close  volume\n",
       "313  1559997600000 7920.10 7922.50 7916.38 7916.38   11.90\n",
       "250  1559993820000 7959.30 7966.99 7956.22 7962.88    3.66\n",
       "585  1560013920000 7819.68 7822.58 7815.03 7822.58   15.87"
      ]
     },
     "execution_count": 7,
     "metadata": {},
     "output_type": "execute_result"
    }
   ],
   "source": [
    "# random sample\n",
    "df.sample(3)"
   ]
  },
  {
   "cell_type": "code",
   "execution_count": 8,
   "metadata": {},
   "outputs": [
    {
     "data": {
      "text/html": [
       "<div>\n",
       "<style scoped>\n",
       "    .dataframe tbody tr th:only-of-type {\n",
       "        vertical-align: middle;\n",
       "    }\n",
       "\n",
       "    .dataframe tbody tr th {\n",
       "        vertical-align: top;\n",
       "    }\n",
       "\n",
       "    .dataframe thead th {\n",
       "        text-align: right;\n",
       "    }\n",
       "</style>\n",
       "<table border=\"1\" class=\"dataframe\">\n",
       "  <thead>\n",
       "    <tr style=\"text-align: right;\">\n",
       "      <th></th>\n",
       "      <th>open_time</th>\n",
       "      <th>open</th>\n",
       "      <th>high</th>\n",
       "      <th>low</th>\n",
       "      <th>close</th>\n",
       "      <th>volume</th>\n",
       "    </tr>\n",
       "  </thead>\n",
       "  <tbody>\n",
       "    <tr>\n",
       "      <th>373</th>\n",
       "      <td>1560001200000</td>\n",
       "      <td>7935.69</td>\n",
       "      <td>7939.97</td>\n",
       "      <td>7930.41</td>\n",
       "      <td>7931.30</td>\n",
       "      <td>16.20</td>\n",
       "    </tr>\n",
       "    <tr>\n",
       "      <th>385</th>\n",
       "      <td>1560001920000</td>\n",
       "      <td>7938.14</td>\n",
       "      <td>7946.65</td>\n",
       "      <td>7938.14</td>\n",
       "      <td>7946.65</td>\n",
       "      <td>16.07</td>\n",
       "    </tr>\n",
       "    <tr>\n",
       "      <th>425</th>\n",
       "      <td>1560004320000</td>\n",
       "      <td>7900.41</td>\n",
       "      <td>7902.81</td>\n",
       "      <td>7899.17</td>\n",
       "      <td>7901.60</td>\n",
       "      <td>14.29</td>\n",
       "    </tr>\n",
       "  </tbody>\n",
       "</table>\n",
       "</div>"
      ],
      "text/plain": [
       "         open_time    open    high     low   close  volume\n",
       "373  1560001200000 7935.69 7939.97 7930.41 7931.30   16.20\n",
       "385  1560001920000 7938.14 7946.65 7938.14 7946.65   16.07\n",
       "425  1560004320000 7900.41 7902.81 7899.17 7901.60   14.29"
      ]
     },
     "execution_count": 8,
     "metadata": {},
     "output_type": "execute_result"
    }
   ],
   "source": [
    "# sample by fraction\n",
    "df.sample(frac=3.0/940)"
   ]
  },
  {
   "cell_type": "markdown",
   "metadata": {},
   "source": [
    "## data filter\n",
    "choosing the specified data "
   ]
  },
  {
   "cell_type": "code",
   "execution_count": 9,
   "metadata": {},
   "outputs": [
    {
     "data": {
      "text/plain": [
       "0   7907.46\n",
       "1   7906.42\n",
       "2   7908.07\n",
       "3   7914.99\n",
       "4   7916.52\n",
       "Name: open, dtype: float64"
      ]
     },
     "execution_count": 9,
     "metadata": {},
     "output_type": "execute_result"
    }
   ],
   "source": [
    "df['open'].head()"
   ]
  },
  {
   "cell_type": "code",
   "execution_count": 10,
   "metadata": {},
   "outputs": [
    {
     "data": {
      "text/html": [
       "<div>\n",
       "<style scoped>\n",
       "    .dataframe tbody tr th:only-of-type {\n",
       "        vertical-align: middle;\n",
       "    }\n",
       "\n",
       "    .dataframe tbody tr th {\n",
       "        vertical-align: top;\n",
       "    }\n",
       "\n",
       "    .dataframe thead th {\n",
       "        text-align: right;\n",
       "    }\n",
       "</style>\n",
       "<table border=\"1\" class=\"dataframe\">\n",
       "  <thead>\n",
       "    <tr style=\"text-align: right;\">\n",
       "      <th></th>\n",
       "      <th>open</th>\n",
       "      <th>high</th>\n",
       "    </tr>\n",
       "  </thead>\n",
       "  <tbody>\n",
       "    <tr>\n",
       "      <th>0</th>\n",
       "      <td>7907.46</td>\n",
       "      <td>7910.61</td>\n",
       "    </tr>\n",
       "    <tr>\n",
       "      <th>1</th>\n",
       "      <td>7906.42</td>\n",
       "      <td>7912.09</td>\n",
       "    </tr>\n",
       "    <tr>\n",
       "      <th>2</th>\n",
       "      <td>7908.07</td>\n",
       "      <td>7917.71</td>\n",
       "    </tr>\n",
       "    <tr>\n",
       "      <th>3</th>\n",
       "      <td>7914.99</td>\n",
       "      <td>7918.59</td>\n",
       "    </tr>\n",
       "    <tr>\n",
       "      <th>4</th>\n",
       "      <td>7916.52</td>\n",
       "      <td>7918.70</td>\n",
       "    </tr>\n",
       "  </tbody>\n",
       "</table>\n",
       "</div>"
      ],
      "text/plain": [
       "     open    high\n",
       "0 7907.46 7910.61\n",
       "1 7906.42 7912.09\n",
       "2 7908.07 7917.71\n",
       "3 7914.99 7918.59\n",
       "4 7916.52 7918.70"
      ]
     },
     "execution_count": 10,
     "metadata": {},
     "output_type": "execute_result"
    }
   ],
   "source": [
    "df[['open','high']].head()"
   ]
  },
  {
   "cell_type": "code",
   "execution_count": 11,
   "metadata": {},
   "outputs": [
    {
     "data": {
      "text/html": [
       "<div>\n",
       "<style scoped>\n",
       "    .dataframe tbody tr th:only-of-type {\n",
       "        vertical-align: middle;\n",
       "    }\n",
       "\n",
       "    .dataframe tbody tr th {\n",
       "        vertical-align: top;\n",
       "    }\n",
       "\n",
       "    .dataframe thead th {\n",
       "        text-align: right;\n",
       "    }\n",
       "</style>\n",
       "<table border=\"1\" class=\"dataframe\">\n",
       "  <thead>\n",
       "    <tr style=\"text-align: right;\">\n",
       "      <th></th>\n",
       "      <th>open_time</th>\n",
       "      <th>open</th>\n",
       "      <th>high</th>\n",
       "      <th>low</th>\n",
       "      <th>close</th>\n",
       "      <th>volume</th>\n",
       "      <th>index</th>\n",
       "    </tr>\n",
       "  </thead>\n",
       "  <tbody>\n",
       "    <tr>\n",
       "      <th>995</th>\n",
       "      <td>1560038520000</td>\n",
       "      <td>7912.24</td>\n",
       "      <td>7919.00</td>\n",
       "      <td>7910.03</td>\n",
       "      <td>7915.57</td>\n",
       "      <td>14.19</td>\n",
       "      <td>995</td>\n",
       "    </tr>\n",
       "    <tr>\n",
       "      <th>996</th>\n",
       "      <td>1560038580000</td>\n",
       "      <td>7915.74</td>\n",
       "      <td>7922.00</td>\n",
       "      <td>7914.79</td>\n",
       "      <td>7918.30</td>\n",
       "      <td>26.86</td>\n",
       "      <td>996</td>\n",
       "    </tr>\n",
       "    <tr>\n",
       "      <th>997</th>\n",
       "      <td>1560038640000</td>\n",
       "      <td>7916.93</td>\n",
       "      <td>7918.35</td>\n",
       "      <td>7913.69</td>\n",
       "      <td>7916.04</td>\n",
       "      <td>11.38</td>\n",
       "      <td>997</td>\n",
       "    </tr>\n",
       "    <tr>\n",
       "      <th>998</th>\n",
       "      <td>1560038700000</td>\n",
       "      <td>7916.98</td>\n",
       "      <td>7919.78</td>\n",
       "      <td>7913.18</td>\n",
       "      <td>7915.09</td>\n",
       "      <td>21.73</td>\n",
       "      <td>998</td>\n",
       "    </tr>\n",
       "    <tr>\n",
       "      <th>999</th>\n",
       "      <td>1560038760000</td>\n",
       "      <td>7915.71</td>\n",
       "      <td>7917.87</td>\n",
       "      <td>7913.18</td>\n",
       "      <td>7915.18</td>\n",
       "      <td>3.03</td>\n",
       "      <td>999</td>\n",
       "    </tr>\n",
       "  </tbody>\n",
       "</table>\n",
       "</div>"
      ],
      "text/plain": [
       "         open_time    open    high     low   close  volume  index\n",
       "995  1560038520000 7912.24 7919.00 7910.03 7915.57   14.19    995\n",
       "996  1560038580000 7915.74 7922.00 7914.79 7918.30   26.86    996\n",
       "997  1560038640000 7916.93 7918.35 7913.69 7916.04   11.38    997\n",
       "998  1560038700000 7916.98 7919.78 7913.18 7915.09   21.73    998\n",
       "999  1560038760000 7915.71 7917.87 7913.18 7915.18    3.03    999"
      ]
     },
     "execution_count": 11,
     "metadata": {},
     "output_type": "execute_result"
    }
   ],
   "source": [
    "# add one column\n",
    "df[\"index\"] = [i for i in range(df.shape[0])]\n",
    "df.tail()"
   ]
  },
  {
   "cell_type": "code",
   "execution_count": 12,
   "metadata": {},
   "outputs": [
    {
     "data": {
      "text/html": [
       "<div>\n",
       "<style scoped>\n",
       "    .dataframe tbody tr th:only-of-type {\n",
       "        vertical-align: middle;\n",
       "    }\n",
       "\n",
       "    .dataframe tbody tr th {\n",
       "        vertical-align: top;\n",
       "    }\n",
       "\n",
       "    .dataframe thead th {\n",
       "        text-align: right;\n",
       "    }\n",
       "</style>\n",
       "<table border=\"1\" class=\"dataframe\">\n",
       "  <thead>\n",
       "    <tr style=\"text-align: right;\">\n",
       "      <th></th>\n",
       "      <th>open_time</th>\n",
       "      <th>open</th>\n",
       "      <th>high</th>\n",
       "      <th>low</th>\n",
       "      <th>close</th>\n",
       "      <th>volume</th>\n",
       "      <th>index</th>\n",
       "      <th>trade_amount</th>\n",
       "    </tr>\n",
       "  </thead>\n",
       "  <tbody>\n",
       "    <tr>\n",
       "      <th>0</th>\n",
       "      <td>1559978820000</td>\n",
       "      <td>7907.46</td>\n",
       "      <td>7910.61</td>\n",
       "      <td>7905.03</td>\n",
       "      <td>7906.25</td>\n",
       "      <td>12.03</td>\n",
       "      <td>0</td>\n",
       "      <td>95130.96</td>\n",
       "    </tr>\n",
       "    <tr>\n",
       "      <th>1</th>\n",
       "      <td>1559978880000</td>\n",
       "      <td>7906.42</td>\n",
       "      <td>7912.09</td>\n",
       "      <td>7905.10</td>\n",
       "      <td>7910.13</td>\n",
       "      <td>9.97</td>\n",
       "      <td>1</td>\n",
       "      <td>78858.89</td>\n",
       "    </tr>\n",
       "    <tr>\n",
       "      <th>2</th>\n",
       "      <td>1559978940000</td>\n",
       "      <td>7908.07</td>\n",
       "      <td>7917.71</td>\n",
       "      <td>7907.00</td>\n",
       "      <td>7914.33</td>\n",
       "      <td>20.82</td>\n",
       "      <td>2</td>\n",
       "      <td>164800.59</td>\n",
       "    </tr>\n",
       "    <tr>\n",
       "      <th>3</th>\n",
       "      <td>1559979000000</td>\n",
       "      <td>7914.99</td>\n",
       "      <td>7918.59</td>\n",
       "      <td>7912.92</td>\n",
       "      <td>7917.43</td>\n",
       "      <td>7.13</td>\n",
       "      <td>3</td>\n",
       "      <td>56423.05</td>\n",
       "    </tr>\n",
       "    <tr>\n",
       "      <th>4</th>\n",
       "      <td>1559979060000</td>\n",
       "      <td>7916.52</td>\n",
       "      <td>7918.70</td>\n",
       "      <td>7913.16</td>\n",
       "      <td>7914.09</td>\n",
       "      <td>10.47</td>\n",
       "      <td>4</td>\n",
       "      <td>82898.48</td>\n",
       "    </tr>\n",
       "  </tbody>\n",
       "</table>\n",
       "</div>"
      ],
      "text/plain": [
       "       open_time    open    high     low   close  volume  index  trade_amount\n",
       "0  1559978820000 7907.46 7910.61 7905.03 7906.25   12.03      0      95130.96\n",
       "1  1559978880000 7906.42 7912.09 7905.10 7910.13    9.97      1      78858.89\n",
       "2  1559978940000 7908.07 7917.71 7907.00 7914.33   20.82      2     164800.59\n",
       "3  1559979000000 7914.99 7918.59 7912.92 7917.43    7.13      3      56423.05\n",
       "4  1559979060000 7916.52 7918.70 7913.16 7914.09   10.47      4      82898.48"
      ]
     },
     "execution_count": 12,
     "metadata": {},
     "output_type": "execute_result"
    }
   ],
   "source": [
    "# calculate the trade amount\n",
    "df['trade_amount'] = df['close']*df['volume']\n",
    "df.head()"
   ]
  },
  {
   "cell_type": "markdown",
   "metadata": {},
   "source": [
    "## timestamp transformation\n",
    "from ms timestamp to UTC time, then to UTC+8 timezone"
   ]
  },
  {
   "cell_type": "code",
   "execution_count": 13,
   "metadata": {},
   "outputs": [
    {
     "data": {
      "text/html": [
       "<div>\n",
       "<style scoped>\n",
       "    .dataframe tbody tr th:only-of-type {\n",
       "        vertical-align: middle;\n",
       "    }\n",
       "\n",
       "    .dataframe tbody tr th {\n",
       "        vertical-align: top;\n",
       "    }\n",
       "\n",
       "    .dataframe thead th {\n",
       "        text-align: right;\n",
       "    }\n",
       "</style>\n",
       "<table border=\"1\" class=\"dataframe\">\n",
       "  <thead>\n",
       "    <tr style=\"text-align: right;\">\n",
       "      <th></th>\n",
       "      <th>open_time</th>\n",
       "      <th>open</th>\n",
       "      <th>high</th>\n",
       "      <th>low</th>\n",
       "      <th>close</th>\n",
       "      <th>volume</th>\n",
       "      <th>index</th>\n",
       "      <th>trade_amount</th>\n",
       "      <th>open_time1</th>\n",
       "    </tr>\n",
       "  </thead>\n",
       "  <tbody>\n",
       "    <tr>\n",
       "      <th>0</th>\n",
       "      <td>1559978820000</td>\n",
       "      <td>7907.46</td>\n",
       "      <td>7910.61</td>\n",
       "      <td>7905.03</td>\n",
       "      <td>7906.25</td>\n",
       "      <td>12.03</td>\n",
       "      <td>0</td>\n",
       "      <td>95130.96</td>\n",
       "      <td>2019-06-08 15:27:00</td>\n",
       "    </tr>\n",
       "    <tr>\n",
       "      <th>1</th>\n",
       "      <td>1559978880000</td>\n",
       "      <td>7906.42</td>\n",
       "      <td>7912.09</td>\n",
       "      <td>7905.10</td>\n",
       "      <td>7910.13</td>\n",
       "      <td>9.97</td>\n",
       "      <td>1</td>\n",
       "      <td>78858.89</td>\n",
       "      <td>2019-06-08 15:28:00</td>\n",
       "    </tr>\n",
       "    <tr>\n",
       "      <th>2</th>\n",
       "      <td>1559978940000</td>\n",
       "      <td>7908.07</td>\n",
       "      <td>7917.71</td>\n",
       "      <td>7907.00</td>\n",
       "      <td>7914.33</td>\n",
       "      <td>20.82</td>\n",
       "      <td>2</td>\n",
       "      <td>164800.59</td>\n",
       "      <td>2019-06-08 15:29:00</td>\n",
       "    </tr>\n",
       "    <tr>\n",
       "      <th>3</th>\n",
       "      <td>1559979000000</td>\n",
       "      <td>7914.99</td>\n",
       "      <td>7918.59</td>\n",
       "      <td>7912.92</td>\n",
       "      <td>7917.43</td>\n",
       "      <td>7.13</td>\n",
       "      <td>3</td>\n",
       "      <td>56423.05</td>\n",
       "      <td>2019-06-08 15:30:00</td>\n",
       "    </tr>\n",
       "    <tr>\n",
       "      <th>4</th>\n",
       "      <td>1559979060000</td>\n",
       "      <td>7916.52</td>\n",
       "      <td>7918.70</td>\n",
       "      <td>7913.16</td>\n",
       "      <td>7914.09</td>\n",
       "      <td>10.47</td>\n",
       "      <td>4</td>\n",
       "      <td>82898.48</td>\n",
       "      <td>2019-06-08 15:31:00</td>\n",
       "    </tr>\n",
       "  </tbody>\n",
       "</table>\n",
       "</div>"
      ],
      "text/plain": [
       "       open_time    open    high     low   close  volume  index  trade_amount          open_time1\n",
       "0  1559978820000 7907.46 7910.61 7905.03 7906.25   12.03      0      95130.96 2019-06-08 15:27:00\n",
       "1  1559978880000 7906.42 7912.09 7905.10 7910.13    9.97      1      78858.89 2019-06-08 15:28:00\n",
       "2  1559978940000 7908.07 7917.71 7907.00 7914.33   20.82      2     164800.59 2019-06-08 15:29:00\n",
       "3  1559979000000 7914.99 7918.59 7912.92 7917.43    7.13      3      56423.05 2019-06-08 15:30:00\n",
       "4  1559979060000 7916.52 7918.70 7913.16 7914.09   10.47      4      82898.48 2019-06-08 15:31:00"
      ]
     },
     "execution_count": 13,
     "metadata": {},
     "output_type": "execute_result"
    }
   ],
   "source": [
    "df[\"open_time1\"] = pd.to_datetime(df[\"open_time\"], unit='ms')+ pd.Timedelta(hours=8)\n",
    "df.head()"
   ]
  },
  {
   "cell_type": "markdown",
   "metadata": {},
   "source": [
    "## data locate\n",
    "fing exactly data in specified position\n",
    "- loc[row range, column name]\n",
    "- iloc[row range, column range]\n"
   ]
  },
  {
   "cell_type": "code",
   "execution_count": 14,
   "metadata": {},
   "outputs": [
    {
     "data": {
      "text/plain": [
       "open_time             1559978820000\n",
       "open                        7907.46\n",
       "high                        7910.61\n",
       "low                         7905.03\n",
       "close                       7906.25\n",
       "volume                        12.03\n",
       "index                             0\n",
       "trade_amount               95130.96\n",
       "open_time1      2019-06-08 15:27:00\n",
       "Name: 0, dtype: object"
      ]
     },
     "execution_count": 14,
     "metadata": {},
     "output_type": "execute_result"
    }
   ],
   "source": [
    "# select the first row\n",
    "df.loc[0]"
   ]
  },
  {
   "cell_type": "code",
   "execution_count": 15,
   "metadata": {},
   "outputs": [
    {
     "data": {
      "text/html": [
       "<div>\n",
       "<style scoped>\n",
       "    .dataframe tbody tr th:only-of-type {\n",
       "        vertical-align: middle;\n",
       "    }\n",
       "\n",
       "    .dataframe tbody tr th {\n",
       "        vertical-align: top;\n",
       "    }\n",
       "\n",
       "    .dataframe thead th {\n",
       "        text-align: right;\n",
       "    }\n",
       "</style>\n",
       "<table border=\"1\" class=\"dataframe\">\n",
       "  <thead>\n",
       "    <tr style=\"text-align: right;\">\n",
       "      <th></th>\n",
       "      <th>open_time</th>\n",
       "      <th>open</th>\n",
       "      <th>high</th>\n",
       "      <th>low</th>\n",
       "      <th>close</th>\n",
       "      <th>volume</th>\n",
       "      <th>index</th>\n",
       "      <th>trade_amount</th>\n",
       "      <th>open_time1</th>\n",
       "    </tr>\n",
       "  </thead>\n",
       "  <tbody>\n",
       "    <tr>\n",
       "      <th>0</th>\n",
       "      <td>1559978820000</td>\n",
       "      <td>7907.46</td>\n",
       "      <td>7910.61</td>\n",
       "      <td>7905.03</td>\n",
       "      <td>7906.25</td>\n",
       "      <td>12.03</td>\n",
       "      <td>0</td>\n",
       "      <td>95130.96</td>\n",
       "      <td>2019-06-08 15:27:00</td>\n",
       "    </tr>\n",
       "    <tr>\n",
       "      <th>1</th>\n",
       "      <td>1559978880000</td>\n",
       "      <td>7906.42</td>\n",
       "      <td>7912.09</td>\n",
       "      <td>7905.10</td>\n",
       "      <td>7910.13</td>\n",
       "      <td>9.97</td>\n",
       "      <td>1</td>\n",
       "      <td>78858.89</td>\n",
       "      <td>2019-06-08 15:28:00</td>\n",
       "    </tr>\n",
       "    <tr>\n",
       "      <th>2</th>\n",
       "      <td>1559978940000</td>\n",
       "      <td>7908.07</td>\n",
       "      <td>7917.71</td>\n",
       "      <td>7907.00</td>\n",
       "      <td>7914.33</td>\n",
       "      <td>20.82</td>\n",
       "      <td>2</td>\n",
       "      <td>164800.59</td>\n",
       "      <td>2019-06-08 15:29:00</td>\n",
       "    </tr>\n",
       "  </tbody>\n",
       "</table>\n",
       "</div>"
      ],
      "text/plain": [
       "       open_time    open    high     low   close  volume  index  trade_amount          open_time1\n",
       "0  1559978820000 7907.46 7910.61 7905.03 7906.25   12.03      0      95130.96 2019-06-08 15:27:00\n",
       "1  1559978880000 7906.42 7912.09 7905.10 7910.13    9.97      1      78858.89 2019-06-08 15:28:00\n",
       "2  1559978940000 7908.07 7917.71 7907.00 7914.33   20.82      2     164800.59 2019-06-08 15:29:00"
      ]
     },
     "execution_count": 15,
     "metadata": {},
     "output_type": "execute_result"
    }
   ],
   "source": [
    "# select the first 3 row\n",
    "df.loc[0:2]"
   ]
  },
  {
   "cell_type": "code",
   "execution_count": 16,
   "metadata": {},
   "outputs": [
    {
     "data": {
      "text/html": [
       "<div>\n",
       "<style scoped>\n",
       "    .dataframe tbody tr th:only-of-type {\n",
       "        vertical-align: middle;\n",
       "    }\n",
       "\n",
       "    .dataframe tbody tr th {\n",
       "        vertical-align: top;\n",
       "    }\n",
       "\n",
       "    .dataframe thead th {\n",
       "        text-align: right;\n",
       "    }\n",
       "</style>\n",
       "<table border=\"1\" class=\"dataframe\">\n",
       "  <thead>\n",
       "    <tr style=\"text-align: right;\">\n",
       "      <th></th>\n",
       "      <th>open</th>\n",
       "      <th>close</th>\n",
       "    </tr>\n",
       "  </thead>\n",
       "  <tbody>\n",
       "    <tr>\n",
       "      <th>0</th>\n",
       "      <td>7907.46</td>\n",
       "      <td>7906.25</td>\n",
       "    </tr>\n",
       "    <tr>\n",
       "      <th>1</th>\n",
       "      <td>7906.42</td>\n",
       "      <td>7910.13</td>\n",
       "    </tr>\n",
       "    <tr>\n",
       "      <th>2</th>\n",
       "      <td>7908.07</td>\n",
       "      <td>7914.33</td>\n",
       "    </tr>\n",
       "    <tr>\n",
       "      <th>3</th>\n",
       "      <td>7914.99</td>\n",
       "      <td>7917.43</td>\n",
       "    </tr>\n",
       "    <tr>\n",
       "      <th>4</th>\n",
       "      <td>7916.52</td>\n",
       "      <td>7914.09</td>\n",
       "    </tr>\n",
       "  </tbody>\n",
       "</table>\n",
       "</div>"
      ],
      "text/plain": [
       "     open   close\n",
       "0 7907.46 7906.25\n",
       "1 7906.42 7910.13\n",
       "2 7908.07 7914.33\n",
       "3 7914.99 7917.43\n",
       "4 7916.52 7914.09"
      ]
     },
     "execution_count": 16,
     "metadata": {},
     "output_type": "execute_result"
    }
   ],
   "source": [
    "# select two columns\n",
    "df.loc[:,['open','close']].head()"
   ]
  },
  {
   "cell_type": "code",
   "execution_count": 17,
   "metadata": {},
   "outputs": [
    {
     "data": {
      "text/plain": [
       "7907.46"
      ]
     },
     "execution_count": 17,
     "metadata": {},
     "output_type": "execute_result"
    }
   ],
   "source": [
    "# select the data of 'open' in first row\n",
    "df.loc[0,'open']"
   ]
  },
  {
   "cell_type": "markdown",
   "metadata": {},
   "source": [
    "## statistic functions"
   ]
  },
  {
   "cell_type": "code",
   "execution_count": 18,
   "metadata": {},
   "outputs": [
    {
     "data": {
      "text/plain": [
       "7893.473650000001"
      ]
     },
     "execution_count": 18,
     "metadata": {},
     "output_type": "execute_result"
    }
   ],
   "source": [
    "df['close'].mean()"
   ]
  },
  {
   "cell_type": "code",
   "execution_count": 19,
   "metadata": {},
   "outputs": [
    {
     "data": {
      "text/plain": [
       "close    7893.47\n",
       "volume     15.89\n",
       "dtype: float64"
      ]
     },
     "execution_count": 19,
     "metadata": {},
     "output_type": "execute_result"
    }
   ],
   "source": [
    "# multi column, one calculate\n",
    "df[['close','volume']].mean()"
   ]
  },
  {
   "cell_type": "code",
   "execution_count": 20,
   "metadata": {},
   "outputs": [
    {
     "data": {
      "text/plain": [
       "0   3959.14\n",
       "1   3960.05\n",
       "2   3967.58\n",
       "3   3962.28\n",
       "4   3962.28\n",
       "dtype: float64"
      ]
     },
     "execution_count": 20,
     "metadata": {},
     "output_type": "execute_result"
    }
   ],
   "source": [
    "# multi column, one calculate, use axis=1 means by row\n",
    "# this is not correct\n",
    "df[['close','volume']].mean(axis=1).head()"
   ]
  },
  {
   "cell_type": "code",
   "execution_count": 21,
   "metadata": {},
   "outputs": [
    {
     "data": {
      "text/plain": [
       "max      7998.01\n",
       "min      7768.78\n",
       "std        53.40\n",
       "mean     7893.47\n",
       "count    1000.00\n",
       "median   7905.03\n",
       "Name: close, dtype: float64"
      ]
     },
     "execution_count": 21,
     "metadata": {},
     "output_type": "execute_result"
    }
   ],
   "source": [
    "# one column, multi calculate\n",
    "df['close'].agg(['max','min','std','mean','count','median'])"
   ]
  },
  {
   "cell_type": "code",
   "execution_count": 22,
   "metadata": {},
   "outputs": [
    {
     "data": {
      "text/plain": [
       "7844.885"
      ]
     },
     "execution_count": 22,
     "metadata": {},
     "output_type": "execute_result"
    }
   ],
   "source": [
    "df['close'].quantile(0.25)"
   ]
  },
  {
   "cell_type": "code",
   "execution_count": null,
   "metadata": {},
   "outputs": [],
   "source": []
  }
 ],
 "metadata": {
  "kernelspec": {
   "display_name": "Python 3",
   "language": "python",
   "name": "python3"
  },
  "language_info": {
   "codemirror_mode": {
    "name": "ipython",
    "version": 3
   },
   "file_extension": ".py",
   "mimetype": "text/x-python",
   "name": "python",
   "nbconvert_exporter": "python",
   "pygments_lexer": "ipython3",
   "version": "3.7.3"
  },
  "toc": {
   "base_numbering": 1,
   "nav_menu": {},
   "number_sections": true,
   "sideBar": true,
   "skip_h1_title": false,
   "title_cell": "Table of Contents",
   "title_sidebar": "Contents",
   "toc_cell": false,
   "toc_position": {},
   "toc_section_display": true,
   "toc_window_display": true
  }
 },
 "nbformat": 4,
 "nbformat_minor": 2
}
