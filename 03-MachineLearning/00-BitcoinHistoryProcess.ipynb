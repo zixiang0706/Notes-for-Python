{
 "cells": [
  {
   "cell_type": "markdown",
   "metadata": {},
   "source": [
    "# data process"
   ]
  },
  {
   "cell_type": "code",
   "execution_count": 1,
   "metadata": {
    "ExecuteTime": {
     "end_time": "2019-09-23T21:44:17.370695Z",
     "start_time": "2019-09-23T21:44:16.592908Z"
    }
   },
   "outputs": [],
   "source": [
    "# import the dependance \n",
    "import pandas as pd\n",
    "import os\n",
    "import seaborn as sns\n",
    "import matplotlib.pyplot as plt\n",
    "sns.set(rc={'axes.facecolor':'cornflowerblue', 'figure.facecolor':'cornflowerblue'})\n",
    "\n",
    "pd.set_option('expand_frame_repr', False)  # 当列太多时不换行\n",
    "# pd.set_option('display.max_rows', 1000)  # 最多显示行数.\n",
    "# pd.set_option('precision', 6)  # 浮点数的精度\n",
    "pd.set_option('display.float_format', lambda x: '%.4f' % x)  # 设置不用科学计数法，保留两位小数."
   ]
  },
  {
   "cell_type": "code",
   "execution_count": 2,
   "metadata": {
    "ExecuteTime": {
     "end_time": "2019-09-23T21:44:17.478718Z",
     "start_time": "2019-09-23T21:44:17.372456Z"
    }
   },
   "outputs": [
    {
     "data": {
      "text/html": [
       "<div>\n",
       "<style scoped>\n",
       "    .dataframe tbody tr th:only-of-type {\n",
       "        vertical-align: middle;\n",
       "    }\n",
       "\n",
       "    .dataframe tbody tr th {\n",
       "        vertical-align: top;\n",
       "    }\n",
       "\n",
       "    .dataframe thead th {\n",
       "        text-align: right;\n",
       "    }\n",
       "</style>\n",
       "<table border=\"1\" class=\"dataframe\">\n",
       "  <thead>\n",
       "    <tr style=\"text-align: right;\">\n",
       "      <th></th>\n",
       "      <th>open</th>\n",
       "      <th>high</th>\n",
       "      <th>low</th>\n",
       "      <th>close</th>\n",
       "      <th>volume</th>\n",
       "    </tr>\n",
       "  </thead>\n",
       "  <tbody>\n",
       "    <tr>\n",
       "      <th>count</th>\n",
       "      <td>56858.0000</td>\n",
       "      <td>56858.0000</td>\n",
       "      <td>56858.0000</td>\n",
       "      <td>56858.0000</td>\n",
       "      <td>56858.0000</td>\n",
       "    </tr>\n",
       "    <tr>\n",
       "      <th>mean</th>\n",
       "      <td>10184.5692</td>\n",
       "      <td>10189.4174</td>\n",
       "      <td>10179.6130</td>\n",
       "      <td>10184.5636</td>\n",
       "      <td>22.6192</td>\n",
       "    </tr>\n",
       "    <tr>\n",
       "      <th>std</th>\n",
       "      <td>301.3862</td>\n",
       "      <td>301.6104</td>\n",
       "      <td>301.1631</td>\n",
       "      <td>301.3873</td>\n",
       "      <td>45.3706</td>\n",
       "    </tr>\n",
       "    <tr>\n",
       "      <th>min</th>\n",
       "      <td>9339.9200</td>\n",
       "      <td>9356.5200</td>\n",
       "      <td>9320.0000</td>\n",
       "      <td>9339.9200</td>\n",
       "      <td>0.5993</td>\n",
       "    </tr>\n",
       "    <tr>\n",
       "      <th>25%</th>\n",
       "      <td>10043.4550</td>\n",
       "      <td>10049.7900</td>\n",
       "      <td>10038.1075</td>\n",
       "      <td>10043.4250</td>\n",
       "      <td>7.1979</td>\n",
       "    </tr>\n",
       "    <tr>\n",
       "      <th>50%</th>\n",
       "      <td>10202.9450</td>\n",
       "      <td>10206.7300</td>\n",
       "      <td>10199.2550</td>\n",
       "      <td>10202.8700</td>\n",
       "      <td>12.2045</td>\n",
       "    </tr>\n",
       "    <tr>\n",
       "      <th>75%</th>\n",
       "      <td>10361.9000</td>\n",
       "      <td>10366.6900</td>\n",
       "      <td>10356.6925</td>\n",
       "      <td>10361.8450</td>\n",
       "      <td>22.2169</td>\n",
       "    </tr>\n",
       "    <tr>\n",
       "      <th>max</th>\n",
       "      <td>10943.9900</td>\n",
       "      <td>10949.9600</td>\n",
       "      <td>10941.0000</td>\n",
       "      <td>10943.9900</td>\n",
       "      <td>2507.9824</td>\n",
       "    </tr>\n",
       "  </tbody>\n",
       "</table>\n",
       "</div>"
      ],
      "text/plain": [
       "            open       high        low      close     volume\n",
       "count 56858.0000 56858.0000 56858.0000 56858.0000 56858.0000\n",
       "mean  10184.5692 10189.4174 10179.6130 10184.5636    22.6192\n",
       "std     301.3862   301.6104   301.1631   301.3873    45.3706\n",
       "min    9339.9200  9356.5200  9320.0000  9339.9200     0.5993\n",
       "25%   10043.4550 10049.7900 10038.1075 10043.4250     7.1979\n",
       "50%   10202.9450 10206.7300 10199.2550 10202.8700    12.2045\n",
       "75%   10361.9000 10366.6900 10356.6925 10361.8450    22.2169\n",
       "max   10943.9900 10949.9600 10941.0000 10943.9900  2507.9824"
      ]
     },
     "execution_count": 2,
     "metadata": {},
     "output_type": "execute_result"
    }
   ],
   "source": [
    "# read data\n",
    "df = pd.read_csv('./asset/binance_btc_1min_2019.csv')\n",
    "df.describe()"
   ]
  },
  {
   "cell_type": "code",
   "execution_count": 3,
   "metadata": {
    "ExecuteTime": {
     "end_time": "2019-09-23T21:44:17.492657Z",
     "start_time": "2019-09-23T21:44:17.480208Z"
    }
   },
   "outputs": [
    {
     "name": "stdout",
     "output_type": "stream",
     "text": [
      "<class 'pandas.core.frame.DataFrame'>\n",
      "RangeIndex: 56858 entries, 0 to 56857\n",
      "Data columns (total 6 columns):\n",
      "open_time    56858 non-null object\n",
      "open         56858 non-null float64\n",
      "high         56858 non-null float64\n",
      "low          56858 non-null float64\n",
      "close        56858 non-null float64\n",
      "volume       56858 non-null float64\n",
      "dtypes: float64(5), object(1)\n",
      "memory usage: 2.6+ MB\n"
     ]
    }
   ],
   "source": [
    "df.info()"
   ]
  },
  {
   "cell_type": "code",
   "execution_count": 4,
   "metadata": {
    "ExecuteTime": {
     "end_time": "2019-09-23T21:44:17.501973Z",
     "start_time": "2019-09-23T21:44:17.493982Z"
    }
   },
   "outputs": [
    {
     "data": {
      "text/html": [
       "<div>\n",
       "<style scoped>\n",
       "    .dataframe tbody tr th:only-of-type {\n",
       "        vertical-align: middle;\n",
       "    }\n",
       "\n",
       "    .dataframe tbody tr th {\n",
       "        vertical-align: top;\n",
       "    }\n",
       "\n",
       "    .dataframe thead th {\n",
       "        text-align: right;\n",
       "    }\n",
       "</style>\n",
       "<table border=\"1\" class=\"dataframe\">\n",
       "  <thead>\n",
       "    <tr style=\"text-align: right;\">\n",
       "      <th></th>\n",
       "      <th>open_time</th>\n",
       "      <th>open</th>\n",
       "      <th>high</th>\n",
       "      <th>low</th>\n",
       "      <th>close</th>\n",
       "      <th>volume</th>\n",
       "    </tr>\n",
       "  </thead>\n",
       "  <tbody>\n",
       "    <tr>\n",
       "      <th>0</th>\n",
       "      <td>2019-08-15 10:00:00</td>\n",
       "      <td>10085.6500</td>\n",
       "      <td>10085.6500</td>\n",
       "      <td>9945.8600</td>\n",
       "      <td>9992.6800</td>\n",
       "      <td>314.0711</td>\n",
       "    </tr>\n",
       "    <tr>\n",
       "      <th>1</th>\n",
       "      <td>2019-08-15 10:01:00</td>\n",
       "      <td>9974.5000</td>\n",
       "      <td>9995.5700</td>\n",
       "      <td>9962.3800</td>\n",
       "      <td>9985.3500</td>\n",
       "      <td>69.2413</td>\n",
       "    </tr>\n",
       "    <tr>\n",
       "      <th>2</th>\n",
       "      <td>2019-08-15 10:02:00</td>\n",
       "      <td>9985.3500</td>\n",
       "      <td>10083.2700</td>\n",
       "      <td>9985.0000</td>\n",
       "      <td>10050.3600</td>\n",
       "      <td>130.6083</td>\n",
       "    </tr>\n",
       "    <tr>\n",
       "      <th>3</th>\n",
       "      <td>2019-08-15 10:03:00</td>\n",
       "      <td>10051.9500</td>\n",
       "      <td>10104.4900</td>\n",
       "      <td>10050.3600</td>\n",
       "      <td>10073.9700</td>\n",
       "      <td>266.5547</td>\n",
       "    </tr>\n",
       "    <tr>\n",
       "      <th>4</th>\n",
       "      <td>2019-08-15 10:04:00</td>\n",
       "      <td>10075.9700</td>\n",
       "      <td>10104.4900</td>\n",
       "      <td>10061.6600</td>\n",
       "      <td>10102.3600</td>\n",
       "      <td>179.5553</td>\n",
       "    </tr>\n",
       "  </tbody>\n",
       "</table>\n",
       "</div>"
      ],
      "text/plain": [
       "             open_time       open       high        low      close   volume\n",
       "0  2019-08-15 10:00:00 10085.6500 10085.6500  9945.8600  9992.6800 314.0711\n",
       "1  2019-08-15 10:01:00  9974.5000  9995.5700  9962.3800  9985.3500  69.2413\n",
       "2  2019-08-15 10:02:00  9985.3500 10083.2700  9985.0000 10050.3600 130.6083\n",
       "3  2019-08-15 10:03:00 10051.9500 10104.4900 10050.3600 10073.9700 266.5547\n",
       "4  2019-08-15 10:04:00 10075.9700 10104.4900 10061.6600 10102.3600 179.5553"
      ]
     },
     "execution_count": 4,
     "metadata": {},
     "output_type": "execute_result"
    }
   ],
   "source": [
    "df.head()"
   ]
  },
  {
   "cell_type": "code",
   "execution_count": 6,
   "metadata": {
    "ExecuteTime": {
     "end_time": "2019-09-23T21:44:36.583658Z",
     "start_time": "2019-09-23T21:44:36.555271Z"
    }
   },
   "outputs": [
    {
     "data": {
      "text/html": [
       "<div>\n",
       "<style scoped>\n",
       "    .dataframe tbody tr th:only-of-type {\n",
       "        vertical-align: middle;\n",
       "    }\n",
       "\n",
       "    .dataframe tbody tr th {\n",
       "        vertical-align: top;\n",
       "    }\n",
       "\n",
       "    .dataframe thead th {\n",
       "        text-align: right;\n",
       "    }\n",
       "</style>\n",
       "<table border=\"1\" class=\"dataframe\">\n",
       "  <thead>\n",
       "    <tr style=\"text-align: right;\">\n",
       "      <th></th>\n",
       "      <th>open_time</th>\n",
       "      <th>open</th>\n",
       "      <th>high</th>\n",
       "      <th>low</th>\n",
       "      <th>close</th>\n",
       "      <th>volume</th>\n",
       "      <th>open_time_local</th>\n",
       "    </tr>\n",
       "  </thead>\n",
       "  <tbody>\n",
       "    <tr>\n",
       "      <th>840</th>\n",
       "      <td>2019-08-16 00:00:00</td>\n",
       "      <td>10296.7700</td>\n",
       "      <td>10296.7700</td>\n",
       "      <td>10281.9200</td>\n",
       "      <td>10282.1300</td>\n",
       "      <td>26.1619</td>\n",
       "      <td>2019-08-16 00:00:00</td>\n",
       "    </tr>\n",
       "    <tr>\n",
       "      <th>841</th>\n",
       "      <td>2019-08-16 00:01:00</td>\n",
       "      <td>10282.1000</td>\n",
       "      <td>10286.3900</td>\n",
       "      <td>10274.9400</td>\n",
       "      <td>10282.7200</td>\n",
       "      <td>30.7013</td>\n",
       "      <td>2019-08-16 00:01:00</td>\n",
       "    </tr>\n",
       "    <tr>\n",
       "      <th>842</th>\n",
       "      <td>2019-08-16 00:02:00</td>\n",
       "      <td>10282.7400</td>\n",
       "      <td>10284.2400</td>\n",
       "      <td>10271.4500</td>\n",
       "      <td>10276.9500</td>\n",
       "      <td>12.9901</td>\n",
       "      <td>2019-08-16 00:02:00</td>\n",
       "    </tr>\n",
       "    <tr>\n",
       "      <th>843</th>\n",
       "      <td>2019-08-16 00:03:00</td>\n",
       "      <td>10275.6000</td>\n",
       "      <td>10279.7500</td>\n",
       "      <td>10265.3400</td>\n",
       "      <td>10266.9300</td>\n",
       "      <td>13.3994</td>\n",
       "      <td>2019-08-16 00:03:00</td>\n",
       "    </tr>\n",
       "    <tr>\n",
       "      <th>844</th>\n",
       "      <td>2019-08-16 00:04:00</td>\n",
       "      <td>10266.5000</td>\n",
       "      <td>10272.3400</td>\n",
       "      <td>10264.6100</td>\n",
       "      <td>10269.5000</td>\n",
       "      <td>7.7376</td>\n",
       "      <td>2019-08-16 00:04:00</td>\n",
       "    </tr>\n",
       "  </tbody>\n",
       "</table>\n",
       "</div>"
      ],
      "text/plain": [
       "               open_time       open       high        low      close  volume     open_time_local\n",
       "840  2019-08-16 00:00:00 10296.7700 10296.7700 10281.9200 10282.1300 26.1619 2019-08-16 00:00:00\n",
       "841  2019-08-16 00:01:00 10282.1000 10286.3900 10274.9400 10282.7200 30.7013 2019-08-16 00:01:00\n",
       "842  2019-08-16 00:02:00 10282.7400 10284.2400 10271.4500 10276.9500 12.9901 2019-08-16 00:02:00\n",
       "843  2019-08-16 00:03:00 10275.6000 10279.7500 10265.3400 10266.9300 13.3994 2019-08-16 00:03:00\n",
       "844  2019-08-16 00:04:00 10266.5000 10272.3400 10264.6100 10269.5000  7.7376 2019-08-16 00:04:00"
      ]
     },
     "execution_count": 6,
     "metadata": {},
     "output_type": "execute_result"
    }
   ],
   "source": [
    "# cut the reducdant info\n",
    "df['open_time_local'] = pd.to_datetime(df['open_time'])\n",
    "df = df[df['open_time_local']>=pd.to_datetime('2019-08-16 00:00:00')]\n",
    "df.head()"
   ]
  },
  {
   "cell_type": "code",
   "execution_count": 8,
   "metadata": {
    "ExecuteTime": {
     "end_time": "2019-09-23T21:45:08.225564Z",
     "start_time": "2019-09-23T21:45:08.202109Z"
    }
   },
   "outputs": [
    {
     "data": {
      "text/html": [
       "<div>\n",
       "<style scoped>\n",
       "    .dataframe tbody tr th:only-of-type {\n",
       "        vertical-align: middle;\n",
       "    }\n",
       "\n",
       "    .dataframe tbody tr th {\n",
       "        vertical-align: top;\n",
       "    }\n",
       "\n",
       "    .dataframe thead th {\n",
       "        text-align: right;\n",
       "    }\n",
       "</style>\n",
       "<table border=\"1\" class=\"dataframe\">\n",
       "  <thead>\n",
       "    <tr style=\"text-align: right;\">\n",
       "      <th></th>\n",
       "      <th>open</th>\n",
       "      <th>high</th>\n",
       "      <th>low</th>\n",
       "      <th>close</th>\n",
       "      <th>volume</th>\n",
       "    </tr>\n",
       "    <tr>\n",
       "      <th>open_time_local</th>\n",
       "      <th></th>\n",
       "      <th></th>\n",
       "      <th></th>\n",
       "      <th></th>\n",
       "      <th></th>\n",
       "    </tr>\n",
       "  </thead>\n",
       "  <tbody>\n",
       "    <tr>\n",
       "      <th>2019-08-16 00:00:00</th>\n",
       "      <td>10296.7700</td>\n",
       "      <td>10368.2900</td>\n",
       "      <td>10250.0000</td>\n",
       "      <td>10302.3600</td>\n",
       "      <td>1294.7296</td>\n",
       "    </tr>\n",
       "    <tr>\n",
       "      <th>2019-08-16 01:00:00</th>\n",
       "      <td>10304.4500</td>\n",
       "      <td>10398.5400</td>\n",
       "      <td>10302.4900</td>\n",
       "      <td>10353.4000</td>\n",
       "      <td>917.3373</td>\n",
       "    </tr>\n",
       "    <tr>\n",
       "      <th>2019-08-16 02:00:00</th>\n",
       "      <td>10353.1100</td>\n",
       "      <td>10417.0000</td>\n",
       "      <td>10327.6200</td>\n",
       "      <td>10350.3900</td>\n",
       "      <td>1120.9594</td>\n",
       "    </tr>\n",
       "    <tr>\n",
       "      <th>2019-08-16 03:00:00</th>\n",
       "      <td>10350.2700</td>\n",
       "      <td>10359.1100</td>\n",
       "      <td>10271.0000</td>\n",
       "      <td>10324.6100</td>\n",
       "      <td>1041.7636</td>\n",
       "    </tr>\n",
       "    <tr>\n",
       "      <th>2019-08-16 04:00:00</th>\n",
       "      <td>10327.0200</td>\n",
       "      <td>10342.2000</td>\n",
       "      <td>10064.8100</td>\n",
       "      <td>10091.8800</td>\n",
       "      <td>2792.1286</td>\n",
       "    </tr>\n",
       "  </tbody>\n",
       "</table>\n",
       "</div>"
      ],
      "text/plain": [
       "                          open       high        low      close    volume\n",
       "open_time_local                                                          \n",
       "2019-08-16 00:00:00 10296.7700 10368.2900 10250.0000 10302.3600 1294.7296\n",
       "2019-08-16 01:00:00 10304.4500 10398.5400 10302.4900 10353.4000  917.3373\n",
       "2019-08-16 02:00:00 10353.1100 10417.0000 10327.6200 10350.3900 1120.9594\n",
       "2019-08-16 03:00:00 10350.2700 10359.1100 10271.0000 10324.6100 1041.7636\n",
       "2019-08-16 04:00:00 10327.0200 10342.2000 10064.8100 10091.8800 2792.1286"
      ]
     },
     "execution_count": 8,
     "metadata": {},
     "output_type": "execute_result"
    }
   ],
   "source": [
    "# sampling by 1h\n",
    "df.set_index('open_time_local', inplace=True)\n",
    "df_s = df.resample(rule='1H').agg({'open': 'first','high': 'max','low': 'min',\n",
    "                                   'close': 'last','volume': 'sum',})\n",
    "df_s.head()"
   ]
  },
  {
   "cell_type": "code",
   "execution_count": 9,
   "metadata": {
    "ExecuteTime": {
     "end_time": "2019-09-23T21:45:52.203573Z",
     "start_time": "2019-09-23T21:45:52.189187Z"
    }
   },
   "outputs": [
    {
     "data": {
      "text/html": [
       "<div>\n",
       "<style scoped>\n",
       "    .dataframe tbody tr th:only-of-type {\n",
       "        vertical-align: middle;\n",
       "    }\n",
       "\n",
       "    .dataframe tbody tr th {\n",
       "        vertical-align: top;\n",
       "    }\n",
       "\n",
       "    .dataframe thead th {\n",
       "        text-align: right;\n",
       "    }\n",
       "</style>\n",
       "<table border=\"1\" class=\"dataframe\">\n",
       "  <thead>\n",
       "    <tr style=\"text-align: right;\">\n",
       "      <th></th>\n",
       "      <th>open</th>\n",
       "      <th>high</th>\n",
       "      <th>low</th>\n",
       "      <th>close</th>\n",
       "      <th>volume</th>\n",
       "      <th>date</th>\n",
       "      <th>hour</th>\n",
       "    </tr>\n",
       "    <tr>\n",
       "      <th>open_time_local</th>\n",
       "      <th></th>\n",
       "      <th></th>\n",
       "      <th></th>\n",
       "      <th></th>\n",
       "      <th></th>\n",
       "      <th></th>\n",
       "      <th></th>\n",
       "    </tr>\n",
       "  </thead>\n",
       "  <tbody>\n",
       "    <tr>\n",
       "      <th>2019-08-16 00:00:00</th>\n",
       "      <td>10296.7700</td>\n",
       "      <td>10368.2900</td>\n",
       "      <td>10250.0000</td>\n",
       "      <td>10302.3600</td>\n",
       "      <td>1294.7296</td>\n",
       "      <td>2019-08-16</td>\n",
       "      <td>00:00:00</td>\n",
       "    </tr>\n",
       "    <tr>\n",
       "      <th>2019-08-16 01:00:00</th>\n",
       "      <td>10304.4500</td>\n",
       "      <td>10398.5400</td>\n",
       "      <td>10302.4900</td>\n",
       "      <td>10353.4000</td>\n",
       "      <td>917.3373</td>\n",
       "      <td>2019-08-16</td>\n",
       "      <td>01:00:00</td>\n",
       "    </tr>\n",
       "    <tr>\n",
       "      <th>2019-08-16 02:00:00</th>\n",
       "      <td>10353.1100</td>\n",
       "      <td>10417.0000</td>\n",
       "      <td>10327.6200</td>\n",
       "      <td>10350.3900</td>\n",
       "      <td>1120.9594</td>\n",
       "      <td>2019-08-16</td>\n",
       "      <td>02:00:00</td>\n",
       "    </tr>\n",
       "    <tr>\n",
       "      <th>2019-08-16 03:00:00</th>\n",
       "      <td>10350.2700</td>\n",
       "      <td>10359.1100</td>\n",
       "      <td>10271.0000</td>\n",
       "      <td>10324.6100</td>\n",
       "      <td>1041.7636</td>\n",
       "      <td>2019-08-16</td>\n",
       "      <td>03:00:00</td>\n",
       "    </tr>\n",
       "    <tr>\n",
       "      <th>2019-08-16 04:00:00</th>\n",
       "      <td>10327.0200</td>\n",
       "      <td>10342.2000</td>\n",
       "      <td>10064.8100</td>\n",
       "      <td>10091.8800</td>\n",
       "      <td>2792.1286</td>\n",
       "      <td>2019-08-16</td>\n",
       "      <td>04:00:00</td>\n",
       "    </tr>\n",
       "  </tbody>\n",
       "</table>\n",
       "</div>"
      ],
      "text/plain": [
       "                          open       high        low      close    volume        date      hour\n",
       "open_time_local                                                                                \n",
       "2019-08-16 00:00:00 10296.7700 10368.2900 10250.0000 10302.3600 1294.7296  2019-08-16  00:00:00\n",
       "2019-08-16 01:00:00 10304.4500 10398.5400 10302.4900 10353.4000  917.3373  2019-08-16  01:00:00\n",
       "2019-08-16 02:00:00 10353.1100 10417.0000 10327.6200 10350.3900 1120.9594  2019-08-16  02:00:00\n",
       "2019-08-16 03:00:00 10350.2700 10359.1100 10271.0000 10324.6100 1041.7636  2019-08-16  03:00:00\n",
       "2019-08-16 04:00:00 10327.0200 10342.2000 10064.8100 10091.8800 2792.1286  2019-08-16  04:00:00"
      ]
     },
     "execution_count": 9,
     "metadata": {},
     "output_type": "execute_result"
    }
   ],
   "source": [
    "# separate time info\n",
    "df_s['date'] = df_s.index.date\n",
    "df_s['hour'] = df_s.index.time\n",
    "df_s.head()"
   ]
  },
  {
   "cell_type": "code",
   "execution_count": 13,
   "metadata": {
    "ExecuteTime": {
     "end_time": "2019-09-23T21:56:12.059946Z",
     "start_time": "2019-09-23T21:56:12.054513Z"
    }
   },
   "outputs": [],
   "source": [
    "# calcu the fluc\n",
    "df_s[\"fluc_pct\"] =df_s['close'].pct_change(1)"
   ]
  },
  {
   "cell_type": "code",
   "execution_count": 14,
   "metadata": {
    "ExecuteTime": {
     "end_time": "2019-09-23T21:56:21.426117Z",
     "start_time": "2019-09-23T21:56:21.064327Z"
    }
   },
   "outputs": [
    {
     "data": {
      "image/png": "[encoded data removed]",
      "text/plain": [
       "<Figure size 432x288 with 2 Axes>"
      ]
     },
     "metadata": {
      "needs_background": "light"
     },
     "output_type": "display_data"
    }
   ],
   "source": [
    "# plot heatmap\n",
    "result = df_s.pivot(index='date', columns='hour', values='fluc_pct')\n",
    "sns.heatmap(result, annot=False, fmt=\"g\", cmap='viridis', cbar=True)\n",
    "plt.show()"
   ]
  },
  {
   "cell_type": "code",
   "execution_count": null,
   "metadata": {},
   "outputs": [],
   "source": []
  }
 ],
 "metadata": {
  "kernelspec": {
   "display_name": "Python 3",
   "language": "python",
   "name": "python3"
  },
  "language_info": {
   "codemirror_mode": {
    "name": "ipython",
    "version": 3
   },
   "file_extension": ".py",
   "mimetype": "text/x-python",
   "name": "python",
   "nbconvert_exporter": "python",
   "pygments_lexer": "ipython3",
   "version": "3.7.3"
  },
  "toc": {
   "base_numbering": 1,
   "nav_menu": {},
   "number_sections": true,
   "sideBar": true,
   "skip_h1_title": false,
   "title_cell": "Table of Contents",
   "title_sidebar": "Contents",
   "toc_cell": false,
   "toc_position": {},
   "toc_section_display": true,
   "toc_window_display": false
  }
 },
 "nbformat": 4,
 "nbformat_minor": 2
}
