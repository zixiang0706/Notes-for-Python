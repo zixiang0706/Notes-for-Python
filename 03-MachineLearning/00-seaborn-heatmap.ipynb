{
 "cells": [
  {
   "cell_type": "markdown",
   "metadata": {},
   "source": [
    "# heatmap of Bitcoin\n"
   ]
  },
  {
   "cell_type": "code",
   "execution_count": null,
   "metadata": {},
   "outputs": [],
   "source": []
  },
  {
   "cell_type": "code",
   "execution_count": 1,
   "metadata": {
    "ExecuteTime": {
     "end_time": "2019-09-23T13:12:51.172221Z",
     "start_time": "2019-09-23T13:12:50.457202Z"
    }
   },
   "outputs": [],
   "source": [
    "# import the dependance \n",
    "import pandas as pd\n",
    "import os\n",
    "import seaborn as sns\n",
    "import matplotlib.pyplot as plt\n",
    "sns.set(rc={'axes.facecolor':'cornflowerblue', 'figure.facecolor':'cornflowerblue'})\n",
    "\n",
    "pd.set_option('expand_frame_repr', False)  # 当列太多时不换行\n",
    "# pd.set_option('display.max_rows', 1000)  # 最多显示行数.\n",
    "# pd.set_option('precision', 6)  # 浮点数的精度\n",
    "pd.set_option('display.float_format', lambda x: '%.4f' % x)  # 设置不用科学计数法，保留两位小数."
   ]
  },
  {
   "cell_type": "code",
   "execution_count": 25,
   "metadata": {
    "ExecuteTime": {
     "end_time": "2019-09-23T13:39:12.207919Z",
     "start_time": "2019-09-23T13:39:12.186362Z"
    }
   },
   "outputs": [
    {
     "data": {
      "text/html": [
       "<div>\n",
       "<style scoped>\n",
       "    .dataframe tbody tr th:only-of-type {\n",
       "        vertical-align: middle;\n",
       "    }\n",
       "\n",
       "    .dataframe tbody tr th {\n",
       "        vertical-align: top;\n",
       "    }\n",
       "\n",
       "    .dataframe thead th {\n",
       "        text-align: right;\n",
       "    }\n",
       "</style>\n",
       "<table border=\"1\" class=\"dataframe\">\n",
       "  <thead>\n",
       "    <tr style=\"text-align: right;\">\n",
       "      <th></th>\n",
       "      <th>open_time</th>\n",
       "      <th>open</th>\n",
       "      <th>high</th>\n",
       "      <th>low</th>\n",
       "      <th>close</th>\n",
       "      <th>volume</th>\n",
       "    </tr>\n",
       "  </thead>\n",
       "  <tbody>\n",
       "    <tr>\n",
       "      <th>0</th>\n",
       "      <td>2019-06-07 14:47:00</td>\n",
       "      <td>7928.7500</td>\n",
       "      <td>7932.0300</td>\n",
       "      <td>7925.5900</td>\n",
       "      <td>7925.6000</td>\n",
       "      <td>14.0975</td>\n",
       "    </tr>\n",
       "    <tr>\n",
       "      <th>1</th>\n",
       "      <td>2019-06-07 14:48:00</td>\n",
       "      <td>7926.1600</td>\n",
       "      <td>7926.6600</td>\n",
       "      <td>7912.1400</td>\n",
       "      <td>7915.2200</td>\n",
       "      <td>30.8772</td>\n",
       "    </tr>\n",
       "    <tr>\n",
       "      <th>2</th>\n",
       "      <td>2019-06-07 14:49:00</td>\n",
       "      <td>7915.2200</td>\n",
       "      <td>7921.1500</td>\n",
       "      <td>7911.0000</td>\n",
       "      <td>7919.4500</td>\n",
       "      <td>27.4070</td>\n",
       "    </tr>\n",
       "    <tr>\n",
       "      <th>3</th>\n",
       "      <td>2019-06-07 14:50:00</td>\n",
       "      <td>7918.4500</td>\n",
       "      <td>7919.1200</td>\n",
       "      <td>7903.7600</td>\n",
       "      <td>7910.9600</td>\n",
       "      <td>22.0303</td>\n",
       "    </tr>\n",
       "    <tr>\n",
       "      <th>4</th>\n",
       "      <td>2019-06-07 14:51:00</td>\n",
       "      <td>7910.9600</td>\n",
       "      <td>7915.5200</td>\n",
       "      <td>7907.1100</td>\n",
       "      <td>7915.5200</td>\n",
       "      <td>17.3316</td>\n",
       "    </tr>\n",
       "  </tbody>\n",
       "</table>\n",
       "</div>"
      ],
      "text/plain": [
       "             open_time      open      high       low     close  volume\n",
       "0  2019-06-07 14:47:00 7928.7500 7932.0300 7925.5900 7925.6000 14.0975\n",
       "1  2019-06-07 14:48:00 7926.1600 7926.6600 7912.1400 7915.2200 30.8772\n",
       "2  2019-06-07 14:49:00 7915.2200 7921.1500 7911.0000 7919.4500 27.4070\n",
       "3  2019-06-07 14:50:00 7918.4500 7919.1200 7903.7600 7910.9600 22.0303\n",
       "4  2019-06-07 14:51:00 7910.9600 7915.5200 7907.1100 7915.5200 17.3316"
      ]
     },
     "execution_count": 25,
     "metadata": {},
     "output_type": "execute_result"
    }
   ],
   "source": [
    "df = pd.read_csv('./asset/binance_btc_1min.csv')\n",
    "df.head()"
   ]
  },
  {
   "cell_type": "code",
   "execution_count": 26,
   "metadata": {
    "ExecuteTime": {
     "end_time": "2019-09-23T13:39:13.046346Z",
     "start_time": "2019-09-23T13:39:13.033572Z"
    }
   },
   "outputs": [
    {
     "data": {
      "text/html": [
       "<div>\n",
       "<style scoped>\n",
       "    .dataframe tbody tr th:only-of-type {\n",
       "        vertical-align: middle;\n",
       "    }\n",
       "\n",
       "    .dataframe tbody tr th {\n",
       "        vertical-align: top;\n",
       "    }\n",
       "\n",
       "    .dataframe thead th {\n",
       "        text-align: right;\n",
       "    }\n",
       "</style>\n",
       "<table border=\"1\" class=\"dataframe\">\n",
       "  <thead>\n",
       "    <tr style=\"text-align: right;\">\n",
       "      <th></th>\n",
       "      <th>open_time</th>\n",
       "      <th>open</th>\n",
       "      <th>high</th>\n",
       "      <th>low</th>\n",
       "      <th>close</th>\n",
       "      <th>volume</th>\n",
       "    </tr>\n",
       "  </thead>\n",
       "  <tbody>\n",
       "    <tr>\n",
       "      <th>13</th>\n",
       "      <td>2019-06-07 15:00:00</td>\n",
       "      <td>7916.0000</td>\n",
       "      <td>7924.6000</td>\n",
       "      <td>7916.0000</td>\n",
       "      <td>7920.9600</td>\n",
       "      <td>22.1088</td>\n",
       "    </tr>\n",
       "    <tr>\n",
       "      <th>14</th>\n",
       "      <td>2019-06-07 15:01:00</td>\n",
       "      <td>7920.9600</td>\n",
       "      <td>7924.7000</td>\n",
       "      <td>7920.9600</td>\n",
       "      <td>7921.0700</td>\n",
       "      <td>14.5387</td>\n",
       "    </tr>\n",
       "    <tr>\n",
       "      <th>15</th>\n",
       "      <td>2019-06-07 15:02:00</td>\n",
       "      <td>7921.0700</td>\n",
       "      <td>7930.0000</td>\n",
       "      <td>7921.0700</td>\n",
       "      <td>7926.2200</td>\n",
       "      <td>12.5767</td>\n",
       "    </tr>\n",
       "    <tr>\n",
       "      <th>16</th>\n",
       "      <td>2019-06-07 15:03:00</td>\n",
       "      <td>7927.4400</td>\n",
       "      <td>7928.9300</td>\n",
       "      <td>7924.1500</td>\n",
       "      <td>7926.3800</td>\n",
       "      <td>9.0886</td>\n",
       "    </tr>\n",
       "    <tr>\n",
       "      <th>17</th>\n",
       "      <td>2019-06-07 15:04:00</td>\n",
       "      <td>7924.6800</td>\n",
       "      <td>7930.9000</td>\n",
       "      <td>7924.0700</td>\n",
       "      <td>7930.9000</td>\n",
       "      <td>9.6222</td>\n",
       "    </tr>\n",
       "  </tbody>\n",
       "</table>\n",
       "</div>"
      ],
      "text/plain": [
       "             open_time      open      high       low     close  volume\n",
       "13 2019-06-07 15:00:00 7916.0000 7924.6000 7916.0000 7920.9600 22.1088\n",
       "14 2019-06-07 15:01:00 7920.9600 7924.7000 7920.9600 7921.0700 14.5387\n",
       "15 2019-06-07 15:02:00 7921.0700 7930.0000 7921.0700 7926.2200 12.5767\n",
       "16 2019-06-07 15:03:00 7927.4400 7928.9300 7924.1500 7926.3800  9.0886\n",
       "17 2019-06-07 15:04:00 7924.6800 7930.9000 7924.0700 7930.9000  9.6222"
      ]
     },
     "execution_count": 26,
     "metadata": {},
     "output_type": "execute_result"
    }
   ],
   "source": [
    "# cut the reducdant info\n",
    "df['open_time'] = pd.to_datetime(df['open_time'])\n",
    "df = df[df['open_time']>=pd.to_datetime('2019-06-07 15:00:00')]\n",
    "df.head()"
   ]
  },
  {
   "cell_type": "code",
   "execution_count": 47,
   "metadata": {
    "ExecuteTime": {
     "end_time": "2019-09-23T13:56:10.012578Z",
     "start_time": "2019-09-23T13:56:09.994385Z"
    }
   },
   "outputs": [
    {
     "data": {
      "text/html": [
       "<div>\n",
       "<style scoped>\n",
       "    .dataframe tbody tr th:only-of-type {\n",
       "        vertical-align: middle;\n",
       "    }\n",
       "\n",
       "    .dataframe tbody tr th {\n",
       "        vertical-align: top;\n",
       "    }\n",
       "\n",
       "    .dataframe thead th {\n",
       "        text-align: right;\n",
       "    }\n",
       "</style>\n",
       "<table border=\"1\" class=\"dataframe\">\n",
       "  <thead>\n",
       "    <tr style=\"text-align: right;\">\n",
       "      <th></th>\n",
       "      <th>open</th>\n",
       "      <th>high</th>\n",
       "      <th>low</th>\n",
       "      <th>close</th>\n",
       "      <th>volume</th>\n",
       "    </tr>\n",
       "    <tr>\n",
       "      <th>open_time</th>\n",
       "      <th></th>\n",
       "      <th></th>\n",
       "      <th></th>\n",
       "      <th></th>\n",
       "      <th></th>\n",
       "    </tr>\n",
       "  </thead>\n",
       "  <tbody>\n",
       "    <tr>\n",
       "      <th>2019-06-07 15:00:00</th>\n",
       "      <td>7916.0000</td>\n",
       "      <td>7942.4500</td>\n",
       "      <td>7901.1600</td>\n",
       "      <td>7928.8600</td>\n",
       "      <td>942.1809</td>\n",
       "    </tr>\n",
       "    <tr>\n",
       "      <th>2019-06-07 16:00:00</th>\n",
       "      <td>7928.0000</td>\n",
       "      <td>8094.7000</td>\n",
       "      <td>7890.0000</td>\n",
       "      <td>8042.7900</td>\n",
       "      <td>3495.3919</td>\n",
       "    </tr>\n",
       "    <tr>\n",
       "      <th>2019-06-07 17:00:00</th>\n",
       "      <td>8043.1500</td>\n",
       "      <td>8084.3700</td>\n",
       "      <td>8033.2100</td>\n",
       "      <td>8065.4800</td>\n",
       "      <td>1498.9502</td>\n",
       "    </tr>\n",
       "    <tr>\n",
       "      <th>2019-06-07 18:00:00</th>\n",
       "      <td>8065.5000</td>\n",
       "      <td>8100.0000</td>\n",
       "      <td>8050.7800</td>\n",
       "      <td>8055.3300</td>\n",
       "      <td>1303.1348</td>\n",
       "    </tr>\n",
       "    <tr>\n",
       "      <th>2019-06-07 19:00:00</th>\n",
       "      <td>8055.3300</td>\n",
       "      <td>8071.6200</td>\n",
       "      <td>7928.0100</td>\n",
       "      <td>7937.8500</td>\n",
       "      <td>2426.6107</td>\n",
       "    </tr>\n",
       "  </tbody>\n",
       "</table>\n",
       "</div>"
      ],
      "text/plain": [
       "                         open      high       low     close    volume\n",
       "open_time                                                            \n",
       "2019-06-07 15:00:00 7916.0000 7942.4500 7901.1600 7928.8600  942.1809\n",
       "2019-06-07 16:00:00 7928.0000 8094.7000 7890.0000 8042.7900 3495.3919\n",
       "2019-06-07 17:00:00 8043.1500 8084.3700 8033.2100 8065.4800 1498.9502\n",
       "2019-06-07 18:00:00 8065.5000 8100.0000 8050.7800 8055.3300 1303.1348\n",
       "2019-06-07 19:00:00 8055.3300 8071.6200 7928.0100 7937.8500 2426.6107"
      ]
     },
     "execution_count": 47,
     "metadata": {},
     "output_type": "execute_result"
    }
   ],
   "source": [
    "# sampling by 1h\n",
    "df.set_index('open_time', inplace=True)\n",
    "df_s = df.resample(rule='1H').agg({'open': 'first','high': 'max','low': 'min',\n",
    "                                   'close': 'last','volume': 'sum',})\n",
    "df_s.head()"
   ]
  },
  {
   "cell_type": "code",
   "execution_count": 48,
   "metadata": {
    "ExecuteTime": {
     "end_time": "2019-09-23T13:56:43.063381Z",
     "start_time": "2019-09-23T13:56:43.052049Z"
    }
   },
   "outputs": [
    {
     "data": {
      "text/html": [
       "<div>\n",
       "<style scoped>\n",
       "    .dataframe tbody tr th:only-of-type {\n",
       "        vertical-align: middle;\n",
       "    }\n",
       "\n",
       "    .dataframe tbody tr th {\n",
       "        vertical-align: top;\n",
       "    }\n",
       "\n",
       "    .dataframe thead th {\n",
       "        text-align: right;\n",
       "    }\n",
       "</style>\n",
       "<table border=\"1\" class=\"dataframe\">\n",
       "  <thead>\n",
       "    <tr style=\"text-align: right;\">\n",
       "      <th></th>\n",
       "      <th>open</th>\n",
       "      <th>high</th>\n",
       "      <th>low</th>\n",
       "      <th>close</th>\n",
       "      <th>volume</th>\n",
       "      <th>date</th>\n",
       "      <th>hour</th>\n",
       "    </tr>\n",
       "    <tr>\n",
       "      <th>open_time</th>\n",
       "      <th></th>\n",
       "      <th></th>\n",
       "      <th></th>\n",
       "      <th></th>\n",
       "      <th></th>\n",
       "      <th></th>\n",
       "      <th></th>\n",
       "    </tr>\n",
       "  </thead>\n",
       "  <tbody>\n",
       "    <tr>\n",
       "      <th>2019-06-07 15:00:00</th>\n",
       "      <td>7916.0000</td>\n",
       "      <td>7942.4500</td>\n",
       "      <td>7901.1600</td>\n",
       "      <td>7928.8600</td>\n",
       "      <td>942.1809</td>\n",
       "      <td>2019-06-07</td>\n",
       "      <td>15:00:00</td>\n",
       "    </tr>\n",
       "    <tr>\n",
       "      <th>2019-06-07 16:00:00</th>\n",
       "      <td>7928.0000</td>\n",
       "      <td>8094.7000</td>\n",
       "      <td>7890.0000</td>\n",
       "      <td>8042.7900</td>\n",
       "      <td>3495.3919</td>\n",
       "      <td>2019-06-07</td>\n",
       "      <td>16:00:00</td>\n",
       "    </tr>\n",
       "    <tr>\n",
       "      <th>2019-06-07 17:00:00</th>\n",
       "      <td>8043.1500</td>\n",
       "      <td>8084.3700</td>\n",
       "      <td>8033.2100</td>\n",
       "      <td>8065.4800</td>\n",
       "      <td>1498.9502</td>\n",
       "      <td>2019-06-07</td>\n",
       "      <td>17:00:00</td>\n",
       "    </tr>\n",
       "    <tr>\n",
       "      <th>2019-06-07 18:00:00</th>\n",
       "      <td>8065.5000</td>\n",
       "      <td>8100.0000</td>\n",
       "      <td>8050.7800</td>\n",
       "      <td>8055.3300</td>\n",
       "      <td>1303.1348</td>\n",
       "      <td>2019-06-07</td>\n",
       "      <td>18:00:00</td>\n",
       "    </tr>\n",
       "    <tr>\n",
       "      <th>2019-06-07 19:00:00</th>\n",
       "      <td>8055.3300</td>\n",
       "      <td>8071.6200</td>\n",
       "      <td>7928.0100</td>\n",
       "      <td>7937.8500</td>\n",
       "      <td>2426.6107</td>\n",
       "      <td>2019-06-07</td>\n",
       "      <td>19:00:00</td>\n",
       "    </tr>\n",
       "  </tbody>\n",
       "</table>\n",
       "</div>"
      ],
      "text/plain": [
       "                         open      high       low     close    volume        date      hour\n",
       "open_time                                                                                  \n",
       "2019-06-07 15:00:00 7916.0000 7942.4500 7901.1600 7928.8600  942.1809  2019-06-07  15:00:00\n",
       "2019-06-07 16:00:00 7928.0000 8094.7000 7890.0000 8042.7900 3495.3919  2019-06-07  16:00:00\n",
       "2019-06-07 17:00:00 8043.1500 8084.3700 8033.2100 8065.4800 1498.9502  2019-06-07  17:00:00\n",
       "2019-06-07 18:00:00 8065.5000 8100.0000 8050.7800 8055.3300 1303.1348  2019-06-07  18:00:00\n",
       "2019-06-07 19:00:00 8055.3300 8071.6200 7928.0100 7937.8500 2426.6107  2019-06-07  19:00:00"
      ]
     },
     "execution_count": 48,
     "metadata": {},
     "output_type": "execute_result"
    }
   ],
   "source": [
    "df_s['date'] = df_s.index.date\n",
    "df_s['hour'] = df_s.index.time\n",
    "df_s.head()"
   ]
  },
  {
   "cell_type": "code",
   "execution_count": 49,
   "metadata": {
    "ExecuteTime": {
     "end_time": "2019-09-23T13:57:55.319767Z",
     "start_time": "2019-09-23T13:57:55.100433Z"
    }
   },
   "outputs": [
    {
     "data": {
      "image/png": "[encoded data removed]",
      "text/plain": [
       "<Figure size 432x288 with 2 Axes>"
      ]
     },
     "metadata": {
      "needs_background": "light"
     },
     "output_type": "display_data"
    }
   ],
   "source": [
    "result = df_s.pivot(index='date', columns='hour', values='close')\n",
    "sns.heatmap(result, annot=False, fmt=\"g\", cmap='viridis', cbar=True)\n",
    "plt.show()"
   ]
  },
  {
   "cell_type": "code",
   "execution_count": null,
   "metadata": {},
   "outputs": [],
   "source": []
  }
 ],
 "metadata": {
  "kernelspec": {
   "display_name": "Python 3",
   "language": "python",
   "name": "python3"
  },
  "language_info": {
   "codemirror_mode": {
    "name": "ipython",
    "version": 3
   },
   "file_extension": ".py",
   "mimetype": "text/x-python",
   "name": "python",
   "nbconvert_exporter": "python",
   "pygments_lexer": "ipython3",
   "version": "3.7.3"
  },
  "toc": {
   "base_numbering": 1,
   "nav_menu": {},
   "number_sections": true,
   "sideBar": true,
   "skip_h1_title": false,
   "title_cell": "Table of Contents",
   "title_sidebar": "Contents",
   "toc_cell": false,
   "toc_position": {},
   "toc_section_display": true,
   "toc_window_display": false
  }
 },
 "nbformat": 4,
 "nbformat_minor": 2
}
