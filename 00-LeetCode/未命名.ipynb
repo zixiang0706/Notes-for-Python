{
 "cells": [
  {
   "cell_type": "markdown",
   "metadata": {},
   "source": [
    "#"
   ]
  },
  {
   "cell_type": "markdown",
   "metadata": {},
   "source": [
    "## 415\n",
    "给定两个字符串形式的非负整数 num1 和num2 ，计算它们的和。\n",
    "\n",
    "注意：\n",
    "\n",
    "num1 和num2 的长度都小于 5100.\n",
    "num1 和num2 都只包含数字 0-9.\n",
    "num1 和num2 都不包含任何前导零。\n",
    "你不能使用任何內建 BigInteger 库， 也不能直接将输入的字符串转换为整数形式。\n"
   ]
  },
  {
   "cell_type": "code",
   "execution_count": null,
   "metadata": {},
   "outputs": [],
   "source": [
    "class Solution:\n",
    "    def addStrings(self, num1: str, num2: str) -> str:\n",
    "        r , p = '' , 0\n",
    "        d = len(num2)- len(num1)\n",
    "        num1 = '0'*d + num1\n",
    "        num2 = '0'*-d + num2\n",
    "        for i,j in zip(num1[::-1],num2[::-1]):\n",
    "            sum = int(i)+int(j)+p\n",
    "            p = sum // 10\n",
    "            r = str(sum%10) + r\n",
    "        return r if p == 0 else \"1\"+r\n",
    "        "
   ]
  }
 ],
 "metadata": {
  "kernelspec": {
   "display_name": "Python 3",
   "language": "python",
   "name": "python3"
  },
  "language_info": {
   "codemirror_mode": {
    "name": "ipython",
    "version": 3
   },
   "file_extension": ".py",
   "mimetype": "text/x-python",
   "name": "python",
   "nbconvert_exporter": "python",
   "pygments_lexer": "ipython3",
   "version": "3.7.3"
  }
 },
 "nbformat": 4,
 "nbformat_minor": 2
}
