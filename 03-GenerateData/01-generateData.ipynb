{
 "cells": [
  {
   "cell_type": "markdown",
   "metadata": {},
   "source": [
    "# 生成数据\n",
    "## 介绍\n",
    "这个文档，会利用pandas生成基于时间序列的csv文件，用于测试"
   ]
  },
  {
   "cell_type": "code",
   "execution_count": 4,
   "metadata": {},
   "outputs": [
    {
     "name": "stdout",
     "output_type": "stream",
     "text": [
      "Package                 Version    \n",
      "----------------------- -----------\n",
      "altgraph                0.15       \n",
      "asn1crypto              0.24.0     \n",
      "backcall                0.1.0      \n",
      "backports.weakref       1.0rc1     \n",
      "beautifulsoup4          4.6.3      \n",
      "bleach                  1.5.0      \n",
      "boost                   0.1        \n",
      "bs4                     0.0.1      \n",
      "certifi                 2018.4.16  \n",
      "cffi                    1.11.5     \n",
      "chardet                 3.0.4      \n",
      "click                   6.7        \n",
      "cmake                   3.11.0     \n",
      "colorama                0.4.1      \n",
      "cryptography            2.2.2      \n",
      "cycler                  0.10.0     \n",
      "decorator               4.3.0      \n",
      "dlib                    19.8.1     \n",
      "et-xmlfile              1.0.1      \n",
      "face-recognition        1.2.2      \n",
      "face-recognition-models 0.3.0      \n",
      "future                  0.16.0     \n",
      "h5py                    2.9.0      \n",
      "html5lib                0.9999999  \n",
      "http-ece                1.0.5      \n",
      "httplib2                0.10.3     \n",
      "idna                    2.7        \n",
      "intel-openmp            2019.0     \n",
      "ipython                 7.2.0      \n",
      "ipython-genutils        0.2.0      \n",
      "jdcal                   1.4        \n",
      "jedi                    0.13.2     \n",
      "jupyter                 1.0.0      \n",
      "keyboard                0.13.2     \n",
      "kiwisolver              1.0.1      \n",
      "macholib                1.9        \n",
      "Markdown                2.2.0      \n",
      "Mastodon.py             1.3.0      \n",
      "matplotlib              2.2.3      \n",
      "mkl                     2019.0     \n",
      "mouse                   0.7.0      \n",
      "numpy                   1.16.4     \n",
      "opencv-python           3.4.1.15   \n",
      "openpyxl                2.5.12     \n",
      "pandas                  0.24.2     \n",
      "parso                   0.3.1      \n",
      "pefile                  2017.11.5  \n",
      "pickleshare             0.7.5      \n",
      "Pillow                  5.2.0      \n",
      "pip                     19.1.1     \n",
      "ply                     3.11       \n",
      "prompt-toolkit          2.0.7      \n",
      "protobuf                3.6.1      \n",
      "py2exe                  0.9.2.2    \n",
      "PyAutoGUI               0.9.36     \n",
      "pycparser               2.18       \n",
      "pygame                  1.9.3      \n",
      "Pygments                2.3.1      \n",
      "PyInstaller             3.3.1      \n",
      "PyMsgBox                1.0.6      \n",
      "pyparsing               2.2.0      \n",
      "pypiwin32               223        \n",
      "PyQt5                   5.12       \n",
      "PyQt5-sip               4.19.14    \n",
      "PyScreeze               0.1.14     \n",
      "pyserial                3.4        \n",
      "PySpice                 1.2.0      \n",
      "pytesseract             0.2.6      \n",
      "python-dateutil         2.7.3      \n",
      "PyTweening              1.0.3      \n",
      "pytz                    2018.5     \n",
      "pywin32                 223        \n",
      "PyYAML                  3.13       \n",
      "requests                2.19.1     \n",
      "scikit-learn            0.20.3     \n",
      "scikitlearn             0.1        \n",
      "scipy                   1.1.0      \n",
      "setuptools              28.8.0     \n",
      "six                     1.11.0     \n",
      "SQLAlchemy              1.2.10     \n",
      "tensorflow              1.2.0      \n",
      "torch                   1.1.0      \n",
      "torchvision             0.2.2.post3\n",
      "traitlets               4.3.2      \n",
      "Unidecode               0.4.21     \n",
      "urllib3                 1.24.1     \n",
      "wcwidth                 0.1.7      \n",
      "Werkzeug                0.14.1     \n",
      "wheel                   0.32.3     \n",
      "xlrd                    1.1.0      \n",
      "xlwt                    1.3.0      \n"
     ]
    }
   ],
   "source": []
  },
  {
   "cell_type": "code",
   "execution_count": 5,
   "metadata": {},
   "outputs": [
    {
     "ename": "ModuleNotFoundError",
     "evalue": "No module named 'numpy'",
     "output_type": "error",
     "traceback": [
      "\u001b[1;31m---------------------------------------------------------------------------\u001b[0m",
      "\u001b[1;31mModuleNotFoundError\u001b[0m                       Traceback (most recent call last)",
      "\u001b[1;32m<ipython-input-5-fa18575525b6>\u001b[0m in \u001b[0;36m<module>\u001b[1;34m\u001b[0m\n\u001b[1;32m----> 1\u001b[1;33m \u001b[1;32mimport\u001b[0m \u001b[0mnumpy\u001b[0m \u001b[1;32mas\u001b[0m \u001b[0mnp\u001b[0m\u001b[1;33m\u001b[0m\u001b[1;33m\u001b[0m\u001b[0m\n\u001b[0m\u001b[0;32m      2\u001b[0m \u001b[1;32mimport\u001b[0m \u001b[0mpandas\u001b[0m \u001b[1;32mas\u001b[0m \u001b[0mpd\u001b[0m\u001b[1;33m\u001b[0m\u001b[1;33m\u001b[0m\u001b[0m\n\u001b[0;32m      3\u001b[0m \u001b[1;32mimport\u001b[0m \u001b[0mmatplotlib\u001b[0m\u001b[1;33m.\u001b[0m\u001b[0mpyplot\u001b[0m \u001b[1;32mas\u001b[0m \u001b[0mplt\u001b[0m\u001b[1;33m\u001b[0m\u001b[1;33m\u001b[0m\u001b[0m\n",
      "\u001b[1;31mModuleNotFoundError\u001b[0m: No module named 'numpy'"
     ]
    }
   ],
   "source": [
    "import numpy as np\n",
    "import pandas as pd\n",
    "import matplotlib.pyplot as plt"
   ]
  },
  {
   "cell_type": "code",
   "execution_count": 2,
   "metadata": {},
   "outputs": [
    {
     "ename": "NameError",
     "evalue": "name 'np' is not defined",
     "output_type": "error",
     "traceback": [
      "\u001b[1;31m---------------------------------------------------------------------------\u001b[0m",
      "\u001b[1;31mNameError\u001b[0m                                 Traceback (most recent call last)",
      "\u001b[1;32m<ipython-input-2-c19ce8cecc1d>\u001b[0m in \u001b[0;36m<module>\u001b[1;34m\u001b[0m\n\u001b[1;32m----> 1\u001b[1;33m \u001b[0ma\u001b[0m \u001b[1;33m=\u001b[0m \u001b[0mnp\u001b[0m\u001b[1;33m.\u001b[0m\u001b[0mrandom\u001b[0m\u001b[1;33m.\u001b[0m\u001b[0mstandard_normal\u001b[0m\u001b[1;33m(\u001b[0m\u001b[1;33m(\u001b[0m\u001b[1;36m9\u001b[0m\u001b[1;33m,\u001b[0m\u001b[1;36m5\u001b[0m\u001b[1;33m)\u001b[0m\u001b[1;33m)\u001b[0m\u001b[1;33m\u001b[0m\u001b[1;33m\u001b[0m\u001b[0m\n\u001b[0m\u001b[0;32m      2\u001b[0m \u001b[0ma\u001b[0m\u001b[1;33m=\u001b[0m\u001b[0ma\u001b[0m\u001b[1;33m.\u001b[0m\u001b[0mround\u001b[0m\u001b[1;33m(\u001b[0m\u001b[1;36m6\u001b[0m\u001b[1;33m)\u001b[0m\u001b[1;33m\u001b[0m\u001b[1;33m\u001b[0m\u001b[0m\n\u001b[0;32m      3\u001b[0m \u001b[0ma\u001b[0m\u001b[1;33m\u001b[0m\u001b[1;33m\u001b[0m\u001b[0m\n",
      "\u001b[1;31mNameError\u001b[0m: name 'np' is not defined"
     ]
    }
   ],
   "source": [
    "a = np.random.standard_normal((9,5))\n",
    "a=a.round(6)\n",
    "a"
   ]
  },
  {
   "cell_type": "code",
   "execution_count": 3,
   "metadata": {},
   "outputs": [
    {
     "ename": "NameError",
     "evalue": "name 'pd' is not defined",
     "output_type": "error",
     "traceback": [
      "\u001b[1;31m---------------------------------------------------------------------------\u001b[0m",
      "\u001b[1;31mNameError\u001b[0m                                 Traceback (most recent call last)",
      "\u001b[1;32m<ipython-input-3-3e6827271745>\u001b[0m in \u001b[0;36m<module>\u001b[1;34m\u001b[0m\n\u001b[1;32m----> 1\u001b[1;33m \u001b[0mdf_a\u001b[0m \u001b[1;33m=\u001b[0m \u001b[0mpd\u001b[0m\u001b[1;33m.\u001b[0m\u001b[0mDataFrame\u001b[0m\u001b[1;33m(\u001b[0m\u001b[0ma\u001b[0m\u001b[1;33m)\u001b[0m\u001b[1;33m\u001b[0m\u001b[1;33m\u001b[0m\u001b[0m\n\u001b[0m\u001b[0;32m      2\u001b[0m \u001b[0mdf_a\u001b[0m\u001b[1;33m\u001b[0m\u001b[1;33m\u001b[0m\u001b[0m\n",
      "\u001b[1;31mNameError\u001b[0m: name 'pd' is not defined"
     ]
    }
   ],
   "source": [
    "df_a = pd.DataFrame(a)\n",
    "df_a"
   ]
  },
  {
   "cell_type": "code",
   "execution_count": null,
   "metadata": {},
   "outputs": [],
   "source": [
    "df_a.columns=[['col1','col2','col3','col4','col5']]\n",
    "df_a"
   ]
  }
 ],
 "metadata": {
  "kernelspec": {
   "display_name": "Python 3",
   "language": "python",
   "name": "python3"
  },
  "language_info": {
   "codemirror_mode": {
    "name": "ipython",
    "version": 3
   },
   "file_extension": ".py",
   "mimetype": "text/x-python",
   "name": "python",
   "nbconvert_exporter": "python",
   "pygments_lexer": "ipython3",
   "version": "3.7.3"
  }
 },
 "nbformat": 4,
 "nbformat_minor": 2
}
