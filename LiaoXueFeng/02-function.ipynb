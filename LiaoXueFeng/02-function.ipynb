{
 "cells": [
  {
   "cell_type": "markdown",
   "metadata": {
    "toc": true
   },
   "source": [
    "<h1>Table of Contents<span class=\"tocSkip\"></span></h1>\n",
    "<div class=\"toc\"><ul class=\"toc-item\"><li><span><a href=\"#basic-function\" data-toc-modified-id=\"basic-function-1\"><span class=\"toc-item-num\">1&nbsp;&nbsp;</span>basic function</a></span><ul class=\"toc-item\"><li><span><a href=\"#数据类型转换\" data-toc-modified-id=\"数据类型转换-1.1\"><span class=\"toc-item-num\">1.1&nbsp;&nbsp;</span>数据类型转换</a></span></li><li><span><a href=\"#自定义函数\" data-toc-modified-id=\"自定义函数-1.2\"><span class=\"toc-item-num\">1.2&nbsp;&nbsp;</span>自定义函数</a></span></li><li><span><a href=\"#pass\" data-toc-modified-id=\"pass-1.3\"><span class=\"toc-item-num\">1.3&nbsp;&nbsp;</span>pass</a></span></li><li><span><a href=\"#默认参数\" data-toc-modified-id=\"默认参数-1.4\"><span class=\"toc-item-num\">1.4&nbsp;&nbsp;</span>默认参数</a></span></li><li><span><a href=\"#可变参数\" data-toc-modified-id=\"可变参数-1.5\"><span class=\"toc-item-num\">1.5&nbsp;&nbsp;</span>可变参数</a></span></li><li><span><a href=\"#关键字参数\" data-toc-modified-id=\"关键字参数-1.6\"><span class=\"toc-item-num\">1.6&nbsp;&nbsp;</span>关键字参数</a></span></li><li><span><a href=\"#命名关键字\" data-toc-modified-id=\"命名关键字-1.7\"><span class=\"toc-item-num\">1.7&nbsp;&nbsp;</span>命名关键字</a></span></li><li><span><a href=\"#参数组合\" data-toc-modified-id=\"参数组合-1.8\"><span class=\"toc-item-num\">1.8&nbsp;&nbsp;</span>参数组合</a></span></li><li><span><a href=\"#递归函数\" data-toc-modified-id=\"递归函数-1.9\"><span class=\"toc-item-num\">1.9&nbsp;&nbsp;</span>递归函数</a></span></li></ul></li></ul></div>"
   ]
  },
  {
   "cell_type": "markdown",
   "metadata": {},
   "source": [
    "# Function\n",
    "- function\n",
    "- 高级特性\n",
    "- 函数式编程\n",
    "- 模块\n",
    "## basic function\n",
    "[python内置函数](https://docs.python.org/zh-cn/3/library/functions.html#abs)\n",
    "查看帮助：`help(abs)`"
   ]
  },
  {
   "cell_type": "code",
   "execution_count": 1,
   "metadata": {},
   "outputs": [
    {
     "name": "stdout",
     "output_type": "stream",
     "text": [
      "Help on built-in function abs in module builtins:\n",
      "\n",
      "abs(x, /)\n",
      "    Return the absolute value of the argument.\n",
      "\n"
     ]
    }
   ],
   "source": [
    "help(abs)"
   ]
  },
  {
   "cell_type": "markdown",
   "metadata": {},
   "source": [
    "### 数据类型转换\n",
    "- int\n",
    "- float\n",
    "- str\n",
    "- bool"
   ]
  },
  {
   "cell_type": "code",
   "execution_count": 3,
   "metadata": {},
   "outputs": [
    {
     "data": {
      "text/plain": [
       "(123, int, '///', 123.0, float)"
      ]
     },
     "execution_count": 3,
     "metadata": {},
     "output_type": "execute_result"
    }
   ],
   "source": [
    "a=123\n",
    "b=float(a)\n",
    "a,type(a),'///',b,type(b)"
   ]
  },
  {
   "cell_type": "markdown",
   "metadata": {},
   "source": [
    "### 自定义函数"
   ]
  },
  {
   "cell_type": "code",
   "execution_count": 4,
   "metadata": {},
   "outputs": [
    {
     "data": {
      "text/plain": [
       "11"
      ]
     },
     "execution_count": 4,
     "metadata": {},
     "output_type": "execute_result"
    }
   ],
   "source": [
    "def myfunc(i):\n",
    "    return i+10\n",
    "myfunc(1)"
   ]
  },
  {
   "cell_type": "markdown",
   "metadata": {},
   "source": [
    "### pass\n",
    "pass 是空语句，可以放在一定要放置语句，但是又没想好放什么的地方"
   ]
  },
  {
   "cell_type": "code",
   "execution_count": 5,
   "metadata": {},
   "outputs": [],
   "source": [
    "def myfunc(i):\n",
    "    pass\n",
    "myfunc(1)"
   ]
  },
  {
   "cell_type": "markdown",
   "metadata": {},
   "source": [
    "### 默认参数\n",
    "设置默认参数时，有几点要注意：\n",
    "- 必选参数在前，默认参数在后，否则Python的解释器会报错\n",
    "- 如何设置默认参数。当函数有多个参数时，把变化大的参数放前面，变化小的参数放后面。变化小的参数就可以作为默认参数。\n",
    "- **默认参数必须是不可变参数**\n",
    "    - 为什么要设计str、None这样的不变对象呢？因为不变对象一旦创建，对象内部的数据就不能修改，\n",
    "    - 这样就减少了由于修改数据导致的错误。\n",
    "    - 此外，由于对象不变，多任务环境下同时读取对象不需要加锁，同时读一点问题都没有。\n",
    "    - 我们在编写程序时，如果可以设计一个不变对象，那就尽量设计成不变对象。\n",
    "- 参数可以是可变参数，如list"
   ]
  },
  {
   "cell_type": "code",
   "execution_count": 6,
   "metadata": {},
   "outputs": [
    {
     "data": {
      "text/plain": [
       "9"
      ]
     },
     "execution_count": 6,
     "metadata": {},
     "output_type": "execute_result"
    }
   ],
   "source": [
    "def power(x, n=2):\n",
    "    s = 1\n",
    "    while n > 0:\n",
    "        n = n - 1\n",
    "        s = s * x\n",
    "    return s\n",
    "power(3)"
   ]
  },
  {
   "cell_type": "markdown",
   "metadata": {},
   "source": [
    "### 可变参数\n",
    "定义可变参数和定义一个list或tuple参数相比:\n",
    "- 仅仅在参数前面加了一个*号。\n",
    "- 在函数内部，参数numbers接收到的是一个tuple，\n",
    "- 因此，函数代码完全不变。\n",
    "- 但是，调用该函数时，可以传入任意个参数，包括0个参数：\n"
   ]
  },
  {
   "cell_type": "code",
   "execution_count": 10,
   "metadata": {},
   "outputs": [
    {
     "data": {
      "text/plain": [
       "(5, 0)"
      ]
     },
     "execution_count": 10,
     "metadata": {},
     "output_type": "execute_result"
    }
   ],
   "source": [
    "def calc(*numbers):\n",
    "    sum = 0\n",
    "    for n in numbers:\n",
    "        sum = sum + n * n\n",
    "    return sum\n",
    "calc(1, 2),calc()"
   ]
  },
  {
   "cell_type": "markdown",
   "metadata": {},
   "source": [
    "`*nums`表示把nums这个list的所有元素作为可变参数传进去。  \n",
    "这种写法相当有用，而且很常见。"
   ]
  },
  {
   "cell_type": "code",
   "execution_count": 13,
   "metadata": {},
   "outputs": [
    {
     "data": {
      "text/plain": [
       "14"
      ]
     },
     "execution_count": 13,
     "metadata": {},
     "output_type": "execute_result"
    }
   ],
   "source": [
    "num=[1,2,3]\n",
    "calc(*num)"
   ]
  },
  {
   "cell_type": "markdown",
   "metadata": {},
   "source": [
    "### 关键字参数\n",
    "- 可变参数允许你传入0个或任意个参数，这些可变参数在函数调用时自动组装为一个tuple。\n",
    "- 而关键字参数允许你传入0个或任意个含参数名的参数，这些关键字参数在函数内部自动组装为一个dict"
   ]
  },
  {
   "cell_type": "code",
   "execution_count": 15,
   "metadata": {},
   "outputs": [
    {
     "name": "stdout",
     "output_type": "stream",
     "text": [
      "name: Michael age: 30 other: {}\n"
     ]
    }
   ],
   "source": [
    "def person(name, age, **kw):\n",
    "    print('name:', name, 'age:', age, 'other:', kw)\n",
    "person('Michael', 30)"
   ]
  },
  {
   "cell_type": "code",
   "execution_count": 16,
   "metadata": {},
   "outputs": [
    {
     "name": "stdout",
     "output_type": "stream",
     "text": [
      "name: Bob age: 35 other: {'city': 'Beijing'}\n"
     ]
    }
   ],
   "source": [
    "person('Bob', 35, city='Beijing')"
   ]
  },
  {
   "cell_type": "code",
   "execution_count": 17,
   "metadata": {},
   "outputs": [
    {
     "name": "stdout",
     "output_type": "stream",
     "text": [
      "name: Adam age: 45 other: {'gender': 'M', 'job': 'Engineer'}\n"
     ]
    }
   ],
   "source": [
    "person('Adam', 45, gender='M', job='Engineer')"
   ]
  },
  {
   "cell_type": "markdown",
   "metadata": {},
   "source": [
    "`**extra`表示把extra这个dict的所有key-value用关键字参数传入到函数的`**kw`参数，kw将获得一个dict，  \n",
    "注意kw获得的dict是extra的一份拷贝，对kw的改动不会影响到函数外的extra。"
   ]
  },
  {
   "cell_type": "code",
   "execution_count": 18,
   "metadata": {},
   "outputs": [
    {
     "name": "stdout",
     "output_type": "stream",
     "text": [
      "name: Jack age: 24 other: {'city': 'Beijing', 'job': 'Engineer'}\n"
     ]
    }
   ],
   "source": [
    "extra = {'city': 'Beijing', 'job': 'Engineer'}\n",
    "person('Jack', 24, **extra)"
   ]
  },
  {
   "cell_type": "markdown",
   "metadata": {},
   "source": [
    "### 命名关键字\n",
    "- 和关键字参数`**kw`不同，命名关键字参数需要一个特殊分隔符*，*后面的参数被视为命名关键字参数  \n",
    "- 如果函数定义中已经有了一个可变参数，后面跟着的命名关键字参数就不再需要一个特殊分隔符*了：\n",
    "\n"
   ]
  },
  {
   "cell_type": "code",
   "execution_count": 20,
   "metadata": {},
   "outputs": [
    {
     "name": "stdout",
     "output_type": "stream",
     "text": [
      "Jack 24 Beijing Engineer\n"
     ]
    }
   ],
   "source": [
    "def person(name, age, *, city='Beijing', job):\n",
    "    print(name, age, city, job)\n",
    "person('Jack', 24, job='Engineer')\n"
   ]
  },
  {
   "cell_type": "markdown",
   "metadata": {},
   "source": [
    "### 参数组合\n",
    "在Python中定义函数，可以用\n",
    "- 必选参数、\n",
    "- 默认参数、\n",
    "- 可变参数、\n",
    "- 关键字参数\n",
    "- 命名关键字参数，\n",
    "\n",
    "这5种参数都可以组合使用。但是请注意，参数定义的顺序必须是：\n",
    "- 必选参数、默认参数、可变参数、命名关键字参数和关键字参数。"
   ]
  },
  {
   "cell_type": "code",
   "execution_count": 25,
   "metadata": {},
   "outputs": [
    {
     "name": "stdout",
     "output_type": "stream",
     "text": [
      "a = 1 b = 2 c = 3 args = ('a', 'b') kw = {'age': 10}\n"
     ]
    }
   ],
   "source": [
    "def f1(a, b, c=0, *args, **kw):\n",
    "    print('a =', a, 'b =', b, 'c =', c, 'args =', args, 'kw =', kw)\n",
    "f1(1, 2, 3, 'a', 'b', age=10)"
   ]
  },
  {
   "cell_type": "code",
   "execution_count": 31,
   "metadata": {},
   "outputs": [
    {
     "name": "stdout",
     "output_type": "stream",
     "text": [
      "a = 1 b = 2 c = 3 args = (4,) kw = {'age': 10, 'name': 'Andrew'}\n"
     ]
    }
   ],
   "source": [
    "args=(1,2,3,4)\n",
    "kw={'age':10,'name':'Andrew'}\n",
    "f1(*args,**kw)"
   ]
  },
  {
   "cell_type": "markdown",
   "metadata": {},
   "source": [
    "### 递归函数"
   ]
  },
  {
   "cell_type": "markdown",
   "metadata": {},
   "source": [
    "在函数内部，可以调用其他函数。  \n",
    "如果一个函数在内部调用自身本身，这个函数就是递归函数。  \n",
    "fact(n) = n! = 1 x 2 x 3 x ... x (n-1) x n = (n-1)! x n = fact(n-1) x n  \n",
    "所以，fact(n)可以表示为n x fact(n-1)，只有n=1时需要特殊处理。"
   ]
  },
  {
   "cell_type": "code",
   "execution_count": 4,
   "metadata": {},
   "outputs": [],
   "source": [
    "def fact(n):\n",
    "    if n==1:\n",
    "        return 1\n",
    "    else:\n",
    "        return n*fact(n-1)"
   ]
  },
  {
   "cell_type": "code",
   "execution_count": 5,
   "metadata": {},
   "outputs": [
    {
     "data": {
      "text/plain": [
       "(1, 6, 3628800)"
      ]
     },
     "execution_count": 5,
     "metadata": {},
     "output_type": "execute_result"
    }
   ],
   "source": [
    "fact(1),fact(3),fact(10)"
   ]
  },
  {
   "cell_type": "markdown",
   "metadata": {},
   "source": [
    "查看递归函数的内部"
   ]
  },
  {
   "cell_type": "code",
   "execution_count": 8,
   "metadata": {},
   "outputs": [
    {
     "name": "stdout",
     "output_type": "stream",
     "text": [
      "step 4\n",
      "step 3\n",
      "step 2\n",
      "step 1\n"
     ]
    },
    {
     "data": {
      "text/plain": [
       "24"
      ]
     },
     "execution_count": 8,
     "metadata": {},
     "output_type": "execute_result"
    }
   ],
   "source": [
    "def fact2(n):\n",
    "    if n==1:\n",
    "        print('step',1)\n",
    "        return 1\n",
    "    else:\n",
    "        print('step',n)\n",
    "        return n*fact(n-1)\n",
    "fact2(4)"
   ]
  },
  {
   "cell_type": "markdown",
   "metadata": {},
   "source": [
    "#### 溢出\n",
    "使用递归函数需要注意防止栈溢出。在计算机中，函数调用是通过栈（stack）这种数据结构实现的\n",
    "- 每当进入一个函数调用，栈就会加一层栈帧，\n",
    "- 每当函数返回，栈就会减一层栈帧。\n",
    "- 由于栈的大小不是无限的，所以，递归调用的次数过多，会导致栈溢出"
   ]
  },
  {
   "cell_type": "code",
   "execution_count": 14,
   "metadata": {},
   "outputs": [],
   "source": [
    "#fact(10000)"
   ]
  },
  {
   "cell_type": "markdown",
   "metadata": {},
   "source": [
    "#### 尾递归\n",
    "尾递归是指，在函数返回的时候，调用自身本身，并且，return语句不能包含表达式。这样，编译器或者解释器就可以把尾递归做优化，使递归本身无论调用多少次，都只占用一个栈帧，不会出现栈溢出的情况。  \n",
    "尾递归和循环的效果是一样的  \n",
    "大多数编程语言没有针对尾递归做优化，Python解释器也没有做优化"
   ]
  },
  {
   "cell_type": "code",
   "execution_count": 15,
   "metadata": {},
   "outputs": [
    {
     "data": {
      "text/plain": [
       "120"
      ]
     },
     "execution_count": 15,
     "metadata": {},
     "output_type": "execute_result"
    }
   ],
   "source": [
    "def fact(n):\n",
    "    return fact_iter(n, 1)\n",
    "\n",
    "def fact_iter(num, product):\n",
    "    if num == 1:\n",
    "        return product\n",
    "    return fact_iter(num - 1, num * product)\n",
    "fact(5)"
   ]
  },
  {
   "cell_type": "markdown",
   "metadata": {},
   "source": [
    "## 高级特性\n",
    "1行代码能实现的功能，决不写5行代码。请始终牢记，代码越少，开发效率越高。\n",
    "### 切片"
   ]
  },
  {
   "cell_type": "code",
   "execution_count": null,
   "metadata": {},
   "outputs": [],
   "source": []
  }
 ],
 "metadata": {
  "kernelspec": {
   "display_name": "Python 3",
   "language": "python",
   "name": "python3"
  },
  "language_info": {
   "codemirror_mode": {
    "name": "ipython",
    "version": 3
   },
   "file_extension": ".py",
   "mimetype": "text/x-python",
   "name": "python",
   "nbconvert_exporter": "python",
   "pygments_lexer": "ipython3",
   "version": "3.7.3"
  },
  "toc": {
   "base_numbering": 1,
   "nav_menu": {},
   "number_sections": true,
   "sideBar": true,
   "skip_h1_title": true,
   "title_cell": "Table of Contents",
   "title_sidebar": "Contents",
   "toc_cell": true,
   "toc_position": {},
   "toc_section_display": true,
   "toc_window_display": true
  }
 },
 "nbformat": 4,
 "nbformat_minor": 2
}
