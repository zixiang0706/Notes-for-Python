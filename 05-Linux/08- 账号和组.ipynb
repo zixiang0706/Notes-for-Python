{
 "cells": [
  {
   "cell_type": "markdown",
   "metadata": {
    "toc": true
   },
   "source": [
    "<h1>Table of Contents<span class=\"tocSkip\"></span></h1>\n",
    "<div class=\"toc\"><ul class=\"toc-item\"><li><span><a href=\"#用户和组\" data-toc-modified-id=\"用户和组-1\"><span class=\"toc-item-num\">1&nbsp;&nbsp;</span>用户和组</a></span><ul class=\"toc-item\"><li><span><a href=\"#linux系统用户管理\" data-toc-modified-id=\"linux系统用户管理-1.1\"><span class=\"toc-item-num\">1.1&nbsp;&nbsp;</span>linux系统用户管理</a></span><ul class=\"toc-item\"><li><span><a href=\"#查看\" data-toc-modified-id=\"查看-1.1.1\"><span class=\"toc-item-num\">1.1.1&nbsp;&nbsp;</span>查看</a></span></li><li><span><a href=\"#添加用户\" data-toc-modified-id=\"添加用户-1.1.2\"><span class=\"toc-item-num\">1.1.2&nbsp;&nbsp;</span>添加用户</a></span></li><li><span><a href=\"#删除用户\" data-toc-modified-id=\"删除用户-1.1.3\"><span class=\"toc-item-num\">1.1.3&nbsp;&nbsp;</span>删除用户</a></span></li><li><span><a href=\"#修改用户信息\" data-toc-modified-id=\"修改用户信息-1.1.4\"><span class=\"toc-item-num\">1.1.4&nbsp;&nbsp;</span>修改用户信息</a></span></li><li><span><a href=\"#设置密码\" data-toc-modified-id=\"设置密码-1.1.5\"><span class=\"toc-item-num\">1.1.5&nbsp;&nbsp;</span>设置密码</a></span></li></ul></li><li><span><a href=\"#文件系统\" data-toc-modified-id=\"文件系统-1.2\"><span class=\"toc-item-num\">1.2&nbsp;&nbsp;</span>文件系统</a></span><ul class=\"toc-item\"><li><span><a href=\"#硬盘的组成\" data-toc-modified-id=\"硬盘的组成-1.2.1\"><span class=\"toc-item-num\">1.2.1&nbsp;&nbsp;</span>硬盘的组成</a></span></li><li><span><a href=\"#软硬链接\" data-toc-modified-id=\"软硬链接-1.2.2\"><span class=\"toc-item-num\">1.2.2&nbsp;&nbsp;</span>软硬链接</a></span></li><li><span><a href=\"#xfs-ext4的区别\" data-toc-modified-id=\"xfs-ext4的区别-1.2.3\"><span class=\"toc-item-num\">1.2.3&nbsp;&nbsp;</span>xfs ext4的区别</a></span></li></ul></li><li><span><a href=\"#文件目录\" data-toc-modified-id=\"文件目录-1.3\"><span class=\"toc-item-num\">1.3&nbsp;&nbsp;</span>文件目录</a></span><ul class=\"toc-item\"><li><span><a href=\"#目录结构\" data-toc-modified-id=\"目录结构-1.3.1\"><span class=\"toc-item-num\">1.3.1&nbsp;&nbsp;</span>目录结构</a></span></li><li><span><a href=\"#相对路径和绝对路径\" data-toc-modified-id=\"相对路径和绝对路径-1.3.2\"><span class=\"toc-item-num\">1.3.2&nbsp;&nbsp;</span>相对路径和绝对路径</a></span></li><li><span><a href=\"#文件查看命令\" data-toc-modified-id=\"文件查看命令-1.3.3\"><span class=\"toc-item-num\">1.3.3&nbsp;&nbsp;</span>文件查看命令</a></span></li><li><span><a href=\"#文件创建/删除/移动/复制\" data-toc-modified-id=\"文件创建/删除/移动/复制-1.3.4\"><span class=\"toc-item-num\">1.3.4&nbsp;&nbsp;</span>文件创建/删除/移动/复制</a></span></li><li><span><a href=\"#文件隐藏属性\" data-toc-modified-id=\"文件隐藏属性-1.3.5\"><span class=\"toc-item-num\">1.3.5&nbsp;&nbsp;</span>文件隐藏属性</a></span></li></ul></li></ul></li><li><span><a href=\"#权限管理\" data-toc-modified-id=\"权限管理-2\"><span class=\"toc-item-num\">2&nbsp;&nbsp;</span>权限管理</a></span><ul class=\"toc-item\"><li><span><a href=\"#权限\" data-toc-modified-id=\"权限-2.1\"><span class=\"toc-item-num\">2.1&nbsp;&nbsp;</span>权限</a></span><ul class=\"toc-item\"><li><span><a href=\"#第一位\" data-toc-modified-id=\"第一位-2.1.1\"><span class=\"toc-item-num\">2.1.1&nbsp;&nbsp;</span>第一位</a></span></li><li><span><a href=\"#二三四位\" data-toc-modified-id=\"二三四位-2.1.2\"><span class=\"toc-item-num\">2.1.2&nbsp;&nbsp;</span>二三四位</a></span></li><li><span><a href=\"#chmod\" data-toc-modified-id=\"chmod-2.1.3\"><span class=\"toc-item-num\">2.1.3&nbsp;&nbsp;</span>chmod</a></span></li><li><span><a href=\"#特殊属性\" data-toc-modified-id=\"特殊属性-2.1.4\"><span class=\"toc-item-num\">2.1.4&nbsp;&nbsp;</span>特殊属性</a></span></li></ul></li></ul></li><li><span><a href=\"#文件归档和压缩\" data-toc-modified-id=\"文件归档和压缩-3\"><span class=\"toc-item-num\">3&nbsp;&nbsp;</span>文件归档和压缩</a></span><ul class=\"toc-item\"><li><span><a href=\"#tar\" data-toc-modified-id=\"tar-3.1\"><span class=\"toc-item-num\">3.1&nbsp;&nbsp;</span>tar</a></span></li></ul></li></ul></div>"
   ]
  },
  {
   "cell_type": "markdown",
   "metadata": {},
   "source": [
    "# 用户和组\n",
    "## linux系统用户管理\n",
    "- root: UID 0\n",
    "- local: UID 1000+\n",
    "- system  UID 1-1000\n",
    "\n",
    "### 查看\n",
    "- 查看用户 `vim /etc/passwd`\n",
    "- 查看密码 `vim /etc/shadow`\n",
    "\n",
    "### 添加用户\n",
    "- useradd `useradd -d /opt/sam -s /bin/sh sam`\n",
    "- 查看user的组 `id sam`\n",
    "- 查看账号信息 `tail -1 /etc/passwd`\n",
    "\n",
    "指定uid，指定起始组root，附加组ftp\n",
    "- `useradd -u 2010 -g root -G ftp -s /bin/sh test`\n",
    "\n",
    "### 删除用户\n",
    "删除用户+删除宿主目录\n",
    "- `userdel -r test` 两个一起删除\n",
    "\n",
    "### 修改用户信息\n",
    "- usermod 选项和useradd一致，-u\n",
    "\n",
    "### 设置密码\n",
    "- `passwd sam`\n",
    "- `echo 123456 | passwd --stdin sam`\n"
   ]
  },
  {
   "cell_type": "markdown",
   "metadata": {},
   "source": [
    "## 文件系统\n",
    "- file name\n",
    "- inode\n",
    "### 硬盘的组成\n",
    "### 软硬链接\n",
    "- 硬链接 `ln a.txt b.txt`\n",
    "    - 只针对文件，不针对文件件\n",
    "    - 不能夸分区\n",
    "    - 删了a.txt 不影响b.txt\n",
    "- 软链接 `lb -s a.txt b.txt`\n",
    "    - 只针对名字链接\n",
    "    - a.txt删了，影响b\n",
    "    - 可以跨分区\n",
    "    \n",
    "### xfs ext4的区别\n",
    "-xfs\n",
    "    - red hat\n",
    "    - support mass data\n",
    "    - faster\n",
    "    - robust, data could recover when accidental power failure\n",
    "    - bandwidth\n",
    "-ext4\n",
    "    - linux\n",
    "    \n",
    "\n",
    "    "
   ]
  },
  {
   "cell_type": "code",
   "execution_count": 1,
   "metadata": {},
   "outputs": [
    {
     "name": "stdout",
     "output_type": "stream",
     "text": [
      "16777220 695616 -rw-r--r-- 1 root wheel 0 6804 \"Jun 16 12:47:10 2019\" \"Aug 18 05:54:18 2018\" \"Sep 21 14:35:00 2018\" \"Aug 18 05:54:18 2018\" 4096 0 0x20 /etc/passwd\r\n"
     ]
    }
   ],
   "source": [
    "!stat /etc/passwd"
   ]
  },
  {
   "cell_type": "markdown",
   "metadata": {},
   "source": [
    "## 文件目录\n",
    "### 目录结构\n",
    "- / 根目录，所有文件的开始，只有root用户可以更改\n",
    "- /home 放置普通用户的目录\n",
    "- /root root用户的家\n",
    "- /dev 存放设备文件，硬件设备\n",
    "- /usr 存放应用文件，安装软件\n",
    "    - bin 二进制文件\n",
    "    - etc 配置文件\n",
    "    - include 引用的头文件，.h\n",
    "    - lib 32位的库文件\n",
    "    - src 核心程序的源代码\n",
    "- /etc 系统管理的配置文件\n",
    "    - host\n",
    "    - resolv dns配置文件\n",
    "    - cron \n",
    "    - profile 环境变量/全局变量\n",
    "- /boot 启动文件\n",
    "- /lib 动态.so/静态.a\n",
    "- /var log file\n",
    "- /temp 临时文件 \n",
    "-/proc 虚拟映射 系统的信息\n",
    "    - cpu\n",
    "    - mem\n",
    "    - filesystem\n",
    "    - modules 加载的模块\n",
    "    - stat 系统信息\n",
    "- /bin 普通可执行命令\n",
    "- /sbin 只有root能用的可执行命令\n",
    "### 相对路径和绝对路径\n",
    "绝对路径准确性高\n",
    "- 绝对路径：\n",
    "    - 从/ ~写起\n",
    "- 相对路径：\n",
    "    - ./ 当前文件夹\n",
    "    - ../ 上一个文件夹\n",
    "    \n",
    "### 文件查看命令\n",
    "- cat\n",
    "- nl\n",
    "- more\n",
    "- less\n",
    "- head\n",
    "- tail\n",
    "### 文件创建/删除/移动/复制\n",
    "- mkdir 创建文件夹\n",
    "    - mkdir -m 777 test 设置权限\n",
    "    - mkdir -p test/test1/test2 创建递归的文件夹\n",
    "    - ll -d test\n",
    "- touch 创建文件\n",
    "    - echo 1234 > test.txt 覆盖\n",
    "    - echo 1234 >> test.txt 追加\n",
    "- rm 删除，-rf 删除文件夹\n",
    "    - f 强制，忽略不存在\n",
    "    - i interactive 交互式的\n",
    "    - r recursive 递归的\n",
    "- mv 移动\n",
    "- cp 复制\n",
    "    - f 强制\n",
    "    - r 递归\n",
    "### 文件隐藏属性\n",
    "- chattr 设置隐藏属性\n",
    "    - +/- 加/减一个特殊属性\n",
    "    - +a 不能被删除。只能看，不能写。（只能加？）\n",
    "    - +i 类似a\n",
    "- lsattr"
   ]
  },
  {
   "cell_type": "markdown",
   "metadata": {},
   "source": [
    "# 权限管理\n",
    "权限分成三种类型\n",
    "- 所有者\n",
    "- 用户组\n",
    "- 其他用户\n",
    "\n",
    "-rw-r--r--       1    andrew  staff 9.3K  6 16 10:25 01-07 基础  \n",
    "文件的类型和权限 链接数  文件所属用户和组 大小 修改日期           文件名\n",
    "\n",
    "## 权限\n",
    "### 第一位\n",
    "- d 目录\n",
    "- l 软链接\n",
    "- /- 文件\n",
    "- c 硬件设备\n",
    "- b 块设备，可存储\n",
    "\n",
    "### 二三四位\n",
    "- r read读\n",
    "- w write写\n",
    "- x execute执行\n",
    "\n",
    "举例：  \n",
    "-rwxr-----： 只能所有者rw  \n",
    "-rwxr--r--：所有者可以rw，其他人可以r\n",
    "\n",
    "### chmod\n",
    "r-4 w-2 x-1 --0\n",
    "- chmod 775 /test 改权限\n",
    "    - chmod g+s /test 文件夹归到一个组\n",
    "    - chmod u+s /test 文件归到一个用户\n",
    "    - chmod o+t /test 粘滞位\n",
    "- chown stu2:study /test 改组\n",
    "\n",
    "### 特殊属性\n",
    "设置属主和属组  \n",
    "- suid： Set UID 用在文件和脚本  4\n",
    "- sgid： Set GID 用在目录  2\n",
    "- SBIT(sticky)粘滞位，一个组只能删自己的东西  1\n",
    "- chmod 4775 /test 特殊属性也一起改"
   ]
  },
  {
   "cell_type": "markdown",
   "metadata": {},
   "source": [
    "# 文件归档和压缩\n",
    "## tar\n",
    "- `tar -cvf archive.tar foo bar` 创建一个归档\n",
    "- `tar -cf archive.tar foo bar`\n",
    "- `tar -cf archive.tar foo bar`\n",
    "\n"
   ]
  },
  {
   "cell_type": "code",
   "execution_count": null,
   "metadata": {},
   "outputs": [],
   "source": []
  }
 ],
 "metadata": {
  "kernelspec": {
   "display_name": "Python 3",
   "language": "python",
   "name": "python3"
  },
  "language_info": {
   "codemirror_mode": {
    "name": "ipython",
    "version": 3
   },
   "file_extension": ".py",
   "mimetype": "text/x-python",
   "name": "python",
   "nbconvert_exporter": "python",
   "pygments_lexer": "ipython3",
   "version": "3.7.3"
  },
  "toc": {
   "base_numbering": 1,
   "nav_menu": {},
   "number_sections": true,
   "sideBar": true,
   "skip_h1_title": false,
   "title_cell": "Table of Contents",
   "title_sidebar": "Contents",
   "toc_cell": true,
   "toc_position": {},
   "toc_section_display": true,
   "toc_window_display": false
  }
 },
 "nbformat": 4,
 "nbformat_minor": 2
}
