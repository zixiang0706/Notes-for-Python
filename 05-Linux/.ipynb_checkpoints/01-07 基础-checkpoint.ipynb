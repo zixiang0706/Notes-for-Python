{
 "cells": [
  {
   "cell_type": "markdown",
   "metadata": {
    "toc": true
   },
   "source": [
    "<h1>Table of Contents<span class=\"tocSkip\"></span></h1>\n",
    "<div class=\"toc\"><ul class=\"toc-item\"><li><span><a href=\"#shell-命令的格式\" data-toc-modified-id=\"shell-命令的格式-1\"><span class=\"toc-item-num\">1&nbsp;&nbsp;</span>shell 命令的格式</a></span><ul class=\"toc-item\"><li><span><a href=\"#命令\" data-toc-modified-id=\"命令-1.1\"><span class=\"toc-item-num\">1.1&nbsp;&nbsp;</span>命令</a></span><ul class=\"toc-item\"><li><span><a href=\"#pwd\" data-toc-modified-id=\"pwd-1.1.1\"><span class=\"toc-item-num\">1.1.1&nbsp;&nbsp;</span>pwd</a></span></li><li><span><a href=\"#ls\" data-toc-modified-id=\"ls-1.1.2\"><span class=\"toc-item-num\">1.1.2&nbsp;&nbsp;</span>ls</a></span></li><li><span><a href=\"#cat\" data-toc-modified-id=\"cat-1.1.3\"><span class=\"toc-item-num\">1.1.3&nbsp;&nbsp;</span>cat</a></span></li><li><span><a href=\"#vim-nano\" data-toc-modified-id=\"vim-nano-1.1.4\"><span class=\"toc-item-num\">1.1.4&nbsp;&nbsp;</span>vim nano</a></span></li></ul></li><li><span><a href=\"#系统维护管理命令\" data-toc-modified-id=\"系统维护管理命令-1.2\"><span class=\"toc-item-num\">1.2&nbsp;&nbsp;</span>系统维护管理命令</a></span></li><li><span><a href=\"#VIM\" data-toc-modified-id=\"VIM-1.3\"><span class=\"toc-item-num\">1.3&nbsp;&nbsp;</span>VIM</a></span><ul class=\"toc-item\"><li><span><a href=\"#vim的基本要点：\" data-toc-modified-id=\"vim的基本要点：-1.3.1\"><span class=\"toc-item-num\">1.3.1&nbsp;&nbsp;</span>vim的基本要点：</a></span></li><li><span><a href=\"#基本操作：\" data-toc-modified-id=\"基本操作：-1.3.2\"><span class=\"toc-item-num\">1.3.2&nbsp;&nbsp;</span>基本操作：</a></span></li><li><span><a href=\"#行操作\" data-toc-modified-id=\"行操作-1.3.3\"><span class=\"toc-item-num\">1.3.3&nbsp;&nbsp;</span>行操作</a></span></li><li><span><a href=\"#定位\" data-toc-modified-id=\"定位-1.3.4\"><span class=\"toc-item-num\">1.3.4&nbsp;&nbsp;</span>定位</a></span></li><li><span><a href=\"#命令行模式\" data-toc-modified-id=\"命令行模式-1.3.5\"><span class=\"toc-item-num\">1.3.5&nbsp;&nbsp;</span>命令行模式</a></span></li><li><span><a href=\"#开发模式/V模式\" data-toc-modified-id=\"开发模式/V模式-1.3.6\"><span class=\"toc-item-num\">1.3.6&nbsp;&nbsp;</span>开发模式/V模式</a></span></li></ul></li><li><span><a href=\"#远程工具\" data-toc-modified-id=\"远程工具-1.4\"><span class=\"toc-item-num\">1.4&nbsp;&nbsp;</span>远程工具</a></span></li><li><span><a href=\"#硬件资源管理\" data-toc-modified-id=\"硬件资源管理-1.5\"><span class=\"toc-item-num\">1.5&nbsp;&nbsp;</span>硬件资源管理</a></span></li><li><span><a href=\"#外设设备使用\" data-toc-modified-id=\"外设设备使用-1.6\"><span class=\"toc-item-num\">1.6&nbsp;&nbsp;</span>外设设备使用</a></span></li></ul></li></ul></div>"
   ]
  },
  {
   "cell_type": "code",
   "execution_count": 8,
   "metadata": {},
   "outputs": [
    {
     "name": "stdout",
     "output_type": "stream",
     "text": [
      "andrew   ttys003  Jun 15 17:34 \r\n"
     ]
    }
   ],
   "source": [
    "!who am i"
   ]
  },
  {
   "cell_type": "code",
   "execution_count": 1,
   "metadata": {
    "scrolled": true
   },
   "outputs": [
    {
     "name": "stdout",
     "output_type": "stream",
     "text": [
      "# List of acceptable shells for chpass(1).\r\n",
      "# Ftpd will not allow users to connect who are not using\r\n",
      "# one of these shells.\r\n",
      "\r\n",
      "/bin/bash\r\n",
      "/bin/csh\r\n",
      "/bin/ksh\r\n",
      "/bin/sh\r\n",
      "/bin/tcsh\r\n",
      "/bin/zsh\r\n"
     ]
    }
   ],
   "source": [
    "!cat /etc/shells"
   ]
  },
  {
   "cell_type": "markdown",
   "metadata": {},
   "source": [
    "# shell 命令的格式\n",
    "- 命令字\n",
    "- 可选相\n",
    "- 参数\n",
    "## 命令\n",
    "### pwd\n",
    "查看当前位置"
   ]
  },
  {
   "cell_type": "code",
   "execution_count": 9,
   "metadata": {},
   "outputs": [
    {
     "name": "stdout",
     "output_type": "stream",
     "text": [
      "/Users/andrew/2-gitProjects/Notes-for-Python/05-Linux\r\n"
     ]
    }
   ],
   "source": [
    "!pwd"
   ]
  },
  {
   "cell_type": "code",
   "execution_count": 10,
   "metadata": {},
   "outputs": [
    {
     "name": "stdout",
     "output_type": "stream",
     "text": [
      "/Users/andrew/2-gitProjects/Notes-for-Python\n"
     ]
    }
   ],
   "source": [
    "cd .."
   ]
  },
  {
   "cell_type": "code",
   "execution_count": 11,
   "metadata": {},
   "outputs": [
    {
     "name": "stdout",
     "output_type": "stream",
     "text": [
      "/Users/andrew/2-gitProjects/Notes-for-Python\r\n"
     ]
    }
   ],
   "source": [
    "!pwd"
   ]
  },
  {
   "cell_type": "code",
   "execution_count": 13,
   "metadata": {},
   "outputs": [
    {
     "name": "stdout",
     "output_type": "stream",
     "text": [
      "/Users/andrew/2-gitProjects/Notes-for-Python\r\n"
     ]
    }
   ],
   "source": [
    "!cd ./05-Linux/\n",
    "!pwd"
   ]
  },
  {
   "cell_type": "markdown",
   "metadata": {},
   "source": [
    "### ls\n",
    "-a 查看隐藏文件\n",
    "-d 查看目录当前目录\n",
    "### cat\n",
    "查看文本内容\n",
    "### vim nano\n",
    "编辑内容"
   ]
  },
  {
   "cell_type": "markdown",
   "metadata": {},
   "source": [
    "## 系统维护管理命令\n",
    "- date：查看日期，设置日期\n",
    "- clear：清屏\n",
    "- man：查看帮助\n",
    "- who：当前用户\n",
    "- w：当前用户\n",
    "- uname：操作系统信息\n",
    "- uptime：历史系统任务队列信息\n",
    "- last：历史登录信息\n",
    "- dmesg：显示开机信息\n",
    "- free：显示系统内存状态"
   ]
  },
  {
   "cell_type": "markdown",
   "metadata": {},
   "source": [
    "## VIM\n",
    "可视化编辑器\n",
    "- 创建： touch test.txt\n",
    "- 编辑： vim test.txt\n",
    "- 查看： cat test.txt\n",
    "\n",
    "\n",
    "### vim的基本要点：\n",
    "- 刚进入是command-mode，按下i切换到insert-mode才能输入字符\n",
    "- 退出输入`:wq!`保存并退出\n",
    "\n",
    "### 基本操作：\n",
    "- 从command-mode进入到insert-mode有很多的方式，不同的方式，光标的位置会不一样iIaAoO\n",
    "- i 在这里插入\n",
    "- o 在下一行插入\n",
    "- x 删除字符\n",
    "- u 撤销一步 \n",
    "\n",
    "### 行操作\n",
    "- 光标去行首^\n",
    "- 光标去行尾$\n",
    "- 删除当前行 dd\n",
    "- 删除多行 2dd\n",
    "- 后面的全删 dG\n",
    "- 复制 yy\n",
    "- 粘贴 p\n",
    "- 复制多行 2yy \n",
    "\n",
    "### 定位\n",
    "- gg 首行\n",
    "- G 尾行\n",
    "- 2gg 第二行\n",
    "\n",
    "### 命令行模式\n",
    "- 用：开启调用\n",
    "- w 写入\n",
    "- q 退出，不保存\n",
    "- ！ 强制模式\n",
    "- wq！ 写入，并且强制退出\n",
    "- !+command 会调用这个command，如:!date\n",
    "- 替换：`%s/3/4/g`\n",
    "- `set nu`显示行号\n",
    "\n",
    "### 开发模式/V模式\n",
    "用来批量添加/删除注释\n",
    "添加\n",
    "1. 再command模式下,ctr+v,进入visual 模式\n",
    "2. 用箭头选中多行\n",
    "3. 输入I，输入#\n",
    "4. 按2次esc\n",
    "\n",
    "删除\n",
    "1. 再command模式下,ctr+v,进入visual 模式\n",
    "2. 用箭头选中多行\n",
    "3. 按下d，就会删除对应字符"
   ]
  },
  {
   "cell_type": "markdown",
   "metadata": {},
   "source": [
    "## 远程工具\n",
    "na\n",
    "## 硬件资源管理\n",
    "- pci设备\n",
    "    - 显卡 `dmesg |grep -i vga` -i指的是不区分大小写\n",
    "    - 网卡 `lspci |grep -i eth`\n",
    "    - 声卡 `lspci |grep -i vga`\n",
    "- CPU信息\n",
    "    - CPU `cat /proc/cpuinfo | grep 'pysical' |sort |uniq|wc -l`\n",
    "- 内存\n",
    "    - `free -m`\n",
    "    - `cat /proc/meminfo`\n",
    "- 磁盘分区\n",
    "    - `fdisk -l` 分区情况\n",
    "    - `df -h` 大小情况\n",
    "    - `du -h` 使用情况\n",
    "\n",
    "## 外设设备使用\n",
    "- linux下的硬件设备都是以文件的形式存在\n",
    "- 不同的硬件会有不同的文件类型\n",
    "- 设备文件在/dev下\n",
    "\n",
    "尝试挂载：\n",
    "1. 用mont 去/dev/xxxx下挂载到/xxxx `mount /dev/sr0 /mnt`(目录，设备)\n",
    "2. 查看挂载 `df`\n",
    "3. 卸载 `umount /mnt`"
   ]
  },
  {
   "cell_type": "markdown",
   "metadata": {},
   "source": []
  }
 ],
 "metadata": {
  "kernelspec": {
   "display_name": "Python 3",
   "language": "python",
   "name": "python3"
  },
  "language_info": {
   "codemirror_mode": {
    "name": "ipython",
    "version": 3
   },
   "file_extension": ".py",
   "mimetype": "text/x-python",
   "name": "python",
   "nbconvert_exporter": "python",
   "pygments_lexer": "ipython3",
   "version": "3.7.3"
  },
  "toc": {
   "base_numbering": 1,
   "nav_menu": {},
   "number_sections": true,
   "sideBar": true,
   "skip_h1_title": false,
   "title_cell": "Table of Contents",
   "title_sidebar": "Contents",
   "toc_cell": true,
   "toc_position": {},
   "toc_section_display": true,
   "toc_window_display": false
  }
 },
 "nbformat": 4,
 "nbformat_minor": 2
}
